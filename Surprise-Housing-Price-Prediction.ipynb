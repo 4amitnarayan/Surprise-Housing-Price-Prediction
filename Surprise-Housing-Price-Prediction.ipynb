{
 "cells": [
  {
   "cell_type": "markdown",
   "id": "e4b95587",
   "metadata": {},
   "source": [
    "# Surprise Housing - Advanced Regression\n",
    "\n",
    "\n",
    "## Problem Statement\n",
    "A US-based housing company named **Surprise Housing** has decided to enter the Australian market. The company uses data analytics to purchase houses at a **price below their actual values and flip them on at a higher price**. For the same purpose, the company has collected a data set from the sale of houses in Australia. The data is provided in the CSV file below.\n",
    "The company is looking at prospective properties to buy to enter the market. You are required to **build a regression model using regularisation** in order to predict the actual value of the prospective properties and decide whether to invest in them or not.\n",
    "\n",
    "**The Surprise Housing wants to know:**\n",
    "\n",
    "1. Which variables are significant in predicting the price of a house\n",
    "2. How well those variables describe the price of a house\n",
    "3. Also, determine the optimal value of lambda for ridge and lasso regression\n",
    "\n",
    "******************\n",
    "\n",
    "### Business Goal \n",
    "We are required to model the price of houses with the available independent variables. This model will then be used by the management to understand how exactly the prices vary with the variables. They can accordingly manipulate the strategy of the firm and concentrate on areas that will yield high returns. Further, the model will be a good way for management to understand the pricing dynamics of a new market.\n",
    "\n",
    "******************\n",
    "\n",
    "### Procedure:\n",
    "1. Step 1: Reading and Understanding the Data (EDA)\n",
    "2. Step 2: Visualising the Data\n",
    "    - Univarent Analysis\n",
    "    - Bivarent analysis\n",
    "    - Multivarent Analysis\n",
    "3. Step 3: Data Preparation\n",
    "4. Step 4: Splitting the Data into Training and Testing Sets\n",
    "5. Step 5: Building a linear model\n",
    "6. Step 6: Residual Analysis of the train data\n",
    "7. step 7: Applying Ridge and Lasso"
   ]
  },
  {
   "cell_type": "code",
   "execution_count": 1,
   "id": "8dd080a9",
   "metadata": {},
   "outputs": [],
   "source": [
    "# importing all the important\n",
    "import numpy as np #Libraray used for numerical python\n",
    "import pandas as pd #Libraray used for dataframe\n",
    "\n",
    "pd.options.display.max_rows = 100\n",
    "pd.options.display.max_columns = 100\n",
    "\n",
    "import matplotlib.pyplot as plt #Libraray used for plotting\n",
    "import seaborn as sns #Libraray used for data visualization\n",
    "\n",
    "# sklearn Libraray used for classification, predictive analytics\n",
    "from sklearn import linear_model\n",
    "from sklearn.linear_model import LinearRegression\n",
    "from sklearn.linear_model import Ridge\n",
    "from sklearn.linear_model import Lasso\n",
    "from sklearn.model_selection import GridSearchCV\n",
    "from sklearn.preprocessing import PolynomialFeatures\n",
    "from sklearn.linear_model import LinearRegression\n",
    "from sklearn.pipeline import Pipeline\n",
    "from sklearn import metrics #metrics module implements several loss, score, and utility functions to measure classification performance\n",
    "import os # Python os system function allows us to run a command in the Python script\n",
    "import random #contains a number of random number generation-related functions\n",
    "\n",
    "# hide warnings\n",
    "import warnings #Libraray used to ignore warnings due to version problems\n",
    "warnings.filterwarnings('ignore')\n",
    "\n",
    "from sklearn.metrics import r2_score, mean_squared_error"
   ]
  },
  {
   "cell_type": "markdown",
   "id": "343e444b",
   "metadata": {},
   "source": [
    "## Reading and Understanding the Data (EDA)\n",
    "a. Cleaning Data"
   ]
  },
  {
   "cell_type": "code",
   "execution_count": 2,
   "id": "c57b535a",
   "metadata": {},
   "outputs": [
    {
     "data": {
      "text/html": [
       "<div>\n",
       "<style scoped>\n",
       "    .dataframe tbody tr th:only-of-type {\n",
       "        vertical-align: middle;\n",
       "    }\n",
       "\n",
       "    .dataframe tbody tr th {\n",
       "        vertical-align: top;\n",
       "    }\n",
       "\n",
       "    .dataframe thead th {\n",
       "        text-align: right;\n",
       "    }\n",
       "</style>\n",
       "<table border=\"1\" class=\"dataframe\">\n",
       "  <thead>\n",
       "    <tr style=\"text-align: right;\">\n",
       "      <th></th>\n",
       "      <th>Id</th>\n",
       "      <th>MSSubClass</th>\n",
       "      <th>MSZoning</th>\n",
       "      <th>LotFrontage</th>\n",
       "      <th>LotArea</th>\n",
       "      <th>Street</th>\n",
       "      <th>Alley</th>\n",
       "      <th>LotShape</th>\n",
       "      <th>LandContour</th>\n",
       "      <th>Utilities</th>\n",
       "      <th>LotConfig</th>\n",
       "      <th>LandSlope</th>\n",
       "      <th>Neighborhood</th>\n",
       "      <th>Condition1</th>\n",
       "      <th>Condition2</th>\n",
       "      <th>BldgType</th>\n",
       "      <th>HouseStyle</th>\n",
       "      <th>OverallQual</th>\n",
       "      <th>OverallCond</th>\n",
       "      <th>YearBuilt</th>\n",
       "      <th>YearRemodAdd</th>\n",
       "      <th>RoofStyle</th>\n",
       "      <th>RoofMatl</th>\n",
       "      <th>Exterior1st</th>\n",
       "      <th>Exterior2nd</th>\n",
       "      <th>MasVnrType</th>\n",
       "      <th>MasVnrArea</th>\n",
       "      <th>ExterQual</th>\n",
       "      <th>ExterCond</th>\n",
       "      <th>Foundation</th>\n",
       "      <th>BsmtQual</th>\n",
       "      <th>BsmtCond</th>\n",
       "      <th>BsmtExposure</th>\n",
       "      <th>BsmtFinType1</th>\n",
       "      <th>BsmtFinSF1</th>\n",
       "      <th>BsmtFinType2</th>\n",
       "      <th>BsmtFinSF2</th>\n",
       "      <th>BsmtUnfSF</th>\n",
       "      <th>TotalBsmtSF</th>\n",
       "      <th>Heating</th>\n",
       "      <th>HeatingQC</th>\n",
       "      <th>CentralAir</th>\n",
       "      <th>Electrical</th>\n",
       "      <th>1stFlrSF</th>\n",
       "      <th>2ndFlrSF</th>\n",
       "      <th>LowQualFinSF</th>\n",
       "      <th>GrLivArea</th>\n",
       "      <th>BsmtFullBath</th>\n",
       "      <th>BsmtHalfBath</th>\n",
       "      <th>FullBath</th>\n",
       "      <th>HalfBath</th>\n",
       "      <th>BedroomAbvGr</th>\n",
       "      <th>KitchenAbvGr</th>\n",
       "      <th>KitchenQual</th>\n",
       "      <th>TotRmsAbvGrd</th>\n",
       "      <th>Functional</th>\n",
       "      <th>Fireplaces</th>\n",
       "      <th>FireplaceQu</th>\n",
       "      <th>GarageType</th>\n",
       "      <th>GarageYrBlt</th>\n",
       "      <th>GarageFinish</th>\n",
       "      <th>GarageCars</th>\n",
       "      <th>GarageArea</th>\n",
       "      <th>GarageQual</th>\n",
       "      <th>GarageCond</th>\n",
       "      <th>PavedDrive</th>\n",
       "      <th>WoodDeckSF</th>\n",
       "      <th>OpenPorchSF</th>\n",
       "      <th>EnclosedPorch</th>\n",
       "      <th>3SsnPorch</th>\n",
       "      <th>ScreenPorch</th>\n",
       "      <th>PoolArea</th>\n",
       "      <th>PoolQC</th>\n",
       "      <th>Fence</th>\n",
       "      <th>MiscFeature</th>\n",
       "      <th>MiscVal</th>\n",
       "      <th>MoSold</th>\n",
       "      <th>YrSold</th>\n",
       "      <th>SaleType</th>\n",
       "      <th>SaleCondition</th>\n",
       "      <th>SalePrice</th>\n",
       "    </tr>\n",
       "  </thead>\n",
       "  <tbody>\n",
       "    <tr>\n",
       "      <th>0</th>\n",
       "      <td>1</td>\n",
       "      <td>60</td>\n",
       "      <td>RL</td>\n",
       "      <td>65.0</td>\n",
       "      <td>8450</td>\n",
       "      <td>Pave</td>\n",
       "      <td>NaN</td>\n",
       "      <td>Reg</td>\n",
       "      <td>Lvl</td>\n",
       "      <td>AllPub</td>\n",
       "      <td>Inside</td>\n",
       "      <td>Gtl</td>\n",
       "      <td>CollgCr</td>\n",
       "      <td>Norm</td>\n",
       "      <td>Norm</td>\n",
       "      <td>1Fam</td>\n",
       "      <td>2Story</td>\n",
       "      <td>7</td>\n",
       "      <td>5</td>\n",
       "      <td>2003</td>\n",
       "      <td>2003</td>\n",
       "      <td>Gable</td>\n",
       "      <td>CompShg</td>\n",
       "      <td>VinylSd</td>\n",
       "      <td>VinylSd</td>\n",
       "      <td>BrkFace</td>\n",
       "      <td>196.0</td>\n",
       "      <td>Gd</td>\n",
       "      <td>TA</td>\n",
       "      <td>PConc</td>\n",
       "      <td>Gd</td>\n",
       "      <td>TA</td>\n",
       "      <td>No</td>\n",
       "      <td>GLQ</td>\n",
       "      <td>706</td>\n",
       "      <td>Unf</td>\n",
       "      <td>0</td>\n",
       "      <td>150</td>\n",
       "      <td>856</td>\n",
       "      <td>GasA</td>\n",
       "      <td>Ex</td>\n",
       "      <td>Y</td>\n",
       "      <td>SBrkr</td>\n",
       "      <td>856</td>\n",
       "      <td>854</td>\n",
       "      <td>0</td>\n",
       "      <td>1710</td>\n",
       "      <td>1</td>\n",
       "      <td>0</td>\n",
       "      <td>2</td>\n",
       "      <td>1</td>\n",
       "      <td>3</td>\n",
       "      <td>1</td>\n",
       "      <td>Gd</td>\n",
       "      <td>8</td>\n",
       "      <td>Typ</td>\n",
       "      <td>0</td>\n",
       "      <td>NaN</td>\n",
       "      <td>Attchd</td>\n",
       "      <td>2003.0</td>\n",
       "      <td>RFn</td>\n",
       "      <td>2</td>\n",
       "      <td>548</td>\n",
       "      <td>TA</td>\n",
       "      <td>TA</td>\n",
       "      <td>Y</td>\n",
       "      <td>0</td>\n",
       "      <td>61</td>\n",
       "      <td>0</td>\n",
       "      <td>0</td>\n",
       "      <td>0</td>\n",
       "      <td>0</td>\n",
       "      <td>NaN</td>\n",
       "      <td>NaN</td>\n",
       "      <td>NaN</td>\n",
       "      <td>0</td>\n",
       "      <td>2</td>\n",
       "      <td>2008</td>\n",
       "      <td>WD</td>\n",
       "      <td>Normal</td>\n",
       "      <td>208500</td>\n",
       "    </tr>\n",
       "    <tr>\n",
       "      <th>1</th>\n",
       "      <td>2</td>\n",
       "      <td>20</td>\n",
       "      <td>RL</td>\n",
       "      <td>80.0</td>\n",
       "      <td>9600</td>\n",
       "      <td>Pave</td>\n",
       "      <td>NaN</td>\n",
       "      <td>Reg</td>\n",
       "      <td>Lvl</td>\n",
       "      <td>AllPub</td>\n",
       "      <td>FR2</td>\n",
       "      <td>Gtl</td>\n",
       "      <td>Veenker</td>\n",
       "      <td>Feedr</td>\n",
       "      <td>Norm</td>\n",
       "      <td>1Fam</td>\n",
       "      <td>1Story</td>\n",
       "      <td>6</td>\n",
       "      <td>8</td>\n",
       "      <td>1976</td>\n",
       "      <td>1976</td>\n",
       "      <td>Gable</td>\n",
       "      <td>CompShg</td>\n",
       "      <td>MetalSd</td>\n",
       "      <td>MetalSd</td>\n",
       "      <td>None</td>\n",
       "      <td>0.0</td>\n",
       "      <td>TA</td>\n",
       "      <td>TA</td>\n",
       "      <td>CBlock</td>\n",
       "      <td>Gd</td>\n",
       "      <td>TA</td>\n",
       "      <td>Gd</td>\n",
       "      <td>ALQ</td>\n",
       "      <td>978</td>\n",
       "      <td>Unf</td>\n",
       "      <td>0</td>\n",
       "      <td>284</td>\n",
       "      <td>1262</td>\n",
       "      <td>GasA</td>\n",
       "      <td>Ex</td>\n",
       "      <td>Y</td>\n",
       "      <td>SBrkr</td>\n",
       "      <td>1262</td>\n",
       "      <td>0</td>\n",
       "      <td>0</td>\n",
       "      <td>1262</td>\n",
       "      <td>0</td>\n",
       "      <td>1</td>\n",
       "      <td>2</td>\n",
       "      <td>0</td>\n",
       "      <td>3</td>\n",
       "      <td>1</td>\n",
       "      <td>TA</td>\n",
       "      <td>6</td>\n",
       "      <td>Typ</td>\n",
       "      <td>1</td>\n",
       "      <td>TA</td>\n",
       "      <td>Attchd</td>\n",
       "      <td>1976.0</td>\n",
       "      <td>RFn</td>\n",
       "      <td>2</td>\n",
       "      <td>460</td>\n",
       "      <td>TA</td>\n",
       "      <td>TA</td>\n",
       "      <td>Y</td>\n",
       "      <td>298</td>\n",
       "      <td>0</td>\n",
       "      <td>0</td>\n",
       "      <td>0</td>\n",
       "      <td>0</td>\n",
       "      <td>0</td>\n",
       "      <td>NaN</td>\n",
       "      <td>NaN</td>\n",
       "      <td>NaN</td>\n",
       "      <td>0</td>\n",
       "      <td>5</td>\n",
       "      <td>2007</td>\n",
       "      <td>WD</td>\n",
       "      <td>Normal</td>\n",
       "      <td>181500</td>\n",
       "    </tr>\n",
       "    <tr>\n",
       "      <th>2</th>\n",
       "      <td>3</td>\n",
       "      <td>60</td>\n",
       "      <td>RL</td>\n",
       "      <td>68.0</td>\n",
       "      <td>11250</td>\n",
       "      <td>Pave</td>\n",
       "      <td>NaN</td>\n",
       "      <td>IR1</td>\n",
       "      <td>Lvl</td>\n",
       "      <td>AllPub</td>\n",
       "      <td>Inside</td>\n",
       "      <td>Gtl</td>\n",
       "      <td>CollgCr</td>\n",
       "      <td>Norm</td>\n",
       "      <td>Norm</td>\n",
       "      <td>1Fam</td>\n",
       "      <td>2Story</td>\n",
       "      <td>7</td>\n",
       "      <td>5</td>\n",
       "      <td>2001</td>\n",
       "      <td>2002</td>\n",
       "      <td>Gable</td>\n",
       "      <td>CompShg</td>\n",
       "      <td>VinylSd</td>\n",
       "      <td>VinylSd</td>\n",
       "      <td>BrkFace</td>\n",
       "      <td>162.0</td>\n",
       "      <td>Gd</td>\n",
       "      <td>TA</td>\n",
       "      <td>PConc</td>\n",
       "      <td>Gd</td>\n",
       "      <td>TA</td>\n",
       "      <td>Mn</td>\n",
       "      <td>GLQ</td>\n",
       "      <td>486</td>\n",
       "      <td>Unf</td>\n",
       "      <td>0</td>\n",
       "      <td>434</td>\n",
       "      <td>920</td>\n",
       "      <td>GasA</td>\n",
       "      <td>Ex</td>\n",
       "      <td>Y</td>\n",
       "      <td>SBrkr</td>\n",
       "      <td>920</td>\n",
       "      <td>866</td>\n",
       "      <td>0</td>\n",
       "      <td>1786</td>\n",
       "      <td>1</td>\n",
       "      <td>0</td>\n",
       "      <td>2</td>\n",
       "      <td>1</td>\n",
       "      <td>3</td>\n",
       "      <td>1</td>\n",
       "      <td>Gd</td>\n",
       "      <td>6</td>\n",
       "      <td>Typ</td>\n",
       "      <td>1</td>\n",
       "      <td>TA</td>\n",
       "      <td>Attchd</td>\n",
       "      <td>2001.0</td>\n",
       "      <td>RFn</td>\n",
       "      <td>2</td>\n",
       "      <td>608</td>\n",
       "      <td>TA</td>\n",
       "      <td>TA</td>\n",
       "      <td>Y</td>\n",
       "      <td>0</td>\n",
       "      <td>42</td>\n",
       "      <td>0</td>\n",
       "      <td>0</td>\n",
       "      <td>0</td>\n",
       "      <td>0</td>\n",
       "      <td>NaN</td>\n",
       "      <td>NaN</td>\n",
       "      <td>NaN</td>\n",
       "      <td>0</td>\n",
       "      <td>9</td>\n",
       "      <td>2008</td>\n",
       "      <td>WD</td>\n",
       "      <td>Normal</td>\n",
       "      <td>223500</td>\n",
       "    </tr>\n",
       "    <tr>\n",
       "      <th>3</th>\n",
       "      <td>4</td>\n",
       "      <td>70</td>\n",
       "      <td>RL</td>\n",
       "      <td>60.0</td>\n",
       "      <td>9550</td>\n",
       "      <td>Pave</td>\n",
       "      <td>NaN</td>\n",
       "      <td>IR1</td>\n",
       "      <td>Lvl</td>\n",
       "      <td>AllPub</td>\n",
       "      <td>Corner</td>\n",
       "      <td>Gtl</td>\n",
       "      <td>Crawfor</td>\n",
       "      <td>Norm</td>\n",
       "      <td>Norm</td>\n",
       "      <td>1Fam</td>\n",
       "      <td>2Story</td>\n",
       "      <td>7</td>\n",
       "      <td>5</td>\n",
       "      <td>1915</td>\n",
       "      <td>1970</td>\n",
       "      <td>Gable</td>\n",
       "      <td>CompShg</td>\n",
       "      <td>Wd Sdng</td>\n",
       "      <td>Wd Shng</td>\n",
       "      <td>None</td>\n",
       "      <td>0.0</td>\n",
       "      <td>TA</td>\n",
       "      <td>TA</td>\n",
       "      <td>BrkTil</td>\n",
       "      <td>TA</td>\n",
       "      <td>Gd</td>\n",
       "      <td>No</td>\n",
       "      <td>ALQ</td>\n",
       "      <td>216</td>\n",
       "      <td>Unf</td>\n",
       "      <td>0</td>\n",
       "      <td>540</td>\n",
       "      <td>756</td>\n",
       "      <td>GasA</td>\n",
       "      <td>Gd</td>\n",
       "      <td>Y</td>\n",
       "      <td>SBrkr</td>\n",
       "      <td>961</td>\n",
       "      <td>756</td>\n",
       "      <td>0</td>\n",
       "      <td>1717</td>\n",
       "      <td>1</td>\n",
       "      <td>0</td>\n",
       "      <td>1</td>\n",
       "      <td>0</td>\n",
       "      <td>3</td>\n",
       "      <td>1</td>\n",
       "      <td>Gd</td>\n",
       "      <td>7</td>\n",
       "      <td>Typ</td>\n",
       "      <td>1</td>\n",
       "      <td>Gd</td>\n",
       "      <td>Detchd</td>\n",
       "      <td>1998.0</td>\n",
       "      <td>Unf</td>\n",
       "      <td>3</td>\n",
       "      <td>642</td>\n",
       "      <td>TA</td>\n",
       "      <td>TA</td>\n",
       "      <td>Y</td>\n",
       "      <td>0</td>\n",
       "      <td>35</td>\n",
       "      <td>272</td>\n",
       "      <td>0</td>\n",
       "      <td>0</td>\n",
       "      <td>0</td>\n",
       "      <td>NaN</td>\n",
       "      <td>NaN</td>\n",
       "      <td>NaN</td>\n",
       "      <td>0</td>\n",
       "      <td>2</td>\n",
       "      <td>2006</td>\n",
       "      <td>WD</td>\n",
       "      <td>Abnorml</td>\n",
       "      <td>140000</td>\n",
       "    </tr>\n",
       "    <tr>\n",
       "      <th>4</th>\n",
       "      <td>5</td>\n",
       "      <td>60</td>\n",
       "      <td>RL</td>\n",
       "      <td>84.0</td>\n",
       "      <td>14260</td>\n",
       "      <td>Pave</td>\n",
       "      <td>NaN</td>\n",
       "      <td>IR1</td>\n",
       "      <td>Lvl</td>\n",
       "      <td>AllPub</td>\n",
       "      <td>FR2</td>\n",
       "      <td>Gtl</td>\n",
       "      <td>NoRidge</td>\n",
       "      <td>Norm</td>\n",
       "      <td>Norm</td>\n",
       "      <td>1Fam</td>\n",
       "      <td>2Story</td>\n",
       "      <td>8</td>\n",
       "      <td>5</td>\n",
       "      <td>2000</td>\n",
       "      <td>2000</td>\n",
       "      <td>Gable</td>\n",
       "      <td>CompShg</td>\n",
       "      <td>VinylSd</td>\n",
       "      <td>VinylSd</td>\n",
       "      <td>BrkFace</td>\n",
       "      <td>350.0</td>\n",
       "      <td>Gd</td>\n",
       "      <td>TA</td>\n",
       "      <td>PConc</td>\n",
       "      <td>Gd</td>\n",
       "      <td>TA</td>\n",
       "      <td>Av</td>\n",
       "      <td>GLQ</td>\n",
       "      <td>655</td>\n",
       "      <td>Unf</td>\n",
       "      <td>0</td>\n",
       "      <td>490</td>\n",
       "      <td>1145</td>\n",
       "      <td>GasA</td>\n",
       "      <td>Ex</td>\n",
       "      <td>Y</td>\n",
       "      <td>SBrkr</td>\n",
       "      <td>1145</td>\n",
       "      <td>1053</td>\n",
       "      <td>0</td>\n",
       "      <td>2198</td>\n",
       "      <td>1</td>\n",
       "      <td>0</td>\n",
       "      <td>2</td>\n",
       "      <td>1</td>\n",
       "      <td>4</td>\n",
       "      <td>1</td>\n",
       "      <td>Gd</td>\n",
       "      <td>9</td>\n",
       "      <td>Typ</td>\n",
       "      <td>1</td>\n",
       "      <td>TA</td>\n",
       "      <td>Attchd</td>\n",
       "      <td>2000.0</td>\n",
       "      <td>RFn</td>\n",
       "      <td>3</td>\n",
       "      <td>836</td>\n",
       "      <td>TA</td>\n",
       "      <td>TA</td>\n",
       "      <td>Y</td>\n",
       "      <td>192</td>\n",
       "      <td>84</td>\n",
       "      <td>0</td>\n",
       "      <td>0</td>\n",
       "      <td>0</td>\n",
       "      <td>0</td>\n",
       "      <td>NaN</td>\n",
       "      <td>NaN</td>\n",
       "      <td>NaN</td>\n",
       "      <td>0</td>\n",
       "      <td>12</td>\n",
       "      <td>2008</td>\n",
       "      <td>WD</td>\n",
       "      <td>Normal</td>\n",
       "      <td>250000</td>\n",
       "    </tr>\n",
       "  </tbody>\n",
       "</table>\n",
       "</div>"
      ],
      "text/plain": [
       "   Id  MSSubClass MSZoning  LotFrontage  LotArea Street Alley LotShape  \\\n",
       "0   1          60       RL         65.0     8450   Pave   NaN      Reg   \n",
       "1   2          20       RL         80.0     9600   Pave   NaN      Reg   \n",
       "2   3          60       RL         68.0    11250   Pave   NaN      IR1   \n",
       "3   4          70       RL         60.0     9550   Pave   NaN      IR1   \n",
       "4   5          60       RL         84.0    14260   Pave   NaN      IR1   \n",
       "\n",
       "  LandContour Utilities LotConfig LandSlope Neighborhood Condition1  \\\n",
       "0         Lvl    AllPub    Inside       Gtl      CollgCr       Norm   \n",
       "1         Lvl    AllPub       FR2       Gtl      Veenker      Feedr   \n",
       "2         Lvl    AllPub    Inside       Gtl      CollgCr       Norm   \n",
       "3         Lvl    AllPub    Corner       Gtl      Crawfor       Norm   \n",
       "4         Lvl    AllPub       FR2       Gtl      NoRidge       Norm   \n",
       "\n",
       "  Condition2 BldgType HouseStyle  OverallQual  OverallCond  YearBuilt  \\\n",
       "0       Norm     1Fam     2Story            7            5       2003   \n",
       "1       Norm     1Fam     1Story            6            8       1976   \n",
       "2       Norm     1Fam     2Story            7            5       2001   \n",
       "3       Norm     1Fam     2Story            7            5       1915   \n",
       "4       Norm     1Fam     2Story            8            5       2000   \n",
       "\n",
       "   YearRemodAdd RoofStyle RoofMatl Exterior1st Exterior2nd MasVnrType  \\\n",
       "0          2003     Gable  CompShg     VinylSd     VinylSd    BrkFace   \n",
       "1          1976     Gable  CompShg     MetalSd     MetalSd       None   \n",
       "2          2002     Gable  CompShg     VinylSd     VinylSd    BrkFace   \n",
       "3          1970     Gable  CompShg     Wd Sdng     Wd Shng       None   \n",
       "4          2000     Gable  CompShg     VinylSd     VinylSd    BrkFace   \n",
       "\n",
       "   MasVnrArea ExterQual ExterCond Foundation BsmtQual BsmtCond BsmtExposure  \\\n",
       "0       196.0        Gd        TA      PConc       Gd       TA           No   \n",
       "1         0.0        TA        TA     CBlock       Gd       TA           Gd   \n",
       "2       162.0        Gd        TA      PConc       Gd       TA           Mn   \n",
       "3         0.0        TA        TA     BrkTil       TA       Gd           No   \n",
       "4       350.0        Gd        TA      PConc       Gd       TA           Av   \n",
       "\n",
       "  BsmtFinType1  BsmtFinSF1 BsmtFinType2  BsmtFinSF2  BsmtUnfSF  TotalBsmtSF  \\\n",
       "0          GLQ         706          Unf           0        150          856   \n",
       "1          ALQ         978          Unf           0        284         1262   \n",
       "2          GLQ         486          Unf           0        434          920   \n",
       "3          ALQ         216          Unf           0        540          756   \n",
       "4          GLQ         655          Unf           0        490         1145   \n",
       "\n",
       "  Heating HeatingQC CentralAir Electrical  1stFlrSF  2ndFlrSF  LowQualFinSF  \\\n",
       "0    GasA        Ex          Y      SBrkr       856       854             0   \n",
       "1    GasA        Ex          Y      SBrkr      1262         0             0   \n",
       "2    GasA        Ex          Y      SBrkr       920       866             0   \n",
       "3    GasA        Gd          Y      SBrkr       961       756             0   \n",
       "4    GasA        Ex          Y      SBrkr      1145      1053             0   \n",
       "\n",
       "   GrLivArea  BsmtFullBath  BsmtHalfBath  FullBath  HalfBath  BedroomAbvGr  \\\n",
       "0       1710             1             0         2         1             3   \n",
       "1       1262             0             1         2         0             3   \n",
       "2       1786             1             0         2         1             3   \n",
       "3       1717             1             0         1         0             3   \n",
       "4       2198             1             0         2         1             4   \n",
       "\n",
       "   KitchenAbvGr KitchenQual  TotRmsAbvGrd Functional  Fireplaces FireplaceQu  \\\n",
       "0             1          Gd             8        Typ           0         NaN   \n",
       "1             1          TA             6        Typ           1          TA   \n",
       "2             1          Gd             6        Typ           1          TA   \n",
       "3             1          Gd             7        Typ           1          Gd   \n",
       "4             1          Gd             9        Typ           1          TA   \n",
       "\n",
       "  GarageType  GarageYrBlt GarageFinish  GarageCars  GarageArea GarageQual  \\\n",
       "0     Attchd       2003.0          RFn           2         548         TA   \n",
       "1     Attchd       1976.0          RFn           2         460         TA   \n",
       "2     Attchd       2001.0          RFn           2         608         TA   \n",
       "3     Detchd       1998.0          Unf           3         642         TA   \n",
       "4     Attchd       2000.0          RFn           3         836         TA   \n",
       "\n",
       "  GarageCond PavedDrive  WoodDeckSF  OpenPorchSF  EnclosedPorch  3SsnPorch  \\\n",
       "0         TA          Y           0           61              0          0   \n",
       "1         TA          Y         298            0              0          0   \n",
       "2         TA          Y           0           42              0          0   \n",
       "3         TA          Y           0           35            272          0   \n",
       "4         TA          Y         192           84              0          0   \n",
       "\n",
       "   ScreenPorch  PoolArea PoolQC Fence MiscFeature  MiscVal  MoSold  YrSold  \\\n",
       "0            0         0    NaN   NaN         NaN        0       2    2008   \n",
       "1            0         0    NaN   NaN         NaN        0       5    2007   \n",
       "2            0         0    NaN   NaN         NaN        0       9    2008   \n",
       "3            0         0    NaN   NaN         NaN        0       2    2006   \n",
       "4            0         0    NaN   NaN         NaN        0      12    2008   \n",
       "\n",
       "  SaleType SaleCondition  SalePrice  \n",
       "0       WD        Normal     208500  \n",
       "1       WD        Normal     181500  \n",
       "2       WD        Normal     223500  \n",
       "3       WD       Abnorml     140000  \n",
       "4       WD        Normal     250000  "
      ]
     },
     "execution_count": 2,
     "metadata": {},
     "output_type": "execute_result"
    }
   ],
   "source": [
    "surprise_house_data = pd.read_csv(\"/Users/amitkumar/Desktop/Personal/COURSES/UpGrad/2022_Batch/Assignment/AdvancedRegression/House-Price-Prediction/train.csv\", encoding = 'utf-8')\n",
    "surprise_house_data.head()"
   ]
  },
  {
   "cell_type": "code",
   "execution_count": 3,
   "id": "b0e19e0d",
   "metadata": {},
   "outputs": [
    {
     "data": {
      "text/plain": [
       "(1460, 81)"
      ]
     },
     "execution_count": 3,
     "metadata": {},
     "output_type": "execute_result"
    }
   ],
   "source": [
    "# Check the dimensions\n",
    "surprise_house_data.shape"
   ]
  },
  {
   "cell_type": "markdown",
   "id": "652e56e8",
   "metadata": {},
   "source": [
    "### a. Cleaning Data"
   ]
  },
  {
   "cell_type": "code",
   "execution_count": 4,
   "id": "6a7d1289",
   "metadata": {},
   "outputs": [
    {
     "data": {
      "text/plain": [
       "FireplaceQu    47.26\n",
       "Fence          80.75\n",
       "Alley          93.77\n",
       "MiscFeature    96.30\n",
       "PoolQC         99.52\n",
       "dtype: float64"
      ]
     },
     "execution_count": 4,
     "metadata": {},
     "output_type": "execute_result"
    }
   ],
   "source": [
    "missing_value = round((surprise_house_data.isnull().sum()/surprise_house_data.shape[0])*100, 2)\n",
    "missing_value.loc[missing_value>20].sort_values()"
   ]
  },
  {
   "cell_type": "markdown",
   "id": "afcc34ae",
   "metadata": {},
   "source": [
    "- As we can see that five columns have more than 45% of missing values and will drop these 5 columns"
   ]
  },
  {
   "cell_type": "code",
   "execution_count": 5,
   "id": "fe05b377",
   "metadata": {},
   "outputs": [
    {
     "data": {
      "text/plain": [
       "(1460, 76)"
      ]
     },
     "execution_count": 5,
     "metadata": {},
     "output_type": "execute_result"
    }
   ],
   "source": [
    "surprise_house_data = surprise_house_data.drop(missing_value.loc[missing_value>20].index, axis=1)\n",
    "surprise_house_data.shape"
   ]
  },
  {
   "cell_type": "code",
   "execution_count": 6,
   "id": "fc9f2122",
   "metadata": {},
   "outputs": [
    {
     "data": {
      "text/plain": [
       "Electrical       0.07\n",
       "MasVnrType       0.55\n",
       "MasVnrArea       0.55\n",
       "BsmtQual         2.53\n",
       "BsmtCond         2.53\n",
       "BsmtFinType1     2.53\n",
       "BsmtExposure     2.60\n",
       "BsmtFinType2     2.60\n",
       "GarageType       5.55\n",
       "GarageYrBlt      5.55\n",
       "GarageFinish     5.55\n",
       "GarageQual       5.55\n",
       "GarageCond       5.55\n",
       "LotFrontage     17.74\n",
       "dtype: float64"
      ]
     },
     "execution_count": 6,
     "metadata": {},
     "output_type": "execute_result"
    }
   ],
   "source": [
    "missing_value = round((surprise_house_data.isnull().sum()/surprise_house_data.shape[0])*100,2)\n",
    "missing_value.loc[missing_value>0].sort_values()"
   ]
  },
  {
   "cell_type": "markdown",
   "id": "bac08d2a",
   "metadata": {},
   "source": [
    "- Here we can see LotFrontage having 17.74% missing value. And will get some insights \n",
    "- LotFrontage: Linear feet of street-connected to property"
   ]
  },
  {
   "cell_type": "code",
   "execution_count": 7,
   "id": "a7a6a82b",
   "metadata": {},
   "outputs": [
    {
     "data": {
      "text/plain": [
       "count    1201.000000\n",
       "mean       70.049958\n",
       "std        24.284752\n",
       "min        21.000000\n",
       "25%        59.000000\n",
       "50%        69.000000\n",
       "75%        80.000000\n",
       "max       313.000000\n",
       "Name: LotFrontage, dtype: float64"
      ]
     },
     "execution_count": 7,
     "metadata": {},
     "output_type": "execute_result"
    }
   ],
   "source": [
    "surprise_house_data.LotFrontage.describe()"
   ]
  },
  {
   "cell_type": "code",
   "execution_count": 8,
   "id": "35678d26",
   "metadata": {},
   "outputs": [
    {
     "data": {
      "text/plain": [
       "count    1201.000000\n",
       "mean       70.049958\n",
       "std        24.284752\n",
       "min        21.000000\n",
       "25%        59.000000\n",
       "50%        69.000000\n",
       "75%        80.000000\n",
       "max       313.000000\n",
       "Name: LotFrontage, dtype: float64"
      ]
     },
     "execution_count": 8,
     "metadata": {},
     "output_type": "execute_result"
    }
   ],
   "source": [
    "# To get the description of the dataset\n",
    "surprise_house_data.LotFrontage.describe()"
   ]
  },
  {
   "cell_type": "markdown",
   "id": "1f6497da",
   "metadata": {},
   "source": [
    "- We can clearly see that, we cannot impute any values in it, we will remove this variable cause it has 17% missing values"
   ]
  },
  {
   "cell_type": "code",
   "execution_count": 9,
   "id": "70d51e21",
   "metadata": {},
   "outputs": [
    {
     "data": {
      "text/plain": [
       "(1460, 75)"
      ]
     },
     "execution_count": 9,
     "metadata": {},
     "output_type": "execute_result"
    }
   ],
   "source": [
    "surprise_house_data = surprise_house_data.drop(\"LotFrontage\", axis=1)\n",
    "surprise_house_data.shape"
   ]
  },
  {
   "cell_type": "code",
   "execution_count": 10,
   "id": "400c02b8",
   "metadata": {},
   "outputs": [
    {
     "data": {
      "text/plain": [
       "Electrical      0.07\n",
       "MasVnrType      0.55\n",
       "MasVnrArea      0.55\n",
       "BsmtQual        2.53\n",
       "BsmtCond        2.53\n",
       "BsmtFinType1    2.53\n",
       "BsmtExposure    2.60\n",
       "BsmtFinType2    2.60\n",
       "GarageType      5.55\n",
       "GarageYrBlt     5.55\n",
       "GarageFinish    5.55\n",
       "GarageQual      5.55\n",
       "GarageCond      5.55\n",
       "dtype: float64"
      ]
     },
     "execution_count": 10,
     "metadata": {},
     "output_type": "execute_result"
    }
   ],
   "source": [
    "missing_value = round( (surprise_house_data.isnull().sum()/surprise_house_data.shape[0])*100,2)\n",
    "missing_value.loc[missing_value>0].sort_values()"
   ]
  },
  {
   "cell_type": "markdown",
   "id": "e40ac157",
   "metadata": {},
   "source": [
    "- Here we can see that some of the variables have an exact same missing value of 5.55% \n",
    "- We will go through it and get some insights"
   ]
  },
  {
   "cell_type": "code",
   "execution_count": 11,
   "id": "562e60f1",
   "metadata": {},
   "outputs": [
    {
     "name": "stdout",
     "output_type": "stream",
     "text": [
      "Attchd     870\n",
      "Detchd     387\n",
      "BuiltIn     88\n",
      "Basment     19\n",
      "CarPort      9\n",
      "2Types       6\n",
      "Name: GarageType, dtype: int64 \n",
      "\n",
      "2005.0    65\n",
      "2006.0    59\n",
      "2004.0    53\n",
      "2003.0    50\n",
      "2007.0    49\n",
      "1977.0    35\n",
      "1998.0    31\n",
      "1999.0    30\n",
      "2008.0    29\n",
      "1976.0    29\n",
      "2000.0    27\n",
      "2002.0    26\n",
      "1968.0    26\n",
      "1950.0    24\n",
      "1993.0    22\n",
      "2009.0    21\n",
      "1965.0    21\n",
      "1962.0    21\n",
      "1958.0    21\n",
      "1966.0    21\n",
      "2001.0    20\n",
      "1970.0    20\n",
      "1996.0    20\n",
      "1957.0    20\n",
      "1997.0    19\n",
      "1960.0    19\n",
      "1978.0    19\n",
      "1954.0    19\n",
      "1974.0    18\n",
      "1964.0    18\n",
      "1995.0    18\n",
      "1994.0    18\n",
      "1959.0    17\n",
      "1990.0    16\n",
      "1963.0    16\n",
      "1956.0    16\n",
      "1980.0    15\n",
      "1967.0    15\n",
      "1979.0    15\n",
      "1969.0    15\n",
      "1988.0    14\n",
      "1973.0    14\n",
      "1920.0    14\n",
      "1940.0    14\n",
      "1972.0    14\n",
      "1961.0    13\n",
      "1992.0    13\n",
      "1971.0    13\n",
      "1955.0    13\n",
      "1953.0    12\n",
      "1948.0    11\n",
      "1987.0    11\n",
      "1989.0    10\n",
      "1981.0    10\n",
      "1925.0    10\n",
      "1985.0    10\n",
      "1941.0    10\n",
      "1939.0     9\n",
      "1975.0     9\n",
      "1991.0     9\n",
      "1984.0     8\n",
      "1949.0     8\n",
      "1930.0     8\n",
      "1983.0     7\n",
      "1951.0     6\n",
      "1986.0     6\n",
      "1926.0     6\n",
      "1922.0     5\n",
      "1916.0     5\n",
      "1936.0     5\n",
      "1945.0     4\n",
      "1931.0     4\n",
      "1982.0     4\n",
      "1928.0     4\n",
      "1935.0     4\n",
      "1946.0     4\n",
      "1921.0     3\n",
      "2010.0     3\n",
      "1952.0     3\n",
      "1923.0     3\n",
      "1910.0     3\n",
      "1932.0     3\n",
      "1924.0     3\n",
      "1938.0     3\n",
      "1937.0     2\n",
      "1915.0     2\n",
      "1942.0     2\n",
      "1934.0     2\n",
      "1914.0     2\n",
      "1929.0     2\n",
      "1947.0     2\n",
      "1918.0     2\n",
      "1906.0     1\n",
      "1908.0     1\n",
      "1933.0     1\n",
      "1900.0     1\n",
      "1927.0     1\n",
      "Name: GarageYrBlt, dtype: int64 \n",
      "\n",
      "Unf    605\n",
      "RFn    422\n",
      "Fin    352\n",
      "Name: GarageFinish, dtype: int64 \n",
      "\n",
      "TA    1311\n",
      "Fa      48\n",
      "Gd      14\n",
      "Ex       3\n",
      "Po       3\n",
      "Name: GarageQual, dtype: int64 \n",
      "\n",
      "TA    1326\n",
      "Fa      35\n",
      "Gd       9\n",
      "Po       7\n",
      "Ex       2\n",
      "Name: GarageCond, dtype: int64 \n",
      "\n"
     ]
    }
   ],
   "source": [
    "missing_col = missing_value[missing_value>5].index\n",
    "for col in missing_col:\n",
    "    print(f\"{surprise_house_data[col].value_counts()} \\n\")"
   ]
  },
  {
   "cell_type": "code",
   "execution_count": 12,
   "id": "76a0f152",
   "metadata": {},
   "outputs": [
    {
     "data": {
      "text/plain": [
       "(81, 75)"
      ]
     },
     "execution_count": 12,
     "metadata": {},
     "output_type": "execute_result"
    }
   ],
   "source": [
    "missing5_per = surprise_house_data[(surprise_house_data[missing_col[0]].isnull() & surprise_house_data[missing_col[1]].isnull() \n",
    "                           & surprise_house_data[missing_col[2]].isnull() & surprise_house_data[missing_col[3]].isnull() \n",
    "                           & surprise_house_data[missing_col[4]].isnull()) ]\n",
    "missing5_per.shape"
   ]
  },
  {
   "cell_type": "code",
   "execution_count": 13,
   "id": "647dd970",
   "metadata": {},
   "outputs": [
    {
     "data": {
      "text/plain": [
       "5.55"
      ]
     },
     "execution_count": 13,
     "metadata": {},
     "output_type": "execute_result"
    }
   ],
   "source": [
    "round(missing5_per.shape[0]/surprise_house_data.shape[0] *100, 2)"
   ]
  },
  {
   "cell_type": "markdown",
   "id": "ef177787",
   "metadata": {},
   "source": [
    "- We found that **5.5%** of the missing data from **'GarageType', 'GarageFinish', 'GarageQual', 'GarageCond'** are **from the same Row.**\n",
    "- We cannot remove it because here when we use isnull(), it takes **NA as NULL**\n",
    "- But as per **Metadata**, they have mentioned **NA is \"No Garage\"**\n",
    "- We cannot remove the category. Insteed we will give diffent name for it like **NO-GA than NA**\n",
    "- However, **'GarageYrBlt'** is numeric(Date- Year garage was built), so for **NA**, we can use **YearBuilt** for it"
   ]
  },
  {
   "cell_type": "code",
   "execution_count": 14,
   "id": "5f0f282c",
   "metadata": {},
   "outputs": [],
   "source": [
    "for col in missing_col:\n",
    "    if col != \"GarageYrBlt\":\n",
    "        surprise_house_data[col] = surprise_house_data[col].apply(lambda x: \"NO-GA\" if x!=x else x)"
   ]
  },
  {
   "cell_type": "code",
   "execution_count": 15,
   "id": "1729a133",
   "metadata": {},
   "outputs": [],
   "source": [
    "def re_NA_t_BLDyr(year, buildyear):\n",
    "    if year != year:\n",
    "        return buildyear\n",
    "    return year"
   ]
  },
  {
   "cell_type": "code",
   "execution_count": 16,
   "id": "45a839cb",
   "metadata": {},
   "outputs": [],
   "source": [
    "surprise_house_data[\"GarageYrBlt\"] = list(map(re_NA_t_BLDyr, surprise_house_data[\"GarageYrBlt\"], surprise_house_data[\"YearBuilt\"]))"
   ]
  },
  {
   "cell_type": "markdown",
   "id": "046cc7e7",
   "metadata": {},
   "source": [
    "### Rechecking the Missing Values"
   ]
  },
  {
   "cell_type": "code",
   "execution_count": 17,
   "id": "cef3b8a2",
   "metadata": {},
   "outputs": [
    {
     "data": {
      "text/plain": [
       "Electrical      0.07\n",
       "MasVnrType      0.55\n",
       "MasVnrArea      0.55\n",
       "BsmtQual        2.53\n",
       "BsmtCond        2.53\n",
       "BsmtFinType1    2.53\n",
       "BsmtExposure    2.60\n",
       "BsmtFinType2    2.60\n",
       "dtype: float64"
      ]
     },
     "execution_count": 17,
     "metadata": {},
     "output_type": "execute_result"
    }
   ],
   "source": [
    "missing_value = round(surprise_house_data.isnull().sum()/surprise_house_data.shape[0] *100 ,2)\n",
    "missing_value.loc[missing_value>0].sort_values()"
   ]
  },
  {
   "cell_type": "markdown",
   "id": "4b37aa1f",
   "metadata": {},
   "source": [
    "- Here we can see that some of the variables have an missing value of 2.5 and above.\n",
    "- We will go through it and get some insights"
   ]
  },
  {
   "cell_type": "code",
   "execution_count": 18,
   "id": "7fbc2122",
   "metadata": {},
   "outputs": [
    {
     "name": "stdout",
     "output_type": "stream",
     "text": [
      "TA    649\n",
      "Gd    618\n",
      "Ex    121\n",
      "Fa     35\n",
      "Name: BsmtQual, dtype: int64 \n",
      "\n",
      "\n",
      "TA    1311\n",
      "Gd      65\n",
      "Fa      45\n",
      "Po       2\n",
      "Name: BsmtCond, dtype: int64 \n",
      "\n",
      "\n",
      "Unf    430\n",
      "GLQ    418\n",
      "ALQ    220\n",
      "BLQ    148\n",
      "Rec    133\n",
      "LwQ     74\n",
      "Name: BsmtFinType1, dtype: int64 \n",
      "\n",
      "\n",
      "No    953\n",
      "Av    221\n",
      "Gd    134\n",
      "Mn    114\n",
      "Name: BsmtExposure, dtype: int64 \n",
      "\n",
      "\n",
      "Unf    1256\n",
      "Rec      54\n",
      "LwQ      46\n",
      "BLQ      33\n",
      "ALQ      19\n",
      "GLQ      14\n",
      "Name: BsmtFinType2, dtype: int64 \n",
      "\n",
      "\n"
     ]
    }
   ],
   "source": [
    "missing_col = missing_value.loc[missing_value>2].sort_values().index\n",
    "for col in missing_col:\n",
    "    print(f\"{surprise_house_data[col].value_counts()} \\n\\n\")"
   ]
  },
  {
   "cell_type": "code",
   "execution_count": 19,
   "id": "4fab3453",
   "metadata": {},
   "outputs": [
    {
     "data": {
      "text/plain": [
       "(37, 75)"
      ]
     },
     "execution_count": 19,
     "metadata": {},
     "output_type": "execute_result"
    }
   ],
   "source": [
    "missing_per02 = surprise_house_data[(surprise_house_data[missing_col[0]].isnull() & surprise_house_data[missing_col[1]].isnull() \n",
    "                            & surprise_house_data[missing_col[2]].isnull() & surprise_house_data[missing_col[3]].isnull()\n",
    "                            & surprise_house_data[missing_col[4]].isnull()\n",
    "                           )]\n",
    "missing_per02.shape"
   ]
  },
  {
   "cell_type": "code",
   "execution_count": 20,
   "id": "847840b5",
   "metadata": {},
   "outputs": [
    {
     "data": {
      "text/plain": [
       "2.5342465753424657"
      ]
     },
     "execution_count": 20,
     "metadata": {},
     "output_type": "execute_result"
    }
   ],
   "source": [
    "missing_per02.shape[0]/surprise_house_data.shape[0]*100"
   ]
  },
  {
   "cell_type": "code",
   "execution_count": 21,
   "id": "c90d2136",
   "metadata": {},
   "outputs": [
    {
     "data": {
      "text/plain": [
       "Index(['BsmtQual', 'BsmtCond', 'BsmtFinType1', 'BsmtExposure', 'BsmtFinType2'], dtype='object')"
      ]
     },
     "execution_count": 21,
     "metadata": {},
     "output_type": "execute_result"
    }
   ],
   "source": [
    "missing_col"
   ]
  },
  {
   "cell_type": "markdown",
   "id": "9c8200a2",
   "metadata": {},
   "source": [
    "- Again we can see that **2.5%** of the missing data from **'BsmtQual', 'BsmtCond', 'BsmtFinType1', 'BsmtExposure', 'BsmtFinType2'** are **from the same Row**\n",
    "- But we can't remove it because here when we use isnull(), it takes **NA as null** \n",
    "- But as per **Metadata** they have mentioned **NA is \"No Basement\"**\n",
    "- So we basically can't remove this category\n",
    "- Insteed we will give diffent name for it like **NO-BA than NA**"
   ]
  },
  {
   "cell_type": "code",
   "execution_count": 22,
   "id": "b8034c69",
   "metadata": {},
   "outputs": [
    {
     "data": {
      "text/plain": [
       "(1460, 75)"
      ]
     },
     "execution_count": 22,
     "metadata": {},
     "output_type": "execute_result"
    }
   ],
   "source": [
    "for col in missing_col:\n",
    "    surprise_house_data[col] = surprise_house_data[col].apply(lambda x: \"NO-BA\" if x!=x else x )\n",
    "surprise_house_data.shape"
   ]
  },
  {
   "cell_type": "code",
   "execution_count": 23,
   "id": "df191654",
   "metadata": {},
   "outputs": [
    {
     "data": {
      "text/plain": [
       "Electrical    0.07\n",
       "MasVnrType    0.55\n",
       "MasVnrArea    0.55\n",
       "dtype: float64"
      ]
     },
     "execution_count": 23,
     "metadata": {},
     "output_type": "execute_result"
    }
   ],
   "source": [
    "missing_value = round (surprise_house_data.isnull().sum()/surprise_house_data.shape[0]*100, 2)\n",
    "missing_value.loc[missing_value>0].sort_values()"
   ]
  },
  {
   "cell_type": "code",
   "execution_count": 24,
   "id": "efa5d641",
   "metadata": {},
   "outputs": [
    {
     "data": {
      "text/plain": [
       "Index(['Electrical', 'MasVnrType', 'MasVnrArea'], dtype='object')"
      ]
     },
     "execution_count": 24,
     "metadata": {},
     "output_type": "execute_result"
    }
   ],
   "source": [
    "missing_col = missing_value.loc[missing_value>0].sort_values().index\n",
    "missing_col"
   ]
  },
  {
   "cell_type": "markdown",
   "id": "9fffa4d9",
   "metadata": {},
   "source": [
    "- Here we can see that these three variables have only 0.55% missing values, so we can directly remove them cause we will still be left with more data. "
   ]
  },
  {
   "cell_type": "code",
   "execution_count": 25,
   "id": "cf8bc917",
   "metadata": {},
   "outputs": [
    {
     "data": {
      "text/plain": [
       "(1451, 75)"
      ]
     },
     "execution_count": 25,
     "metadata": {},
     "output_type": "execute_result"
    }
   ],
   "source": [
    "surprise_house_data = surprise_house_data[~(surprise_house_data[missing_col[0]].isnull() | surprise_house_data[missing_col[1]].isnull() \n",
    "           | surprise_house_data[missing_col[2]].isnull() \n",
    "           )]\n",
    "surprise_house_data.shape"
   ]
  },
  {
   "cell_type": "code",
   "execution_count": 26,
   "id": "6106efbf",
   "metadata": {},
   "outputs": [
    {
     "data": {
      "text/plain": [
       "Series([], dtype: float64)"
      ]
     },
     "execution_count": 26,
     "metadata": {},
     "output_type": "execute_result"
    }
   ],
   "source": [
    "missing_value = round( surprise_house_data.isnull().sum()/surprise_house_data.shape[0]*100,2)\n",
    "missing_value[missing_value>0].sort_values()"
   ]
  },
  {
   "cell_type": "code",
   "execution_count": 27,
   "id": "3951d0d5",
   "metadata": {},
   "outputs": [
    {
     "data": {
      "text/plain": [
       "(1451, 74)"
      ]
     },
     "execution_count": 27,
     "metadata": {},
     "output_type": "execute_result"
    }
   ],
   "source": [
    "# Removing ID columns\n",
    "surprise_house_data = surprise_house_data.drop(\"Id\", axis=1)\n",
    "surprise_house_data.shape"
   ]
  },
  {
   "cell_type": "code",
   "execution_count": 28,
   "id": "849db990",
   "metadata": {},
   "outputs": [
    {
     "data": {
      "text/plain": [
       "99.38"
      ]
     },
     "execution_count": 28,
     "metadata": {},
     "output_type": "execute_result"
    }
   ],
   "source": [
    "round(surprise_house_data.shape[0]/1460 *100 ,2)"
   ]
  },
  {
   "cell_type": "markdown",
   "id": "f5d63598",
   "metadata": {},
   "source": [
    "- No missing values, only 0.62% are removed, and seven columns are removed."
   ]
  },
  {
   "cell_type": "markdown",
   "id": "2fa4dabb",
   "metadata": {},
   "source": [
    "## Step 2: Visualising the Data"
   ]
  },
  {
   "cell_type": "code",
   "execution_count": 29,
   "id": "a113449a",
   "metadata": {},
   "outputs": [
    {
     "data": {
      "text/plain": [
       "Street              2\n",
       "Utilities           2\n",
       "CentralAir          2\n",
       "HalfBath            3\n",
       "PavedDrive          3\n",
       "LandSlope           3\n",
       "BsmtHalfBath        3\n",
       "ExterQual           4\n",
       "MasVnrType          4\n",
       "GarageFinish        4\n",
       "Fireplaces          4\n",
       "KitchenAbvGr        4\n",
       "KitchenQual         4\n",
       "BsmtFullBath        4\n",
       "LandContour         4\n",
       "LotShape            4\n",
       "FullBath            4\n",
       "BsmtQual            5\n",
       "Electrical          5\n",
       "YrSold              5\n",
       "HeatingQC           5\n",
       "LotConfig           5\n",
       "GarageCars          5\n",
       "MSZoning            5\n",
       "ExterCond           5\n",
       "BsmtExposure        5\n",
       "BldgType            5\n",
       "BsmtCond            5\n",
       "SaleCondition       6\n",
       "Heating             6\n",
       "GarageQual          6\n",
       "GarageCond          6\n",
       "RoofStyle           6\n",
       "Foundation          6\n",
       "BsmtFinType1        7\n",
       "BsmtFinType2        7\n",
       "GarageType          7\n",
       "Functional          7\n",
       "Condition2          8\n",
       "HouseStyle          8\n",
       "BedroomAbvGr        8\n",
       "PoolArea            8\n",
       "RoofMatl            8\n",
       "Condition1          9\n",
       "SaleType            9\n",
       "OverallCond         9\n",
       "OverallQual        10\n",
       "TotRmsAbvGrd       12\n",
       "MoSold             12\n",
       "MSSubClass         15\n",
       "Exterior1st        15\n",
       "Exterior2nd        16\n",
       "3SsnPorch          20\n",
       "MiscVal            21\n",
       "LowQualFinSF       24\n",
       "Neighborhood       25\n",
       "YearRemodAdd       61\n",
       "ScreenPorch        76\n",
       "GarageYrBlt       102\n",
       "YearBuilt         112\n",
       "EnclosedPorch     119\n",
       "BsmtFinSF2        144\n",
       "OpenPorchSF       201\n",
       "WoodDeckSF        274\n",
       "MasVnrArea        327\n",
       "2ndFlrSF          414\n",
       "GarageArea        438\n",
       "BsmtFinSF1        633\n",
       "SalePrice         657\n",
       "TotalBsmtSF       717\n",
       "1stFlrSF          748\n",
       "BsmtUnfSF         777\n",
       "GrLivArea         858\n",
       "LotArea          1066\n",
       "dtype: int64"
      ]
     },
     "execution_count": 29,
     "metadata": {},
     "output_type": "execute_result"
    }
   ],
   "source": [
    "# Let's narrow down on the columns and drop all unnecessary variables\n",
    "surprise_house_data.nunique().sort_values()"
   ]
  },
  {
   "cell_type": "markdown",
   "id": "e8c82b42",
   "metadata": {},
   "source": [
    "- Here we can clearly see each variable has at least **two unique values**, so there is no need to remove any more variables"
   ]
  },
  {
   "cell_type": "markdown",
   "id": "b100e35d",
   "metadata": {},
   "source": [
    "#### Dividing the Data into categorical columns and numeric columns for better visulaization"
   ]
  },
  {
   "cell_type": "code",
   "execution_count": 30,
   "id": "1dcf8f98",
   "metadata": {},
   "outputs": [
    {
     "name": "stdout",
     "output_type": "stream",
     "text": [
      "<class 'pandas.core.frame.DataFrame'>\n",
      "Int64Index: 1451 entries, 0 to 1459\n",
      "Data columns (total 74 columns):\n",
      " #   Column         Non-Null Count  Dtype  \n",
      "---  ------         --------------  -----  \n",
      " 0   MSSubClass     1451 non-null   int64  \n",
      " 1   MSZoning       1451 non-null   object \n",
      " 2   LotArea        1451 non-null   int64  \n",
      " 3   Street         1451 non-null   object \n",
      " 4   LotShape       1451 non-null   object \n",
      " 5   LandContour    1451 non-null   object \n",
      " 6   Utilities      1451 non-null   object \n",
      " 7   LotConfig      1451 non-null   object \n",
      " 8   LandSlope      1451 non-null   object \n",
      " 9   Neighborhood   1451 non-null   object \n",
      " 10  Condition1     1451 non-null   object \n",
      " 11  Condition2     1451 non-null   object \n",
      " 12  BldgType       1451 non-null   object \n",
      " 13  HouseStyle     1451 non-null   object \n",
      " 14  OverallQual    1451 non-null   int64  \n",
      " 15  OverallCond    1451 non-null   int64  \n",
      " 16  YearBuilt      1451 non-null   int64  \n",
      " 17  YearRemodAdd   1451 non-null   int64  \n",
      " 18  RoofStyle      1451 non-null   object \n",
      " 19  RoofMatl       1451 non-null   object \n",
      " 20  Exterior1st    1451 non-null   object \n",
      " 21  Exterior2nd    1451 non-null   object \n",
      " 22  MasVnrType     1451 non-null   object \n",
      " 23  MasVnrArea     1451 non-null   float64\n",
      " 24  ExterQual      1451 non-null   object \n",
      " 25  ExterCond      1451 non-null   object \n",
      " 26  Foundation     1451 non-null   object \n",
      " 27  BsmtQual       1451 non-null   object \n",
      " 28  BsmtCond       1451 non-null   object \n",
      " 29  BsmtExposure   1451 non-null   object \n",
      " 30  BsmtFinType1   1451 non-null   object \n",
      " 31  BsmtFinSF1     1451 non-null   int64  \n",
      " 32  BsmtFinType2   1451 non-null   object \n",
      " 33  BsmtFinSF2     1451 non-null   int64  \n",
      " 34  BsmtUnfSF      1451 non-null   int64  \n",
      " 35  TotalBsmtSF    1451 non-null   int64  \n",
      " 36  Heating        1451 non-null   object \n",
      " 37  HeatingQC      1451 non-null   object \n",
      " 38  CentralAir     1451 non-null   object \n",
      " 39  Electrical     1451 non-null   object \n",
      " 40  1stFlrSF       1451 non-null   int64  \n",
      " 41  2ndFlrSF       1451 non-null   int64  \n",
      " 42  LowQualFinSF   1451 non-null   int64  \n",
      " 43  GrLivArea      1451 non-null   int64  \n",
      " 44  BsmtFullBath   1451 non-null   int64  \n",
      " 45  BsmtHalfBath   1451 non-null   int64  \n",
      " 46  FullBath       1451 non-null   int64  \n",
      " 47  HalfBath       1451 non-null   int64  \n",
      " 48  BedroomAbvGr   1451 non-null   int64  \n",
      " 49  KitchenAbvGr   1451 non-null   int64  \n",
      " 50  KitchenQual    1451 non-null   object \n",
      " 51  TotRmsAbvGrd   1451 non-null   int64  \n",
      " 52  Functional     1451 non-null   object \n",
      " 53  Fireplaces     1451 non-null   int64  \n",
      " 54  GarageType     1451 non-null   object \n",
      " 55  GarageYrBlt    1451 non-null   float64\n",
      " 56  GarageFinish   1451 non-null   object \n",
      " 57  GarageCars     1451 non-null   int64  \n",
      " 58  GarageArea     1451 non-null   int64  \n",
      " 59  GarageQual     1451 non-null   object \n",
      " 60  GarageCond     1451 non-null   object \n",
      " 61  PavedDrive     1451 non-null   object \n",
      " 62  WoodDeckSF     1451 non-null   int64  \n",
      " 63  OpenPorchSF    1451 non-null   int64  \n",
      " 64  EnclosedPorch  1451 non-null   int64  \n",
      " 65  3SsnPorch      1451 non-null   int64  \n",
      " 66  ScreenPorch    1451 non-null   int64  \n",
      " 67  PoolArea       1451 non-null   int64  \n",
      " 68  MiscVal        1451 non-null   int64  \n",
      " 69  MoSold         1451 non-null   int64  \n",
      " 70  YrSold         1451 non-null   int64  \n",
      " 71  SaleType       1451 non-null   object \n",
      " 72  SaleCondition  1451 non-null   object \n",
      " 73  SalePrice      1451 non-null   int64  \n",
      "dtypes: float64(2), int64(34), object(38)\n",
      "memory usage: 850.2+ KB\n"
     ]
    }
   ],
   "source": [
    "surprise_house_data.info()"
   ]
  },
  {
   "cell_type": "code",
   "execution_count": 31,
   "id": "cb59ef5d",
   "metadata": {},
   "outputs": [
    {
     "name": "stdout",
     "output_type": "stream",
     "text": [
      "Index(['MSZoning', 'Street', 'LotShape', 'LandContour', 'Utilities',\n",
      "       'LotConfig', 'LandSlope', 'Neighborhood', 'Condition1', 'Condition2',\n",
      "       'BldgType', 'HouseStyle', 'RoofStyle', 'RoofMatl', 'Exterior1st',\n",
      "       'Exterior2nd', 'MasVnrType', 'ExterQual', 'ExterCond', 'Foundation',\n",
      "       'BsmtQual', 'BsmtCond', 'BsmtExposure', 'BsmtFinType1', 'BsmtFinType2',\n",
      "       'Heating', 'HeatingQC', 'CentralAir', 'Electrical', 'KitchenQual',\n",
      "       'Functional', 'GarageType', 'GarageFinish', 'GarageQual', 'GarageCond',\n",
      "       'PavedDrive', 'SaleType', 'SaleCondition'],\n",
      "      dtype='object') \n",
      " 38\n"
     ]
    }
   ],
   "source": [
    "# Getting only categorical variables\n",
    "categorical = surprise_house_data.select_dtypes(include=['object'])\n",
    "print(categorical.columns,\"\\n\", categorical.shape[1])"
   ]
  },
  {
   "cell_type": "code",
   "execution_count": 32,
   "id": "c66a0ed7",
   "metadata": {},
   "outputs": [
    {
     "name": "stdout",
     "output_type": "stream",
     "text": [
      "Index(['MSSubClass', 'LotArea', 'OverallQual', 'OverallCond', 'YearBuilt',\n",
      "       'YearRemodAdd', 'MasVnrArea', 'BsmtFinSF1', 'BsmtFinSF2', 'BsmtUnfSF',\n",
      "       'TotalBsmtSF', '1stFlrSF', '2ndFlrSF', 'LowQualFinSF', 'GrLivArea',\n",
      "       'BsmtFullBath', 'BsmtHalfBath', 'FullBath', 'HalfBath', 'BedroomAbvGr',\n",
      "       'KitchenAbvGr', 'TotRmsAbvGrd', 'Fireplaces', 'GarageYrBlt',\n",
      "       'GarageCars', 'GarageArea', 'WoodDeckSF', 'OpenPorchSF',\n",
      "       'EnclosedPorch', '3SsnPorch', 'ScreenPorch', 'PoolArea', 'MiscVal',\n",
      "       'MoSold', 'YrSold', 'SalePrice'],\n",
      "      dtype='object') \n",
      " 36\n"
     ]
    }
   ],
   "source": [
    "# Getting only numeric variables. \n",
    "numeric = surprise_house_data.select_dtypes(exclude=['object'])\n",
    "print(numeric.columns, \"\\n\",numeric.shape[1])"
   ]
  },
  {
   "cell_type": "markdown",
   "id": "cda64509",
   "metadata": {},
   "source": [
    "- We have 38 categorical variables and 36 numeric variables."
   ]
  },
  {
   "cell_type": "markdown",
   "id": "35039f92",
   "metadata": {},
   "source": [
    "###  a. Univarent Analysis"
   ]
  },
  {
   "cell_type": "code",
   "execution_count": 33,
   "id": "76903543",
   "metadata": {},
   "outputs": [],
   "source": [
    "# Below given function is used to plot multiple barPlots graphs.\n",
    "def barplots(idx, col, figsize=(7,7)):\n",
    "    plt.figure(idx)\n",
    "    plt.figure(figsize=figsize)\n",
    "    keys = surprise_house_data[col].value_counts().keys()\n",
    "    values = surprise_house_data[col].value_counts().values\n",
    "    sns.barplot(keys, values, palette=\"nipy_spectral\")\n",
    "    plt.show()"
   ]
  },
  {
   "cell_type": "code",
   "execution_count": 34,
   "id": "5ea16578",
   "metadata": {},
   "outputs": [
    {
     "data": {
      "text/plain": [
       "Street            2\n",
       "CentralAir        2\n",
       "Utilities         2\n",
       "PavedDrive        3\n",
       "LandSlope         3\n",
       "KitchenQual       4\n",
       "ExterQual         4\n",
       "MasVnrType        4\n",
       "LandContour       4\n",
       "LotShape          4\n",
       "GarageFinish      4\n",
       "Electrical        5\n",
       "HeatingQC         5\n",
       "BsmtExposure      5\n",
       "BsmtCond          5\n",
       "BsmtQual          5\n",
       "MSZoning          5\n",
       "ExterCond         5\n",
       "BldgType          5\n",
       "LotConfig         5\n",
       "GarageCond        6\n",
       "GarageQual        6\n",
       "Heating           6\n",
       "SaleCondition     6\n",
       "RoofStyle         6\n",
       "Foundation        6\n",
       "BsmtFinType2      7\n",
       "Functional        7\n",
       "GarageType        7\n",
       "BsmtFinType1      7\n",
       "HouseStyle        8\n",
       "Condition2        8\n",
       "RoofMatl          8\n",
       "Condition1        9\n",
       "SaleType          9\n",
       "Exterior1st      15\n",
       "Exterior2nd      16\n",
       "Neighborhood     25\n",
       "dtype: int64"
      ]
     },
     "execution_count": 34,
     "metadata": {},
     "output_type": "execute_result"
    }
   ],
   "source": [
    "unique_cat = categorical.nunique().sort_values()\n",
    "unique_cat"
   ]
  },
  {
   "cell_type": "code",
   "execution_count": 35,
   "id": "6305bfbb",
   "metadata": {},
   "outputs": [
    {
     "data": {
      "text/plain": [
       "<Figure size 432x288 with 0 Axes>"
      ]
     },
     "metadata": {},
     "output_type": "display_data"
    },
    {
     "data": {
      "image/png": "[encoded data removed]",
      "text/plain": [
       "<Figure size 504x360 with 1 Axes>"
      ]
     },
     "metadata": {
      "needs_background": "light"
     },
     "output_type": "display_data"
    },
    {
     "data": {
      "text/plain": [
       "<Figure size 432x288 with 0 Axes>"
      ]
     },
     "metadata": {},
     "output_type": "display_data"
    },
    {
     "data": {
      "image/png": "[encoded data removed]",
      "text/plain": [
       "<Figure size 504x360 with 1 Axes>"
      ]
     },
     "metadata": {
      "needs_background": "light"
     },
     "output_type": "display_data"
    },
    {
     "data": {
      "text/plain": [
       "<Figure size 432x288 with 0 Axes>"
      ]
     },
     "metadata": {},
     "output_type": "display_data"
    },
    {
     "data": {
      "image/png": "[encoded data removed]",
      "text/plain": [
       "<Figure size 504x360 with 1 Axes>"
      ]
     },
     "metadata": {
      "needs_background": "light"
     },
     "output_type": "display_data"
    },
    {
     "data": {
      "text/plain": [
       "<Figure size 432x288 with 0 Axes>"
      ]
     },
     "metadata": {},
     "output_type": "display_data"
    },
    {
     "data": {
      "image/png": "[encoded data removed]",
      "text/plain": [
       "<Figure size 504x360 with 1 Axes>"
      ]
     },
     "metadata": {
      "needs_background": "light"
     },
     "output_type": "display_data"
    },
    {
     "data": {
      "text/plain": [
       "<Figure size 432x288 with 0 Axes>"
      ]
     },
     "metadata": {},
     "output_type": "display_data"
    },
    {
     "data": {
      "image/png": "[encoded data removed]",
      "text/plain": [
       "<Figure size 504x360 with 1 Axes>"
      ]
     },
     "metadata": {
      "needs_background": "light"
     },
     "output_type": "display_data"
    },
    {
     "data": {
      "text/plain": [
       "<Figure size 432x288 with 0 Axes>"
      ]
     },
     "metadata": {},
     "output_type": "display_data"
    },
    {
     "data": {
      "image/png": "[encoded data removed]",
      "text/plain": [
       "<Figure size 576x432 with 1 Axes>"
      ]
     },
     "metadata": {
      "needs_background": "light"
     },
     "output_type": "display_data"
    },
    {
     "data": {
      "text/plain": [
       "<Figure size 432x288 with 0 Axes>"
      ]
     },
     "metadata": {},
     "output_type": "display_data"
    },
    {
     "data": {
      "image/png": "[encoded data removed]",
      "text/plain": [
       "<Figure size 576x432 with 1 Axes>"
      ]
     },
     "metadata": {
      "needs_background": "light"
     },
     "output_type": "display_data"
    },
    {
     "data": {
      "text/plain": [
       "<Figure size 432x288 with 0 Axes>"
      ]
     },
     "metadata": {},
     "output_type": "display_data"
    },
    {
     "data": {
      "image/png": "[encoded data removed]",
      "text/plain": [
       "<Figure size 576x432 with 1 Axes>"
      ]
     },
     "metadata": {
      "needs_background": "light"
     },
     "output_type": "display_data"
    },
    {
     "data": {
      "text/plain": [
       "<Figure size 432x288 with 0 Axes>"
      ]
     },
     "metadata": {},
     "output_type": "display_data"
    },
    {
     "data": {
      "image/png": "[encoded data removed]",
      "text/plain": [
       "<Figure size 576x432 with 1 Axes>"
      ]
     },
     "metadata": {
      "needs_background": "light"
     },
     "output_type": "display_data"
    },
    {
     "data": {
      "text/plain": [
       "<Figure size 432x288 with 0 Axes>"
      ]
     },
     "metadata": {},
     "output_type": "display_data"
    },
    {
     "data": {
      "image/png": "[encoded data removed]",
      "text/plain": [
       "<Figure size 576x432 with 1 Axes>"
      ]
     },
     "metadata": {
      "needs_background": "light"
     },
     "output_type": "display_data"
    },
    {
     "data": {
      "text/plain": [
       "<Figure size 432x288 with 0 Axes>"
      ]
     },
     "metadata": {},
     "output_type": "display_data"
    },
    {
     "data": {
      "image/png": "[encoded data removed]",
      "text/plain": [
       "<Figure size 576x432 with 1 Axes>"
      ]
     },
     "metadata": {
      "needs_background": "light"
     },
     "output_type": "display_data"
    },
    {
     "data": {
      "text/plain": [
       "<Figure size 432x288 with 0 Axes>"
      ]
     },
     "metadata": {},
     "output_type": "display_data"
    },
    {
     "data": {
      "image/png": "[encoded data removed]",
      "text/plain": [
       "<Figure size 576x432 with 1 Axes>"
      ]
     },
     "metadata": {
      "needs_background": "light"
     },
     "output_type": "display_data"
    },
    {
     "data": {
      "text/plain": [
       "<Figure size 432x288 with 0 Axes>"
      ]
     },
     "metadata": {},
     "output_type": "display_data"
    },
    {
     "data": {
      "image/png": "[encoded data removed]",
      "text/plain": [
       "<Figure size 576x432 with 1 Axes>"
      ]
     },
     "metadata": {
      "needs_background": "light"
     },
     "output_type": "display_data"
    },
    {
     "data": {
      "text/plain": [
       "<Figure size 432x288 with 0 Axes>"
      ]
     },
     "metadata": {},
     "output_type": "display_data"
    },
    {
     "data": {
      "image/png": "[encoded data removed]",
      "text/plain": [
       "<Figure size 576x432 with 1 Axes>"
      ]
     },
     "metadata": {
      "needs_background": "light"
     },
     "output_type": "display_data"
    },
    {
     "data": {
      "text/plain": [
       "<Figure size 432x288 with 0 Axes>"
      ]
     },
     "metadata": {},
     "output_type": "display_data"
    },
    {
     "data": {
      "image/png": "[encoded data removed]",
      "text/plain": [
       "<Figure size 576x432 with 1 Axes>"
      ]
     },
     "metadata": {
      "needs_background": "light"
     },
     "output_type": "display_data"
    },
    {
     "data": {
      "text/plain": [
       "<Figure size 432x288 with 0 Axes>"
      ]
     },
     "metadata": {},
     "output_type": "display_data"
    },
    {
     "data": {
      "image/png": "[encoded data removed]",
      "text/plain": [
       "<Figure size 576x432 with 1 Axes>"
      ]
     },
     "metadata": {
      "needs_background": "light"
     },
     "output_type": "display_data"
    },
    {
     "data": {
      "text/plain": [
       "<Figure size 432x288 with 0 Axes>"
      ]
     },
     "metadata": {},
     "output_type": "display_data"
    },
    {
     "data": {
      "image/png": "[encoded data removed]",
      "text/plain": [
       "<Figure size 576x432 with 1 Axes>"
      ]
     },
     "metadata": {
      "needs_background": "light"
     },
     "output_type": "display_data"
    },
    {
     "data": {
      "text/plain": [
       "<Figure size 432x288 with 0 Axes>"
      ]
     },
     "metadata": {},
     "output_type": "display_data"
    },
    {
     "data": {
      "image/png": "[encoded data removed]",
      "text/plain": [
       "<Figure size 576x432 with 1 Axes>"
      ]
     },
     "metadata": {
      "needs_background": "light"
     },
     "output_type": "display_data"
    },
    {
     "data": {
      "text/plain": [
       "<Figure size 432x288 with 0 Axes>"
      ]
     },
     "metadata": {},
     "output_type": "display_data"
    },
    {
     "data": {
      "image/png": "[encoded data removed]",
      "text/plain": [
       "<Figure size 576x432 with 1 Axes>"
      ]
     },
     "metadata": {
      "needs_background": "light"
     },
     "output_type": "display_data"
    },
    {
     "data": {
      "text/plain": [
       "<Figure size 432x288 with 0 Axes>"
      ]
     },
     "metadata": {},
     "output_type": "display_data"
    },
    {
     "data": {
      "image/png": "[encoded data removed]",
      "text/plain": [
       "<Figure size 576x432 with 1 Axes>"
      ]
     },
     "metadata": {
      "needs_background": "light"
     },
     "output_type": "display_data"
    },
    {
     "data": {
      "text/plain": [
       "<Figure size 432x288 with 0 Axes>"
      ]
     },
     "metadata": {},
     "output_type": "display_data"
    },
    {
     "data": {
      "image/png": "[encoded data removed]",
      "text/plain": [
       "<Figure size 576x432 with 1 Axes>"
      ]
     },
     "metadata": {
      "needs_background": "light"
     },
     "output_type": "display_data"
    },
    {
     "data": {
      "text/plain": [
       "<Figure size 432x288 with 0 Axes>"
      ]
     },
     "metadata": {},
     "output_type": "display_data"
    },
    {
     "data": {
      "image/png": "[encoded data removed]",
      "text/plain": [
       "<Figure size 576x432 with 1 Axes>"
      ]
     },
     "metadata": {
      "needs_background": "light"
     },
     "output_type": "display_data"
    },
    {
     "data": {
      "text/plain": [
       "<Figure size 432x288 with 0 Axes>"
      ]
     },
     "metadata": {},
     "output_type": "display_data"
    },
    {
     "data": {
      "image/png": "[encoded data removed]",
      "text/plain": [
       "<Figure size 576x432 with 1 Axes>"
      ]
     },
     "metadata": {
      "needs_background": "light"
     },
     "output_type": "display_data"
    },
    {
     "data": {
      "text/plain": [
       "<Figure size 432x288 with 0 Axes>"
      ]
     },
     "metadata": {},
     "output_type": "display_data"
    },
    {
     "data": {
      "image/png": "[encoded data removed]",
      "text/plain": [
       "<Figure size 576x432 with 1 Axes>"
      ]
     },
     "metadata": {
      "needs_background": "light"
     },
     "output_type": "display_data"
    },
    {
     "data": {
      "text/plain": [
       "<Figure size 432x288 with 0 Axes>"
      ]
     },
     "metadata": {},
     "output_type": "display_data"
    },
    {
     "data": {
      "image/png": "[encoded data removed]",
      "text/plain": [
       "<Figure size 576x432 with 1 Axes>"
      ]
     },
     "metadata": {
      "needs_background": "light"
     },
     "output_type": "display_data"
    },
    {
     "data": {
      "text/plain": [
       "<Figure size 432x288 with 0 Axes>"
      ]
     },
     "metadata": {},
     "output_type": "display_data"
    },
    {
     "data": {
      "image/png": "[encoded data removed]",
      "text/plain": [
       "<Figure size 576x432 with 1 Axes>"
      ]
     },
     "metadata": {
      "needs_background": "light"
     },
     "output_type": "display_data"
    },
    {
     "data": {
      "text/plain": [
       "<Figure size 432x288 with 0 Axes>"
      ]
     },
     "metadata": {},
     "output_type": "display_data"
    },
    {
     "data": {
      "image/png": "[encoded data removed]",
      "text/plain": [
       "<Figure size 576x432 with 1 Axes>"
      ]
     },
     "metadata": {
      "needs_background": "light"
     },
     "output_type": "display_data"
    },
    {
     "data": {
      "text/plain": [
       "<Figure size 432x288 with 0 Axes>"
      ]
     },
     "metadata": {},
     "output_type": "display_data"
    },
    {
     "data": {
      "image/png": "[encoded data removed]",
      "text/plain": [
       "<Figure size 576x432 with 1 Axes>"
      ]
     },
     "metadata": {
      "needs_background": "light"
     },
     "output_type": "display_data"
    },
    {
     "data": {
      "text/plain": [
       "<Figure size 432x288 with 0 Axes>"
      ]
     },
     "metadata": {},
     "output_type": "display_data"
    },
    {
     "data": {
      "image/png": "[encoded data removed]",
      "text/plain": [
       "<Figure size 576x432 with 1 Axes>"
      ]
     },
     "metadata": {
      "needs_background": "light"
     },
     "output_type": "display_data"
    },
    {
     "data": {
      "text/plain": [
       "<Figure size 432x288 with 0 Axes>"
      ]
     },
     "metadata": {},
     "output_type": "display_data"
    },
    {
     "data": {
      "image/png": "[encoded data removed]",
      "text/plain": [
       "<Figure size 576x432 with 1 Axes>"
      ]
     },
     "metadata": {
      "needs_background": "light"
     },
     "output_type": "display_data"
    },
    {
     "data": {
      "text/plain": [
       "<Figure size 432x288 with 0 Axes>"
      ]
     },
     "metadata": {},
     "output_type": "display_data"
    },
    {
     "data": {
      "image/png": "[encoded data removed]",
      "text/plain": [
       "<Figure size 576x432 with 1 Axes>"
      ]
     },
     "metadata": {
      "needs_background": "light"
     },
     "output_type": "display_data"
    },
    {
     "data": {
      "text/plain": [
       "<Figure size 432x288 with 0 Axes>"
      ]
     },
     "metadata": {},
     "output_type": "display_data"
    },
    {
     "data": {
      "image/png": "[encoded data removed]",
      "text/plain": [
       "<Figure size 576x432 with 1 Axes>"
      ]
     },
     "metadata": {
      "needs_background": "light"
     },
     "output_type": "display_data"
    },
    {
     "data": {
      "text/plain": [
       "<Figure size 432x288 with 0 Axes>"
      ]
     },
     "metadata": {},
     "output_type": "display_data"
    },
    {
     "data": {
      "image/png": "[encoded data removed]",
      "text/plain": [
       "<Figure size 576x432 with 1 Axes>"
      ]
     },
     "metadata": {
      "needs_background": "light"
     },
     "output_type": "display_data"
    },
    {
     "data": {
      "text/plain": [
       "<Figure size 432x288 with 0 Axes>"
      ]
     },
     "metadata": {},
     "output_type": "display_data"
    },
    {
     "data": {
      "image/png": "[encoded data removed]",
      "text/plain": [
       "<Figure size 576x432 with 1 Axes>"
      ]
     },
     "metadata": {
      "needs_background": "light"
     },
     "output_type": "display_data"
    },
    {
     "data": {
      "text/plain": [
       "<Figure size 432x288 with 0 Axes>"
      ]
     },
     "metadata": {},
     "output_type": "display_data"
    },
    {
     "data": {
      "image/png": "[encoded data removed]",
      "text/plain": [
       "<Figure size 576x432 with 1 Axes>"
      ]
     },
     "metadata": {
      "needs_background": "light"
     },
     "output_type": "display_data"
    },
    {
     "data": {
      "text/plain": [
       "<Figure size 432x288 with 0 Axes>"
      ]
     },
     "metadata": {},
     "output_type": "display_data"
    },
    {
     "data": {
      "image/png": "[encoded data removed]",
      "text/plain": [
       "<Figure size 1080x576 with 1 Axes>"
      ]
     },
     "metadata": {
      "needs_background": "light"
     },
     "output_type": "display_data"
    },
    {
     "data": {
      "text/plain": [
       "<Figure size 432x288 with 0 Axes>"
      ]
     },
     "metadata": {},
     "output_type": "display_data"
    },
    {
     "data": {
      "image/png": "[encoded data removed]",
      "text/plain": [
       "<Figure size 1080x576 with 1 Axes>"
      ]
     },
     "metadata": {
      "needs_background": "light"
     },
     "output_type": "display_data"
    },
    {
     "data": {
      "text/plain": [
       "<Figure size 432x288 with 0 Axes>"
      ]
     },
     "metadata": {},
     "output_type": "display_data"
    },
    {
     "data": {
      "image/png": "[encoded data removed]",
      "text/plain": [
       "<Figure size 1080x576 with 1 Axes>"
      ]
     },
     "metadata": {
      "needs_background": "light"
     },
     "output_type": "display_data"
    }
   ],
   "source": [
    "# Plotting box plot on all the categorical variables\n",
    "for i, val in enumerate(unique_cat):\n",
    "    if val<4:\n",
    "        barplots(i, unique_cat.keys()[i], figsize = (7,5))\n",
    "    elif val<10:\n",
    "        barplots(i, unique_cat.keys()[i], figsize = (8,6))\n",
    "    else:\n",
    "        barplots(i, unique_cat.keys()[i], figsize = (15,8))"
   ]
  },
  {
   "cell_type": "code",
   "execution_count": 36,
   "id": "8958e71c",
   "metadata": {},
   "outputs": [],
   "source": [
    "# Below given function is used to plot multiple boxplots graphs\n",
    "\n",
    "def boxplots(idx, col, figsize=(10,4)):\n",
    "    plt.figure(idx)\n",
    "    plt.figure(figsize=figsize)\n",
    "    sns.boxplot(surprise_house_data[col], palette=pat[random.randint(0,len(pat)-1)])\n",
    "    plt.show()"
   ]
  },
  {
   "cell_type": "code",
   "execution_count": 37,
   "id": "720f22d9",
   "metadata": {},
   "outputs": [
    {
     "data": {
      "text/plain": [
       "<Figure size 432x288 with 0 Axes>"
      ]
     },
     "metadata": {},
     "output_type": "display_data"
    },
    {
     "data": {
      "image/png": "[encoded data removed]",
      "text/plain": [
       "<Figure size 720x288 with 1 Axes>"
      ]
     },
     "metadata": {
      "needs_background": "light"
     },
     "output_type": "display_data"
    },
    {
     "data": {
      "text/plain": [
       "<Figure size 432x288 with 0 Axes>"
      ]
     },
     "metadata": {},
     "output_type": "display_data"
    },
    {
     "data": {
      "image/png": "[encoded data removed]",
      "text/plain": [
       "<Figure size 720x288 with 1 Axes>"
      ]
     },
     "metadata": {
      "needs_background": "light"
     },
     "output_type": "display_data"
    },
    {
     "data": {
      "text/plain": [
       "<Figure size 432x288 with 0 Axes>"
      ]
     },
     "metadata": {},
     "output_type": "display_data"
    },
    {
     "data": {
      "image/png": "[encoded data removed]",
      "text/plain": [
       "<Figure size 720x288 with 1 Axes>"
      ]
     },
     "metadata": {
      "needs_background": "light"
     },
     "output_type": "display_data"
    },
    {
     "data": {
      "text/plain": [
       "<Figure size 432x288 with 0 Axes>"
      ]
     },
     "metadata": {},
     "output_type": "display_data"
    },
    {
     "data": {
      "image/png": "[encoded data removed]",
      "text/plain": [
       "<Figure size 720x288 with 1 Axes>"
      ]
     },
     "metadata": {
      "needs_background": "light"
     },
     "output_type": "display_data"
    },
    {
     "data": {
      "text/plain": [
       "<Figure size 432x288 with 0 Axes>"
      ]
     },
     "metadata": {},
     "output_type": "display_data"
    },
    {
     "data": {
      "image/png": "[encoded data removed]",
      "text/plain": [
       "<Figure size 720x288 with 1 Axes>"
      ]
     },
     "metadata": {
      "needs_background": "light"
     },
     "output_type": "display_data"
    },
    {
     "data": {
      "text/plain": [
       "<Figure size 432x288 with 0 Axes>"
      ]
     },
     "metadata": {},
     "output_type": "display_data"
    },
    {
     "data": {
      "image/png": "[encoded data removed]",
      "text/plain": [
       "<Figure size 720x288 with 1 Axes>"
      ]
     },
     "metadata": {
      "needs_background": "light"
     },
     "output_type": "display_data"
    },
    {
     "data": {
      "text/plain": [
       "<Figure size 432x288 with 0 Axes>"
      ]
     },
     "metadata": {},
     "output_type": "display_data"
    },
    {
     "data": {
      "image/png": "[encoded data removed]",
      "text/plain": [
       "<Figure size 720x288 with 1 Axes>"
      ]
     },
     "metadata": {
      "needs_background": "light"
     },
     "output_type": "display_data"
    },
    {
     "data": {
      "text/plain": [
       "<Figure size 432x288 with 0 Axes>"
      ]
     },
     "metadata": {},
     "output_type": "display_data"
    },
    {
     "data": {
      "image/png": "[encoded data removed]",
      "text/plain": [
       "<Figure size 720x288 with 1 Axes>"
      ]
     },
     "metadata": {
      "needs_background": "light"
     },
     "output_type": "display_data"
    },
    {
     "data": {
      "text/plain": [
       "<Figure size 432x288 with 0 Axes>"
      ]
     },
     "metadata": {},
     "output_type": "display_data"
    },
    {
     "data": {
      "image/png": "[encoded data removed]",
      "text/plain": [
       "<Figure size 720x288 with 1 Axes>"
      ]
     },
     "metadata": {
      "needs_background": "light"
     },
     "output_type": "display_data"
    },
    {
     "data": {
      "text/plain": [
       "<Figure size 432x288 with 0 Axes>"
      ]
     },
     "metadata": {},
     "output_type": "display_data"
    },
    {
     "data": {
      "image/png": "[encoded data removed]",
      "text/plain": [
       "<Figure size 720x288 with 1 Axes>"
      ]
     },
     "metadata": {
      "needs_background": "light"
     },
     "output_type": "display_data"
    },
    {
     "data": {
      "text/plain": [
       "<Figure size 432x288 with 0 Axes>"
      ]
     },
     "metadata": {},
     "output_type": "display_data"
    },
    {
     "data": {
      "image/png": "[encoded data removed]",
      "text/plain": [
       "<Figure size 720x288 with 1 Axes>"
      ]
     },
     "metadata": {
      "needs_background": "light"
     },
     "output_type": "display_data"
    },
    {
     "data": {
      "text/plain": [
       "<Figure size 432x288 with 0 Axes>"
      ]
     },
     "metadata": {},
     "output_type": "display_data"
    },
    {
     "data": {
      "image/png": "[encoded data removed]",
      "text/plain": [
       "<Figure size 720x288 with 1 Axes>"
      ]
     },
     "metadata": {
      "needs_background": "light"
     },
     "output_type": "display_data"
    },
    {
     "data": {
      "text/plain": [
       "<Figure size 432x288 with 0 Axes>"
      ]
     },
     "metadata": {},
     "output_type": "display_data"
    },
    {
     "data": {
      "image/png": "[encoded data removed]",
      "text/plain": [
       "<Figure size 720x288 with 1 Axes>"
      ]
     },
     "metadata": {
      "needs_background": "light"
     },
     "output_type": "display_data"
    },
    {
     "data": {
      "text/plain": [
       "<Figure size 432x288 with 0 Axes>"
      ]
     },
     "metadata": {},
     "output_type": "display_data"
    },
    {
     "data": {
      "image/png": "[encoded data removed]",
      "text/plain": [
       "<Figure size 720x288 with 1 Axes>"
      ]
     },
     "metadata": {
      "needs_background": "light"
     },
     "output_type": "display_data"
    },
    {
     "data": {
      "text/plain": [
       "<Figure size 432x288 with 0 Axes>"
      ]
     },
     "metadata": {},
     "output_type": "display_data"
    },
    {
     "data": {
      "image/png": "[encoded data removed]",
      "text/plain": [
       "<Figure size 720x288 with 1 Axes>"
      ]
     },
     "metadata": {
      "needs_background": "light"
     },
     "output_type": "display_data"
    },
    {
     "data": {
      "text/plain": [
       "<Figure size 432x288 with 0 Axes>"
      ]
     },
     "metadata": {},
     "output_type": "display_data"
    },
    {
     "data": {
      "image/png": "[encoded data removed]",
      "text/plain": [
       "<Figure size 720x288 with 1 Axes>"
      ]
     },
     "metadata": {
      "needs_background": "light"
     },
     "output_type": "display_data"
    },
    {
     "ename": "ValueError",
     "evalue": "No.",
     "output_type": "error",
     "traceback": [
      "\u001b[0;31m---------------------------------------------------------------------------\u001b[0m",
      "\u001b[0;31mValueError\u001b[0m                                Traceback (most recent call last)",
      "\u001b[0;32m<ipython-input-37-3e92a900aa65>\u001b[0m in \u001b[0;36m<module>\u001b[0;34m\u001b[0m\n\u001b[1;32m      1\u001b[0m \u001b[0mpat\u001b[0m \u001b[0;34m=\u001b[0m \u001b[0;34m'Accent'\u001b[0m\u001b[0;34m,\u001b[0m \u001b[0;34m'Accent_r'\u001b[0m\u001b[0;34m,\u001b[0m \u001b[0;34m'Blues'\u001b[0m\u001b[0;34m,\u001b[0m \u001b[0;34m'Blues_r'\u001b[0m\u001b[0;34m,\u001b[0m \u001b[0;34m'BrBG'\u001b[0m\u001b[0;34m,\u001b[0m \u001b[0;34m'BrBG_r'\u001b[0m\u001b[0;34m,\u001b[0m \u001b[0;34m'BuGn'\u001b[0m\u001b[0;34m,\u001b[0m \u001b[0;34m'BuGn_r'\u001b[0m\u001b[0;34m,\u001b[0m \u001b[0;34m'BuPu'\u001b[0m\u001b[0;34m,\u001b[0m \u001b[0;34m'BuPu_r'\u001b[0m\u001b[0;34m,\u001b[0m \u001b[0;34m'CMRmap'\u001b[0m\u001b[0;34m,\u001b[0m \u001b[0;34m'CMRmap_r'\u001b[0m\u001b[0;34m,\u001b[0m \u001b[0;34m'Dark2'\u001b[0m\u001b[0;34m,\u001b[0m \u001b[0;34m'Dark2_r'\u001b[0m\u001b[0;34m,\u001b[0m \u001b[0;34m'GnBu'\u001b[0m\u001b[0;34m,\u001b[0m \u001b[0;34m'GnBu_r'\u001b[0m\u001b[0;34m,\u001b[0m \u001b[0;34m'Greens'\u001b[0m\u001b[0;34m,\u001b[0m \u001b[0;34m'Greens_r'\u001b[0m\u001b[0;34m,\u001b[0m \u001b[0;34m'Greys'\u001b[0m\u001b[0;34m,\u001b[0m \u001b[0;34m'Greys_r'\u001b[0m\u001b[0;34m,\u001b[0m \u001b[0;34m'OrRd'\u001b[0m\u001b[0;34m,\u001b[0m \u001b[0;34m'OrRd_r'\u001b[0m\u001b[0;34m,\u001b[0m \u001b[0;34m'Oranges'\u001b[0m\u001b[0;34m,\u001b[0m \u001b[0;34m'Oranges_r'\u001b[0m\u001b[0;34m,\u001b[0m \u001b[0;34m'PRGn'\u001b[0m\u001b[0;34m,\u001b[0m \u001b[0;34m'PRGn_r'\u001b[0m\u001b[0;34m,\u001b[0m \u001b[0;34m'Paired'\u001b[0m\u001b[0;34m,\u001b[0m \u001b[0;34m'Paired_r'\u001b[0m\u001b[0;34m,\u001b[0m \u001b[0;34m'Pastel1'\u001b[0m\u001b[0;34m,\u001b[0m \u001b[0;34m'Pastel1_r'\u001b[0m\u001b[0;34m,\u001b[0m \u001b[0;34m'Pastel2'\u001b[0m\u001b[0;34m,\u001b[0m \u001b[0;34m'Pastel2_r'\u001b[0m\u001b[0;34m,\u001b[0m \u001b[0;34m'PiYG'\u001b[0m\u001b[0;34m,\u001b[0m \u001b[0;34m'PiYG_r'\u001b[0m\u001b[0;34m,\u001b[0m \u001b[0;34m'PuBu'\u001b[0m\u001b[0;34m,\u001b[0m \u001b[0;34m'PuBuGn'\u001b[0m\u001b[0;34m,\u001b[0m \u001b[0;34m'PuBuGn_r'\u001b[0m\u001b[0;34m,\u001b[0m \u001b[0;34m'PuBu_r'\u001b[0m\u001b[0;34m,\u001b[0m \u001b[0;34m'PuOr'\u001b[0m\u001b[0;34m,\u001b[0m \u001b[0;34m'PuOr_r'\u001b[0m\u001b[0;34m,\u001b[0m \u001b[0;34m'PuRd'\u001b[0m\u001b[0;34m,\u001b[0m \u001b[0;34m'PuRd_r'\u001b[0m\u001b[0;34m,\u001b[0m \u001b[0;34m'Purples'\u001b[0m\u001b[0;34m,\u001b[0m \u001b[0;34m'Purples_r'\u001b[0m\u001b[0;34m,\u001b[0m \u001b[0;34m'RdBu'\u001b[0m\u001b[0;34m,\u001b[0m \u001b[0;34m'RdBu_r'\u001b[0m\u001b[0;34m,\u001b[0m \u001b[0;34m'RdGy'\u001b[0m\u001b[0;34m,\u001b[0m \u001b[0;34m'RdGy_r'\u001b[0m\u001b[0;34m,\u001b[0m \u001b[0;34m'RdPu'\u001b[0m\u001b[0;34m,\u001b[0m \u001b[0;34m'RdPu_r'\u001b[0m\u001b[0;34m,\u001b[0m \u001b[0;34m'RdYlBu'\u001b[0m\u001b[0;34m,\u001b[0m \u001b[0;34m'RdYlBu_r'\u001b[0m\u001b[0;34m,\u001b[0m \u001b[0;34m'RdYlGn'\u001b[0m\u001b[0;34m,\u001b[0m \u001b[0;34m'RdYlGn_r'\u001b[0m\u001b[0;34m,\u001b[0m \u001b[0;34m'Reds'\u001b[0m\u001b[0;34m,\u001b[0m \u001b[0;34m'Reds_r'\u001b[0m\u001b[0;34m,\u001b[0m \u001b[0;34m'Set1'\u001b[0m\u001b[0;34m,\u001b[0m \u001b[0;34m'Set1_r'\u001b[0m\u001b[0;34m,\u001b[0m \u001b[0;34m'Set2'\u001b[0m\u001b[0;34m,\u001b[0m \u001b[0;34m'Set2_r'\u001b[0m\u001b[0;34m,\u001b[0m \u001b[0;34m'Set3'\u001b[0m\u001b[0;34m,\u001b[0m \u001b[0;34m'Set3_r'\u001b[0m\u001b[0;34m,\u001b[0m \u001b[0;34m'Spectral'\u001b[0m\u001b[0;34m,\u001b[0m \u001b[0;34m'Spectral_r'\u001b[0m\u001b[0;34m,\u001b[0m \u001b[0;34m'Wistia'\u001b[0m\u001b[0;34m,\u001b[0m \u001b[0;34m'Wistia_r'\u001b[0m\u001b[0;34m,\u001b[0m \u001b[0;34m'YlGn'\u001b[0m\u001b[0;34m,\u001b[0m \u001b[0;34m'YlGnBu'\u001b[0m\u001b[0;34m,\u001b[0m \u001b[0;34m'YlGnBu_r'\u001b[0m\u001b[0;34m,\u001b[0m \u001b[0;34m'YlGn_r'\u001b[0m\u001b[0;34m,\u001b[0m \u001b[0;34m'YlOrBr'\u001b[0m\u001b[0;34m,\u001b[0m \u001b[0;34m'YlOrBr_r'\u001b[0m\u001b[0;34m,\u001b[0m \u001b[0;34m'YlOrRd'\u001b[0m\u001b[0;34m,\u001b[0m \u001b[0;34m'YlOrRd_r'\u001b[0m\u001b[0;34m,\u001b[0m \u001b[0;34m'afmhot'\u001b[0m\u001b[0;34m,\u001b[0m \u001b[0;34m'afmhot_r'\u001b[0m\u001b[0;34m,\u001b[0m \u001b[0;34m'autumn'\u001b[0m\u001b[0;34m,\u001b[0m \u001b[0;34m'autumn_r'\u001b[0m\u001b[0;34m,\u001b[0m \u001b[0;34m'binary'\u001b[0m\u001b[0;34m,\u001b[0m \u001b[0;34m'binary_r'\u001b[0m\u001b[0;34m,\u001b[0m \u001b[0;34m'bone'\u001b[0m\u001b[0;34m,\u001b[0m \u001b[0;34m'bone_r'\u001b[0m\u001b[0;34m,\u001b[0m \u001b[0;34m'brg'\u001b[0m\u001b[0;34m,\u001b[0m \u001b[0;34m'brg_r'\u001b[0m\u001b[0;34m,\u001b[0m \u001b[0;34m'bwr'\u001b[0m\u001b[0;34m,\u001b[0m \u001b[0;34m'bwr_r'\u001b[0m\u001b[0;34m,\u001b[0m \u001b[0;34m'cividis'\u001b[0m\u001b[0;34m,\u001b[0m \u001b[0;34m'cividis_r'\u001b[0m\u001b[0;34m,\u001b[0m \u001b[0;34m'cool'\u001b[0m\u001b[0;34m,\u001b[0m \u001b[0;34m'cool_r'\u001b[0m\u001b[0;34m,\u001b[0m \u001b[0;34m'coolwarm'\u001b[0m\u001b[0;34m,\u001b[0m \u001b[0;34m'coolwarm_r'\u001b[0m\u001b[0;34m,\u001b[0m \u001b[0;34m'copper'\u001b[0m\u001b[0;34m,\u001b[0m \u001b[0;34m'copper_r'\u001b[0m\u001b[0;34m,\u001b[0m \u001b[0;34m'crest'\u001b[0m\u001b[0;34m,\u001b[0m \u001b[0;34m'crest_r'\u001b[0m\u001b[0;34m,\u001b[0m \u001b[0;34m'cubehelix'\u001b[0m\u001b[0;34m,\u001b[0m \u001b[0;34m'cubehelix_r'\u001b[0m\u001b[0;34m,\u001b[0m \u001b[0;34m'flag'\u001b[0m\u001b[0;34m,\u001b[0m \u001b[0;34m'flag_r'\u001b[0m\u001b[0;34m,\u001b[0m \u001b[0;34m'flare'\u001b[0m\u001b[0;34m,\u001b[0m \u001b[0;34m'flare_r'\u001b[0m\u001b[0;34m,\u001b[0m \u001b[0;34m'gist_earth'\u001b[0m\u001b[0;34m,\u001b[0m \u001b[0;34m'gist_earth_r'\u001b[0m\u001b[0;34m,\u001b[0m \u001b[0;34m'gist_gray'\u001b[0m\u001b[0;34m,\u001b[0m \u001b[0;34m'gist_gray_r'\u001b[0m\u001b[0;34m,\u001b[0m \u001b[0;34m'gist_heat'\u001b[0m\u001b[0;34m,\u001b[0m \u001b[0;34m'gist_heat_r'\u001b[0m\u001b[0;34m,\u001b[0m \u001b[0;34m'gist_ncar'\u001b[0m\u001b[0;34m,\u001b[0m \u001b[0;34m'gist_ncar_r'\u001b[0m\u001b[0;34m,\u001b[0m \u001b[0;34m'gist_rainbow'\u001b[0m\u001b[0;34m,\u001b[0m \u001b[0;34m'gist_rainbow_r'\u001b[0m\u001b[0;34m,\u001b[0m \u001b[0;34m'gist_stern'\u001b[0m\u001b[0;34m,\u001b[0m \u001b[0;34m'gist_stern_r'\u001b[0m\u001b[0;34m,\u001b[0m \u001b[0;34m'gist_yarg'\u001b[0m\u001b[0;34m,\u001b[0m \u001b[0;34m'gist_yarg_r'\u001b[0m\u001b[0;34m,\u001b[0m \u001b[0;34m'gnuplot'\u001b[0m\u001b[0;34m,\u001b[0m \u001b[0;34m'gnuplot2'\u001b[0m\u001b[0;34m,\u001b[0m \u001b[0;34m'gnuplot2_r'\u001b[0m\u001b[0;34m,\u001b[0m \u001b[0;34m'gnuplot_r'\u001b[0m\u001b[0;34m,\u001b[0m \u001b[0;34m'gray'\u001b[0m\u001b[0;34m,\u001b[0m \u001b[0;34m'gray_r'\u001b[0m\u001b[0;34m,\u001b[0m \u001b[0;34m'hot'\u001b[0m\u001b[0;34m,\u001b[0m \u001b[0;34m'hot_r'\u001b[0m\u001b[0;34m,\u001b[0m \u001b[0;34m'hsv'\u001b[0m\u001b[0;34m,\u001b[0m \u001b[0;34m'hsv_r'\u001b[0m\u001b[0;34m,\u001b[0m \u001b[0;34m'icefire'\u001b[0m\u001b[0;34m,\u001b[0m \u001b[0;34m'icefire_r'\u001b[0m\u001b[0;34m,\u001b[0m \u001b[0;34m'inferno'\u001b[0m\u001b[0;34m,\u001b[0m \u001b[0;34m'inferno_r'\u001b[0m\u001b[0;34m,\u001b[0m \u001b[0;34m'jet'\u001b[0m\u001b[0;34m,\u001b[0m \u001b[0;34m'jet_r'\u001b[0m\u001b[0;34m,\u001b[0m \u001b[0;34m'magma'\u001b[0m\u001b[0;34m,\u001b[0m \u001b[0;34m'magma_r'\u001b[0m\u001b[0;34m,\u001b[0m \u001b[0;34m'mako'\u001b[0m\u001b[0;34m,\u001b[0m \u001b[0;34m'mako_r'\u001b[0m\u001b[0;34m,\u001b[0m \u001b[0;34m'nipy_spectral'\u001b[0m\u001b[0;34m,\u001b[0m \u001b[0;34m'nipy_spectral_r'\u001b[0m\u001b[0;34m,\u001b[0m \u001b[0;34m'ocean'\u001b[0m\u001b[0;34m,\u001b[0m \u001b[0;34m'ocean_r'\u001b[0m\u001b[0;34m,\u001b[0m \u001b[0;34m'pink'\u001b[0m\u001b[0;34m,\u001b[0m \u001b[0;34m'pink_r'\u001b[0m\u001b[0;34m,\u001b[0m \u001b[0;34m'plasma'\u001b[0m\u001b[0;34m,\u001b[0m \u001b[0;34m'plasma_r'\u001b[0m\u001b[0;34m,\u001b[0m \u001b[0;34m'prism'\u001b[0m\u001b[0;34m,\u001b[0m \u001b[0;34m'prism_r'\u001b[0m\u001b[0;34m,\u001b[0m \u001b[0;34m'rainbow'\u001b[0m\u001b[0;34m,\u001b[0m \u001b[0;34m'rainbow_r'\u001b[0m\u001b[0;34m,\u001b[0m \u001b[0;34m'rocket'\u001b[0m\u001b[0;34m,\u001b[0m \u001b[0;34m'rocket_r'\u001b[0m\u001b[0;34m,\u001b[0m \u001b[0;34m'seismic'\u001b[0m\u001b[0;34m,\u001b[0m \u001b[0;34m'seismic_r'\u001b[0m\u001b[0;34m,\u001b[0m \u001b[0;34m'spring'\u001b[0m\u001b[0;34m,\u001b[0m \u001b[0;34m'spring_r'\u001b[0m\u001b[0;34m,\u001b[0m \u001b[0;34m'summer'\u001b[0m\u001b[0;34m,\u001b[0m \u001b[0;34m'summer_r'\u001b[0m\u001b[0;34m,\u001b[0m \u001b[0;34m'tab10'\u001b[0m\u001b[0;34m,\u001b[0m \u001b[0;34m'tab10_r'\u001b[0m\u001b[0;34m,\u001b[0m \u001b[0;34m'tab20'\u001b[0m\u001b[0;34m,\u001b[0m \u001b[0;34m'tab20_r'\u001b[0m\u001b[0;34m,\u001b[0m \u001b[0;34m'tab20b'\u001b[0m\u001b[0;34m,\u001b[0m \u001b[0;34m'tab20b_r'\u001b[0m\u001b[0;34m,\u001b[0m \u001b[0;34m'tab20c'\u001b[0m\u001b[0;34m,\u001b[0m \u001b[0;34m'tab20c_r'\u001b[0m\u001b[0;34m,\u001b[0m \u001b[0;34m'terrain'\u001b[0m\u001b[0;34m,\u001b[0m \u001b[0;34m'terrain_r'\u001b[0m\u001b[0;34m,\u001b[0m \u001b[0;34m'twilight'\u001b[0m\u001b[0;34m,\u001b[0m \u001b[0;34m'twilight_r'\u001b[0m\u001b[0;34m,\u001b[0m \u001b[0;34m'twilight_shifted'\u001b[0m\u001b[0;34m,\u001b[0m \u001b[0;34m'twilight_shifted_r'\u001b[0m\u001b[0;34m,\u001b[0m \u001b[0;34m'viridis'\u001b[0m\u001b[0;34m,\u001b[0m \u001b[0;34m'viridis_r'\u001b[0m\u001b[0;34m,\u001b[0m \u001b[0;34m'vlag'\u001b[0m\u001b[0;34m,\u001b[0m \u001b[0;34m'vlag_r'\u001b[0m\u001b[0;34m,\u001b[0m \u001b[0;34m'winter'\u001b[0m\u001b[0;34m,\u001b[0m \u001b[0;34m'winter_r'\u001b[0m\u001b[0;34m\u001b[0m\u001b[0;34m\u001b[0m\u001b[0m\n\u001b[1;32m      2\u001b[0m \u001b[0;32mfor\u001b[0m \u001b[0mi\u001b[0m\u001b[0;34m,\u001b[0m \u001b[0mcol\u001b[0m \u001b[0;32min\u001b[0m \u001b[0menumerate\u001b[0m\u001b[0;34m(\u001b[0m\u001b[0mnumeric\u001b[0m\u001b[0;34m.\u001b[0m\u001b[0mcolumns\u001b[0m\u001b[0;34m)\u001b[0m\u001b[0;34m:\u001b[0m\u001b[0;34m\u001b[0m\u001b[0;34m\u001b[0m\u001b[0m\n\u001b[0;32m----> 3\u001b[0;31m     \u001b[0mboxplots\u001b[0m\u001b[0;34m(\u001b[0m\u001b[0mi\u001b[0m\u001b[0;34m,\u001b[0m \u001b[0mcol\u001b[0m\u001b[0;34m)\u001b[0m\u001b[0;34m\u001b[0m\u001b[0;34m\u001b[0m\u001b[0m\n\u001b[0m",
      "\u001b[0;32m<ipython-input-36-8b9be62f32c2>\u001b[0m in \u001b[0;36mboxplots\u001b[0;34m(idx, col, figsize)\u001b[0m\n\u001b[1;32m      4\u001b[0m     \u001b[0mplt\u001b[0m\u001b[0;34m.\u001b[0m\u001b[0mfigure\u001b[0m\u001b[0;34m(\u001b[0m\u001b[0midx\u001b[0m\u001b[0;34m)\u001b[0m\u001b[0;34m\u001b[0m\u001b[0;34m\u001b[0m\u001b[0m\n\u001b[1;32m      5\u001b[0m     \u001b[0mplt\u001b[0m\u001b[0;34m.\u001b[0m\u001b[0mfigure\u001b[0m\u001b[0;34m(\u001b[0m\u001b[0mfigsize\u001b[0m\u001b[0;34m=\u001b[0m\u001b[0mfigsize\u001b[0m\u001b[0;34m)\u001b[0m\u001b[0;34m\u001b[0m\u001b[0;34m\u001b[0m\u001b[0m\n\u001b[0;32m----> 6\u001b[0;31m     \u001b[0msns\u001b[0m\u001b[0;34m.\u001b[0m\u001b[0mboxplot\u001b[0m\u001b[0;34m(\u001b[0m\u001b[0msurprise_house_data\u001b[0m\u001b[0;34m[\u001b[0m\u001b[0mcol\u001b[0m\u001b[0;34m]\u001b[0m\u001b[0;34m,\u001b[0m \u001b[0mpalette\u001b[0m\u001b[0;34m=\u001b[0m\u001b[0mpat\u001b[0m\u001b[0;34m[\u001b[0m\u001b[0mrandom\u001b[0m\u001b[0;34m.\u001b[0m\u001b[0mrandint\u001b[0m\u001b[0;34m(\u001b[0m\u001b[0;36m0\u001b[0m\u001b[0;34m,\u001b[0m\u001b[0mlen\u001b[0m\u001b[0;34m(\u001b[0m\u001b[0mpat\u001b[0m\u001b[0;34m)\u001b[0m\u001b[0;34m-\u001b[0m\u001b[0;36m1\u001b[0m\u001b[0;34m)\u001b[0m\u001b[0;34m]\u001b[0m\u001b[0;34m)\u001b[0m\u001b[0;34m\u001b[0m\u001b[0;34m\u001b[0m\u001b[0m\n\u001b[0m\u001b[1;32m      7\u001b[0m     \u001b[0mplt\u001b[0m\u001b[0;34m.\u001b[0m\u001b[0mshow\u001b[0m\u001b[0;34m(\u001b[0m\u001b[0;34m)\u001b[0m\u001b[0;34m\u001b[0m\u001b[0;34m\u001b[0m\u001b[0m\n",
      "\u001b[0;32m/opt/anaconda3/lib/python3.8/site-packages/seaborn/_decorators.py\u001b[0m in \u001b[0;36minner_f\u001b[0;34m(*args, **kwargs)\u001b[0m\n\u001b[1;32m     44\u001b[0m             )\n\u001b[1;32m     45\u001b[0m         \u001b[0mkwargs\u001b[0m\u001b[0;34m.\u001b[0m\u001b[0mupdate\u001b[0m\u001b[0;34m(\u001b[0m\u001b[0;34m{\u001b[0m\u001b[0mk\u001b[0m\u001b[0;34m:\u001b[0m \u001b[0marg\u001b[0m \u001b[0;32mfor\u001b[0m \u001b[0mk\u001b[0m\u001b[0;34m,\u001b[0m \u001b[0marg\u001b[0m \u001b[0;32min\u001b[0m \u001b[0mzip\u001b[0m\u001b[0;34m(\u001b[0m\u001b[0msig\u001b[0m\u001b[0;34m.\u001b[0m\u001b[0mparameters\u001b[0m\u001b[0;34m,\u001b[0m \u001b[0margs\u001b[0m\u001b[0;34m)\u001b[0m\u001b[0;34m}\u001b[0m\u001b[0;34m)\u001b[0m\u001b[0;34m\u001b[0m\u001b[0;34m\u001b[0m\u001b[0m\n\u001b[0;32m---> 46\u001b[0;31m         \u001b[0;32mreturn\u001b[0m \u001b[0mf\u001b[0m\u001b[0;34m(\u001b[0m\u001b[0;34m**\u001b[0m\u001b[0mkwargs\u001b[0m\u001b[0;34m)\u001b[0m\u001b[0;34m\u001b[0m\u001b[0;34m\u001b[0m\u001b[0m\n\u001b[0m\u001b[1;32m     47\u001b[0m     \u001b[0;32mreturn\u001b[0m \u001b[0minner_f\u001b[0m\u001b[0;34m\u001b[0m\u001b[0;34m\u001b[0m\u001b[0m\n\u001b[1;32m     48\u001b[0m \u001b[0;34m\u001b[0m\u001b[0m\n",
      "\u001b[0;32m/opt/anaconda3/lib/python3.8/site-packages/seaborn/categorical.py\u001b[0m in \u001b[0;36mboxplot\u001b[0;34m(x, y, hue, data, order, hue_order, orient, color, palette, saturation, width, dodge, fliersize, linewidth, whis, ax, **kwargs)\u001b[0m\n\u001b[1;32m   2238\u001b[0m ):\n\u001b[1;32m   2239\u001b[0m \u001b[0;34m\u001b[0m\u001b[0m\n\u001b[0;32m-> 2240\u001b[0;31m     plotter = _BoxPlotter(x, y, hue, data, order, hue_order,\n\u001b[0m\u001b[1;32m   2241\u001b[0m                           \u001b[0morient\u001b[0m\u001b[0;34m,\u001b[0m \u001b[0mcolor\u001b[0m\u001b[0;34m,\u001b[0m \u001b[0mpalette\u001b[0m\u001b[0;34m,\u001b[0m \u001b[0msaturation\u001b[0m\u001b[0;34m,\u001b[0m\u001b[0;34m\u001b[0m\u001b[0;34m\u001b[0m\u001b[0m\n\u001b[1;32m   2242\u001b[0m                           width, dodge, fliersize, linewidth)\n",
      "\u001b[0;32m/opt/anaconda3/lib/python3.8/site-packages/seaborn/categorical.py\u001b[0m in \u001b[0;36m__init__\u001b[0;34m(self, x, y, hue, data, order, hue_order, orient, color, palette, saturation, width, dodge, fliersize, linewidth)\u001b[0m\n\u001b[1;32m    405\u001b[0m \u001b[0;34m\u001b[0m\u001b[0m\n\u001b[1;32m    406\u001b[0m         \u001b[0mself\u001b[0m\u001b[0;34m.\u001b[0m\u001b[0mestablish_variables\u001b[0m\u001b[0;34m(\u001b[0m\u001b[0mx\u001b[0m\u001b[0;34m,\u001b[0m \u001b[0my\u001b[0m\u001b[0;34m,\u001b[0m \u001b[0mhue\u001b[0m\u001b[0;34m,\u001b[0m \u001b[0mdata\u001b[0m\u001b[0;34m,\u001b[0m \u001b[0morient\u001b[0m\u001b[0;34m,\u001b[0m \u001b[0morder\u001b[0m\u001b[0;34m,\u001b[0m \u001b[0mhue_order\u001b[0m\u001b[0;34m)\u001b[0m\u001b[0;34m\u001b[0m\u001b[0;34m\u001b[0m\u001b[0m\n\u001b[0;32m--> 407\u001b[0;31m         \u001b[0mself\u001b[0m\u001b[0;34m.\u001b[0m\u001b[0mestablish_colors\u001b[0m\u001b[0;34m(\u001b[0m\u001b[0mcolor\u001b[0m\u001b[0;34m,\u001b[0m \u001b[0mpalette\u001b[0m\u001b[0;34m,\u001b[0m \u001b[0msaturation\u001b[0m\u001b[0;34m)\u001b[0m\u001b[0;34m\u001b[0m\u001b[0;34m\u001b[0m\u001b[0m\n\u001b[0m\u001b[1;32m    408\u001b[0m \u001b[0;34m\u001b[0m\u001b[0m\n\u001b[1;32m    409\u001b[0m         \u001b[0mself\u001b[0m\u001b[0;34m.\u001b[0m\u001b[0mdodge\u001b[0m \u001b[0;34m=\u001b[0m \u001b[0mdodge\u001b[0m\u001b[0;34m\u001b[0m\u001b[0;34m\u001b[0m\u001b[0m\n",
      "\u001b[0;32m/opt/anaconda3/lib/python3.8/site-packages/seaborn/categorical.py\u001b[0m in \u001b[0;36mestablish_colors\u001b[0;34m(self, color, palette, saturation)\u001b[0m\n\u001b[1;32m    306\u001b[0m                 \u001b[0mpalette\u001b[0m \u001b[0;34m=\u001b[0m \u001b[0;34m[\u001b[0m\u001b[0mpalette\u001b[0m\u001b[0;34m[\u001b[0m\u001b[0ml\u001b[0m\u001b[0;34m]\u001b[0m \u001b[0;32mfor\u001b[0m \u001b[0ml\u001b[0m \u001b[0;32min\u001b[0m \u001b[0mlevels\u001b[0m\u001b[0;34m]\u001b[0m\u001b[0;34m\u001b[0m\u001b[0;34m\u001b[0m\u001b[0m\n\u001b[1;32m    307\u001b[0m \u001b[0;34m\u001b[0m\u001b[0m\n\u001b[0;32m--> 308\u001b[0;31m             \u001b[0mcolors\u001b[0m \u001b[0;34m=\u001b[0m \u001b[0mcolor_palette\u001b[0m\u001b[0;34m(\u001b[0m\u001b[0mpalette\u001b[0m\u001b[0;34m,\u001b[0m \u001b[0mn_colors\u001b[0m\u001b[0;34m)\u001b[0m\u001b[0;34m\u001b[0m\u001b[0;34m\u001b[0m\u001b[0m\n\u001b[0m\u001b[1;32m    309\u001b[0m \u001b[0;34m\u001b[0m\u001b[0m\n\u001b[1;32m    310\u001b[0m         \u001b[0;31m# Desaturate a bit because these are patches\u001b[0m\u001b[0;34m\u001b[0m\u001b[0;34m\u001b[0m\u001b[0;34m\u001b[0m\u001b[0m\n",
      "\u001b[0;32m/opt/anaconda3/lib/python3.8/site-packages/seaborn/palettes.py\u001b[0m in \u001b[0;36mcolor_palette\u001b[0;34m(palette, n_colors, desat, as_cmap)\u001b[0m\n\u001b[1;32m    172\u001b[0m         \u001b[0;32melif\u001b[0m \u001b[0mpalette\u001b[0m\u001b[0;34m.\u001b[0m\u001b[0mlower\u001b[0m\u001b[0;34m(\u001b[0m\u001b[0;34m)\u001b[0m \u001b[0;34m==\u001b[0m \u001b[0;34m\"jet\"\u001b[0m\u001b[0;34m:\u001b[0m\u001b[0;34m\u001b[0m\u001b[0;34m\u001b[0m\u001b[0m\n\u001b[1;32m    173\u001b[0m             \u001b[0;31m# Paternalism\u001b[0m\u001b[0;34m\u001b[0m\u001b[0;34m\u001b[0m\u001b[0;34m\u001b[0m\u001b[0m\n\u001b[0;32m--> 174\u001b[0;31m             \u001b[0;32mraise\u001b[0m \u001b[0mValueError\u001b[0m\u001b[0;34m(\u001b[0m\u001b[0;34m\"No.\"\u001b[0m\u001b[0;34m)\u001b[0m\u001b[0;34m\u001b[0m\u001b[0;34m\u001b[0m\u001b[0m\n\u001b[0m\u001b[1;32m    175\u001b[0m \u001b[0;34m\u001b[0m\u001b[0m\n\u001b[1;32m    176\u001b[0m         \u001b[0;32melif\u001b[0m \u001b[0mpalette\u001b[0m\u001b[0;34m.\u001b[0m\u001b[0mstartswith\u001b[0m\u001b[0;34m(\u001b[0m\u001b[0;34m\"ch:\"\u001b[0m\u001b[0;34m)\u001b[0m\u001b[0;34m:\u001b[0m\u001b[0;34m\u001b[0m\u001b[0;34m\u001b[0m\u001b[0m\n",
      "\u001b[0;31mValueError\u001b[0m: No."
     ]
    },
    {
     "data": {
      "text/plain": [
       "<Figure size 432x288 with 0 Axes>"
      ]
     },
     "metadata": {},
     "output_type": "display_data"
    },
    {
     "data": {
      "text/plain": [
       "<Figure size 720x288 with 0 Axes>"
      ]
     },
     "metadata": {},
     "output_type": "display_data"
    }
   ],
   "source": [
    "pat = 'Accent', 'Accent_r', 'Blues', 'Blues_r', 'BrBG', 'BrBG_r', 'BuGn', 'BuGn_r', 'BuPu', 'BuPu_r', 'CMRmap', 'CMRmap_r', 'Dark2', 'Dark2_r', 'GnBu', 'GnBu_r', 'Greens', 'Greens_r', 'Greys', 'Greys_r', 'OrRd', 'OrRd_r', 'Oranges', 'Oranges_r', 'PRGn', 'PRGn_r', 'Paired', 'Paired_r', 'Pastel1', 'Pastel1_r', 'Pastel2', 'Pastel2_r', 'PiYG', 'PiYG_r', 'PuBu', 'PuBuGn', 'PuBuGn_r', 'PuBu_r', 'PuOr', 'PuOr_r', 'PuRd', 'PuRd_r', 'Purples', 'Purples_r', 'RdBu', 'RdBu_r', 'RdGy', 'RdGy_r', 'RdPu', 'RdPu_r', 'RdYlBu', 'RdYlBu_r', 'RdYlGn', 'RdYlGn_r', 'Reds', 'Reds_r', 'Set1', 'Set1_r', 'Set2', 'Set2_r', 'Set3', 'Set3_r', 'Spectral', 'Spectral_r', 'Wistia', 'Wistia_r', 'YlGn', 'YlGnBu', 'YlGnBu_r', 'YlGn_r', 'YlOrBr', 'YlOrBr_r', 'YlOrRd', 'YlOrRd_r', 'afmhot', 'afmhot_r', 'autumn', 'autumn_r', 'binary', 'binary_r', 'bone', 'bone_r', 'brg', 'brg_r', 'bwr', 'bwr_r', 'cividis', 'cividis_r', 'cool', 'cool_r', 'coolwarm', 'coolwarm_r', 'copper', 'copper_r', 'crest', 'crest_r', 'cubehelix', 'cubehelix_r', 'flag', 'flag_r', 'flare', 'flare_r', 'gist_earth', 'gist_earth_r', 'gist_gray', 'gist_gray_r', 'gist_heat', 'gist_heat_r', 'gist_ncar', 'gist_ncar_r', 'gist_rainbow', 'gist_rainbow_r', 'gist_stern', 'gist_stern_r', 'gist_yarg', 'gist_yarg_r', 'gnuplot', 'gnuplot2', 'gnuplot2_r', 'gnuplot_r', 'gray', 'gray_r', 'hot', 'hot_r', 'hsv', 'hsv_r', 'icefire', 'icefire_r', 'inferno', 'inferno_r', 'jet', 'jet_r', 'magma', 'magma_r', 'mako', 'mako_r', 'nipy_spectral', 'nipy_spectral_r', 'ocean', 'ocean_r', 'pink', 'pink_r', 'plasma', 'plasma_r', 'prism', 'prism_r', 'rainbow', 'rainbow_r', 'rocket', 'rocket_r', 'seismic', 'seismic_r', 'spring', 'spring_r', 'summer', 'summer_r', 'tab10', 'tab10_r', 'tab20', 'tab20_r', 'tab20b', 'tab20b_r', 'tab20c', 'tab20c_r', 'terrain', 'terrain_r', 'twilight', 'twilight_r', 'twilight_shifted', 'twilight_shifted_r', 'viridis', 'viridis_r', 'vlag', 'vlag_r', 'winter', 'winter_r'\n",
    "for i, col in enumerate(numeric.columns):\n",
    "    boxplots(i, col)"
   ]
  },
  {
   "cell_type": "code",
   "execution_count": null,
   "id": "60498713",
   "metadata": {},
   "outputs": [],
   "source": [
    "# Plotting a distribution plot on \"SalePrice\"\n",
    "plt.figure(figsize=(10,6))\n",
    "sns.distplot(surprise_house_data.SalePrice)\n",
    "plt.show()"
   ]
  },
  {
   "cell_type": "markdown",
   "id": "6ff31f9c",
   "metadata": {},
   "source": [
    "- We can see that SalePrice is Right skewed \n",
    "- To make correction we can use Log on it."
   ]
  },
  {
   "cell_type": "markdown",
   "id": "9b7c6568",
   "metadata": {},
   "source": [
    "### b. Bivarent Analysis"
   ]
  },
  {
   "cell_type": "code",
   "execution_count": null,
   "id": "16f2b4a9",
   "metadata": {},
   "outputs": [],
   "source": [
    "# This function is used to plot box plot for two variables. Here constant variable is SalePrice.\n",
    "def bi_boxplot(idx, col, figsize = (7,7)):\n",
    "    plt.figure(idx)\n",
    "    plt.figure(figsize=figsize)\n",
    "    sns.boxplot(x=col, y=\"SalePrice\", data=surprise_house_data)\n",
    "    plt.show()"
   ]
  },
  {
   "cell_type": "code",
   "execution_count": null,
   "id": "8c8a5885",
   "metadata": {},
   "outputs": [],
   "source": [
    "for i, val in enumerate(unique_cat):\n",
    "    if val<4:\n",
    "        bi_boxplot(i, unique_cat.keys()[i], figsize = (7,5))\n",
    "    elif val<10:\n",
    "        bi_boxplot(i, unique_cat.keys()[i], figsize = (8,6))\n",
    "    else:\n",
    "        bi_boxplot(i, unique_cat.keys()[i], figsize = (15,8))"
   ]
  },
  {
   "cell_type": "code",
   "execution_count": null,
   "id": "c24845c5",
   "metadata": {},
   "outputs": [],
   "source": [
    "# This function used to plot joinplots for two variables. Here constant variable is SalePrice\n",
    "def joinplots(idx, col):\n",
    "    plt.figure(idx)\n",
    "    sns.jointplot(x=col, y=\"SalePrice\", data=surprise_house_data)\n",
    "    plt.show()"
   ]
  },
  {
   "cell_type": "code",
   "execution_count": null,
   "id": "b3d69b61",
   "metadata": {},
   "outputs": [],
   "source": [
    "for i, col in enumerate(numeric.columns):\n",
    "    if col!=\"SalePrice\":\n",
    "        joinplots(i, col)"
   ]
  },
  {
   "cell_type": "markdown",
   "id": "22cc62fb",
   "metadata": {},
   "source": [
    "### c. Multivarent Analysis"
   ]
  },
  {
   "cell_type": "code",
   "execution_count": null,
   "id": "153b610f",
   "metadata": {},
   "outputs": [],
   "source": [
    "cor_house = surprise_house_data.corr()\n",
    "cor_house"
   ]
  },
  {
   "cell_type": "code",
   "execution_count": null,
   "id": "181376cb",
   "metadata": {},
   "outputs": [],
   "source": [
    "plt.figure(figsize=(20,20))\n",
    "sns.heatmap(cor_house, annot=True, linecolor=\"white\", linewidths=1)\n",
    "plt.show() "
   ]
  },
  {
   "cell_type": "markdown",
   "id": "4375f608",
   "metadata": {},
   "source": [
    "- Here we can see that **'OverallQual', 'YearBuilt', 'YearRemodAdd', 'MasVnrArea', 'TotalBsmtSF', '1stFlrSF', 'GrLivArea', 'FullBath', 'TotRmsAbvGrd', 'Fireplaces', 'GarageYrBlt', 'GarageCars', 'GarageArea'**\n",
    "- Total of 13 variables have more than 0.4 correlation with **SalePrice**\n",
    "- We will get some insight into these 13 variables"
   ]
  },
  {
   "cell_type": "code",
   "execution_count": null,
   "id": "ee8b5ab1",
   "metadata": {},
   "outputs": [],
   "source": [
    "high_coor = ['OverallQual', 'YearBuilt', 'YearRemodAdd', 'MasVnrArea', 'TotalBsmtSF', '1stFlrSF', 'GrLivArea', 'FullBath', 'TotRmsAbvGrd', 'Fireplaces', 'GarageYrBlt', 'GarageCars', 'GarageArea']\n",
    "len(high_coor)"
   ]
  },
  {
   "cell_type": "code",
   "execution_count": null,
   "id": "dcb3eb1e",
   "metadata": {},
   "outputs": [],
   "source": [
    "plt.figure(1)\n",
    "ax = sns.pairplot(data = surprise_house_data, y_vars = 'SalePrice', x_vars=high_coor[:3] , diag_kind = 'kde',\n",
    "             plot_kws = {'alpha': 1.0, 's': 100, 'edgecolor': 'k'}, \n",
    "             height = 5)\n",
    "plt.figure(2)\n",
    "ax = sns.pairplot(data = surprise_house_data, y_vars = 'SalePrice', x_vars=high_coor[3:6] , diag_kind = 'kde',\n",
    "             plot_kws = {'alpha': 1.0, 's': 100, 'edgecolor': 'k'}, \n",
    "             height = 5)\n",
    "plt.figure(3)\n",
    "ax = sns.pairplot(data = surprise_house_data, y_vars = 'SalePrice', x_vars=high_coor[6:9] , diag_kind = 'kde',\n",
    "             plot_kws = {'alpha': 1.0, 's': 100, 'edgecolor': 'k'}, \n",
    "             height = 5)\n",
    "plt.figure(4)\n",
    "ax = sns.pairplot(data = surprise_house_data, y_vars = 'SalePrice', x_vars=high_coor[9:] , diag_kind = 'kde',\n",
    "             plot_kws = {'alpha': 1.0, 's': 100, 'edgecolor': 'k'}, \n",
    "             height = 5)\n",
    "plt.show()"
   ]
  },
  {
   "cell_type": "markdown",
   "id": "8dc505c0",
   "metadata": {},
   "source": [
    "- Plotting pair plot for those variables which show correlation above 60\n",
    "- Here, we can see that when an increase in the OverallQual value increases the SalePrice. \n",
    "- Increase in  YearBuilt, YearRemodAdd, FullBath, TotRmsAbvGrd also increased the salePrice\n",
    "- People usually prefer 'Fireplaces', 'GarageCars', 'GarageArea' in the mid than man. "
   ]
  },
  {
   "cell_type": "code",
   "execution_count": null,
   "id": "cfa8815b",
   "metadata": {},
   "outputs": [],
   "source": [
    "coor_60 = ['OverallQual', 'TotalBsmtSF', '1stFlrSF', 'GrLivArea', 'GarageCars', 'GarageArea']\n",
    "len(coor_60)"
   ]
  },
  {
   "cell_type": "code",
   "execution_count": null,
   "id": "e18f9099",
   "metadata": {},
   "outputs": [],
   "source": [
    "g = sns.pairplot(data = surprise_house_data, hue = 'SalePrice', vars=coor_60, palette=\"nipy_spectral\")\n",
    "plt.show()"
   ]
  },
  {
   "cell_type": "markdown",
   "id": "67fc7204",
   "metadata": {},
   "source": [
    "## Data Preparation"
   ]
  },
  {
   "cell_type": "code",
   "execution_count": null,
   "id": "a14a81fc",
   "metadata": {},
   "outputs": [],
   "source": [
    "categorical.columns"
   ]
  },
  {
   "cell_type": "code",
   "execution_count": null,
   "id": "075f2b60",
   "metadata": {},
   "outputs": [],
   "source": [
    "for i, val in enumerate(unique_cat):\n",
    "    if val <=2:\n",
    "        print(unique_cat.keys()[i] , val)"
   ]
  },
  {
   "cell_type": "code",
   "execution_count": null,
   "id": "eb0fba81",
   "metadata": {},
   "outputs": [],
   "source": [
    "# Street, CentralAir, Utilities have only two unique variables\n",
    "surprise_house_data['Street'] = surprise_house_data['Street'].apply(lambda x: 1 if x == 'Pave' else 0 )\n",
    "surprise_house_data['CentralAir'] = surprise_house_data['CentralAir'].apply(lambda x : 1 if x == 'Y' else 0)                                                 \n",
    "surprise_house_data['Utilities'] = surprise_house_data['Utilities'].apply(lambda x : 1 if x == 'AllPub' else 0)\n"
   ]
  },
  {
   "cell_type": "code",
   "execution_count": null,
   "id": "e0e0cb5b",
   "metadata": {},
   "outputs": [],
   "source": [
    "# Getting only the categorical variables. \n",
    "categorical = surprise_house_data.select_dtypes(include=['object'])\n",
    "categorical.shape"
   ]
  },
  {
   "cell_type": "code",
   "execution_count": null,
   "id": "c83caaff",
   "metadata": {},
   "outputs": [],
   "source": [
    "# converting all the categorical variables into dummies\n",
    "dummy_cat = pd.get_dummies(categorical, drop_first=True)\n",
    "dummy_cat.head()"
   ]
  },
  {
   "cell_type": "code",
   "execution_count": null,
   "id": "be423b70",
   "metadata": {},
   "outputs": [],
   "source": [
    "categorical.columns"
   ]
  },
  {
   "cell_type": "code",
   "execution_count": null,
   "id": "5b8bdffc",
   "metadata": {},
   "outputs": [],
   "source": [
    "# Dropping those categorical variables which are converted into dummies\n",
    "surprise_house_data = surprise_house_data.drop(categorical.columns, axis=1)\n",
    "surprise_house_data.shape"
   ]
  },
  {
   "cell_type": "code",
   "execution_count": null,
   "id": "766ed013",
   "metadata": {},
   "outputs": [],
   "source": [
    "# contacting the dummies and house_data\n",
    "final_house_data = pd.concat([dummy_cat, surprise_house_data], axis=1)\n",
    "final_house_data.shape"
   ]
  },
  {
   "cell_type": "code",
   "execution_count": null,
   "id": "6e9ebded",
   "metadata": {},
   "outputs": [],
   "source": [
    "final_house_data.sample()"
   ]
  },
  {
   "cell_type": "code",
   "execution_count": null,
   "id": "465b8a20",
   "metadata": {},
   "outputs": [],
   "source": [
    "final_house_data.info()"
   ]
  },
  {
   "cell_type": "markdown",
   "id": "1040f580",
   "metadata": {},
   "source": [
    "## Splitting the Data into Training and Testing Sets"
   ]
  },
  {
   "cell_type": "code",
   "execution_count": null,
   "id": "67f62e2b",
   "metadata": {},
   "outputs": [],
   "source": [
    "# importing train_test_split\n",
    "from sklearn.model_selection import train_test_split"
   ]
  },
  {
   "cell_type": "code",
   "execution_count": null,
   "id": "a354b34f",
   "metadata": {},
   "outputs": [],
   "source": [
    "y = final_house_data.SalePrice\n",
    "y.shape"
   ]
  },
  {
   "cell_type": "code",
   "execution_count": null,
   "id": "cfc39550",
   "metadata": {},
   "outputs": [],
   "source": [
    "X = final_house_data.drop(\"SalePrice\", axis=1)\n",
    "X.shape"
   ]
  },
  {
   "cell_type": "code",
   "execution_count": null,
   "id": "ffc5b0fb",
   "metadata": {},
   "outputs": [],
   "source": [
    "np.random.seed(0)\n",
    "# dividing the dataset into train and test with 70/30 ratio\n",
    "X_train, X_test, y_train, y_test = train_test_split(X, y, train_size = 0.70, test_size = 0.30, random_state = 100)"
   ]
  },
  {
   "cell_type": "code",
   "execution_count": null,
   "id": "b33d8696",
   "metadata": {},
   "outputs": [],
   "source": [
    "print(X_train.shape, X_test.shape)"
   ]
  },
  {
   "cell_type": "markdown",
   "id": "ade7f22c",
   "metadata": {},
   "source": [
    "### Rescalling feature of house dataframe\n",
    "1. Min-Max scaling \n",
    "2. Standardisation (mean-0, sigma-1) \n",
    "- However, I m going to use Standardisation scal."
   ]
  },
  {
   "cell_type": "code",
   "execution_count": null,
   "id": "b402ad39",
   "metadata": {},
   "outputs": [],
   "source": [
    "from sklearn.preprocessing import StandardScaler"
   ]
  },
  {
   "cell_type": "code",
   "execution_count": null,
   "id": "fd26252f",
   "metadata": {},
   "outputs": [],
   "source": [
    "# getting the numerical variables which have dtype of 'int64','float64'\n",
    "num_val = X_train.select_dtypes(include=['int64','float64']).columns\n",
    "num_val"
   ]
  },
  {
   "cell_type": "code",
   "execution_count": null,
   "id": "08a20a0c",
   "metadata": {},
   "outputs": [],
   "source": [
    "# Scaling the data\n",
    "scaler = StandardScaler()\n",
    "X_train[num_val] = scaler.fit_transform(X_train[num_val])\n",
    "X_test[num_val] = scaler.transform(X_test[num_val])"
   ]
  },
  {
   "cell_type": "code",
   "execution_count": null,
   "id": "fb91f42f",
   "metadata": {},
   "outputs": [],
   "source": [
    "X_train.describe()"
   ]
  },
  {
   "cell_type": "markdown",
   "id": "0f8e7831",
   "metadata": {},
   "source": [
    "## Building a model using Linear, Ridge and Lasso Regression\n",
    "\n",
    " \n",
    "### Model A: Without log and scale on y."
   ]
  },
  {
   "cell_type": "code",
   "execution_count": null,
   "id": "49dfb139",
   "metadata": {},
   "outputs": [],
   "source": [
    "from sklearn.linear_model import LinearRegression, Ridge, Lasso\n",
    "from sklearn.feature_selection import RFE"
   ]
  },
  {
   "cell_type": "markdown",
   "id": "ea0d2992",
   "metadata": {},
   "source": [
    "#### Implementing RFE"
   ]
  },
  {
   "cell_type": "code",
   "execution_count": null,
   "id": "fde42d98",
   "metadata": {},
   "outputs": [],
   "source": [
    "# Building a Regression model.\n",
    "lin_reg = LinearRegression()\n",
    "lin_reg.fit(X_train,y_train)"
   ]
  },
  {
   "cell_type": "code",
   "execution_count": null,
   "id": "830d17e7",
   "metadata": {},
   "outputs": [],
   "source": [
    "# Calculating the RFE\n",
    "rfe = RFE(lin_reg, 20)\n",
    "rfe = rfe.fit(X_train, y_train)"
   ]
  },
  {
   "cell_type": "code",
   "execution_count": null,
   "id": "cc8aa574",
   "metadata": {},
   "outputs": [],
   "source": [
    "# making a list of column names, support and ranking of RFE\n",
    "rfe_list = list(zip(X_train.columns,rfe.support_,rfe.ranking_))"
   ]
  },
  {
   "cell_type": "code",
   "execution_count": null,
   "id": "df7289be",
   "metadata": {},
   "outputs": [],
   "source": [
    "# converting the list to df and sorting by rank\n",
    "rfe_df = pd.DataFrame(rfe_list, columns=[\"name\", \"support\", \"rank\"])\n",
    "rfe_df.sort_values(by = \"rank\")[0:22]"
   ]
  },
  {
   "cell_type": "code",
   "execution_count": null,
   "id": "01579413",
   "metadata": {},
   "outputs": [],
   "source": [
    "col=X_train.columns[rfe.support_]\n",
    "col"
   ]
  },
  {
   "cell_type": "code",
   "execution_count": null,
   "id": "caefba5f",
   "metadata": {},
   "outputs": [],
   "source": [
    "X_train_rfe=X_train[col]"
   ]
  },
  {
   "cell_type": "markdown",
   "id": "ee7cef7d",
   "metadata": {},
   "source": [
    "### Building linear model using statsmodel, for the detailed statistics\n",
    "\n",
    "#### Model A1: Linear Model:"
   ]
  },
  {
   "cell_type": "code",
   "execution_count": null,
   "id": "2c98c8f4",
   "metadata": {},
   "outputs": [],
   "source": [
    "import statsmodels.api as sm\n",
    "from statsmodels.stats.outliers_influence import variance_inflation_factor"
   ]
  },
  {
   "cell_type": "code",
   "execution_count": null,
   "id": "e11f414f",
   "metadata": {},
   "outputs": [],
   "source": [
    "# Adding a constant variable to X_train_rfe\n",
    "X_train_rfe = sm.add_constant(X_train_rfe)\n",
    "# fitting y_train and X_train_rfe to api \n",
    "model = sm.OLS(y_train,X_train_rfe).fit()   # Running the linear model\n",
    "\n",
    "#Let's see the summary of our linear model\n",
    "print(model.summary())"
   ]
  },
  {
   "cell_type": "code",
   "execution_count": null,
   "id": "ba2f50a6",
   "metadata": {},
   "outputs": [],
   "source": [
    "# Removing const from X_train_rfe\n",
    "X_train_rfe = X_train_rfe.drop(['const'], axis=1)"
   ]
  },
  {
   "cell_type": "code",
   "execution_count": null,
   "id": "63a46eb0",
   "metadata": {},
   "outputs": [],
   "source": [
    "# Printing VIF values \n",
    "vif = pd.DataFrame()\n",
    "X = X_train_rfe\n",
    "vif['Features'] = X.columns\n",
    "vif['VIF'] = [variance_inflation_factor(X.values, i) for i in range(X.shape[1])]\n",
    "vif['VIF'] = round(vif['VIF'], 2)\n",
    "vif = vif.sort_values(by = \"VIF\", ascending = False)\n",
    "vif"
   ]
  },
  {
   "cell_type": "markdown",
   "id": "4ab86202",
   "metadata": {},
   "source": [
    "- As we can see, it has high VIF values, and we can check the linear assumptions. "
   ]
  },
  {
   "cell_type": "code",
   "execution_count": null,
   "id": "1f076859",
   "metadata": {},
   "outputs": [],
   "source": [
    "# Adding a constant variable to X_train_rfe\n",
    "X_train_rfe = sm.add_constant(X_train_rfe)\n",
    "# Predicting the X_train_rfe data to get y_train_predict\n",
    "y_train_predict_linear = model.predict(X_train_rfe)"
   ]
  },
  {
   "cell_type": "code",
   "execution_count": null,
   "id": "3918d5d7",
   "metadata": {},
   "outputs": [],
   "source": [
    "residual = y_train - y_train_predict_linear"
   ]
  },
  {
   "cell_type": "code",
   "execution_count": null,
   "id": "188e7175",
   "metadata": {},
   "outputs": [],
   "source": [
    "sum(residual)"
   ]
  },
  {
   "cell_type": "markdown",
   "id": "221def74",
   "metadata": {},
   "source": [
    "#### Normality of Errors:"
   ]
  },
  {
   "cell_type": "code",
   "execution_count": null,
   "id": "c9ffcfa8",
   "metadata": {},
   "outputs": [],
   "source": [
    "# Plot the histogram of the error terms\n",
    "fig = plt.figure()\n",
    "plt.figure(figsize = (8,5))\n",
    "sns.distplot(residual, bins = 20)\n",
    "fig.suptitle('Error Terms', fontsize = 20) # Plot heading \n",
    "plt.xlabel('Errors', fontsize = 18) # X-label\n",
    "plt.show()"
   ]
  },
  {
   "cell_type": "markdown",
   "id": "0f34f267",
   "metadata": {},
   "source": [
    "#### Error are independent of each other:"
   ]
  },
  {
   "cell_type": "code",
   "execution_count": null,
   "id": "8abbd363",
   "metadata": {},
   "outputs": [],
   "source": [
    "sns.scatterplot(y_train,residual) # ploting y_train vs residual\n",
    "plt.plot(y_train,(y_train - y_train), '-r') # ploting a stright line on 0th of y-axis\n",
    "plt.xlabel('Count')\n",
    "plt.ylabel('Residual')\n",
    "plt.show()"
   ]
  },
  {
   "cell_type": "markdown",
   "id": "f41e081e",
   "metadata": {},
   "source": [
    "- **linear model is violating all the Assumption** of Linear Regression\n",
    "- Error terms should be independent \n",
    "- Error terms should be normally distributed \n",
    "- Error terms should have equal variance \n",
    "- This indicates ***non linearity** is present, and also it shows **high VIF(multicollinearity)**\n",
    "- Hence, we have to use either **Ridge or Lasso**."
   ]
  },
  {
   "cell_type": "code",
   "execution_count": null,
   "id": "a9e50125",
   "metadata": {},
   "outputs": [],
   "source": [
    "# R-squared value for train and test\n",
    "print(\"R-squared value\")\n",
    "print(\"Train: \", r2_score(y_true=y_train, y_pred=y_train_predict_linear))"
   ]
  },
  {
   "cell_type": "code",
   "execution_count": null,
   "id": "1ee5a375",
   "metadata": {},
   "outputs": [],
   "source": [
    "# Root mean_squared_error value for train and test for Linear model\n",
    "print(\"Root mean_squared_error value\")\n",
    "print(\"Train: \", mean_squared_error(y_true=y_train, y_pred=y_train_predict_linear) ** 0.5)"
   ]
  },
  {
   "cell_type": "markdown",
   "id": "09b400cd",
   "metadata": {},
   "source": [
    "## Model A2: Redge Regression"
   ]
  },
  {
   "cell_type": "code",
   "execution_count": null,
   "id": "78ae059f",
   "metadata": {},
   "outputs": [],
   "source": [
    "# list of alphas to tune\n",
    "params = {'alpha': [0.0001, 0.001, 0.01, 0.05, 0.1, \n",
    " 0.2, 0.3, 0.4, 0.5, 0.6, 0.7, 0.8, 0.9, 1.0, 2.0, 3.0, \n",
    " 4.0, 5.0, 6.0, 7.0, 8.0, 9.0, 10.0, 20, 30, 40, 50, 60, 70, 100, 500, 1000]}\n",
    "\n",
    "ridge = Ridge()\n",
    "# Cross Validation\n",
    "folds = 7\n",
    "model_cv = GridSearchCV(estimator = ridge, \n",
    "                        param_grid = params, \n",
    "                        scoring= 'neg_mean_absolute_error', \n",
    "                        cv = folds, \n",
    "                        return_train_score=True,\n",
    "                        verbose = 1)            \n",
    "model_cv.fit(X_train, y_train)"
   ]
  },
  {
   "cell_type": "code",
   "execution_count": null,
   "id": "006bbc34",
   "metadata": {},
   "outputs": [],
   "source": [
    "# checking the value of optimum number of parameters\n",
    "print(model_cv.best_params_)\n",
    "print(model_cv.best_score_)"
   ]
  },
  {
   "cell_type": "code",
   "execution_count": null,
   "id": "c7f17998",
   "metadata": {},
   "outputs": [],
   "source": [
    "cv_results = pd.DataFrame(model_cv.cv_results_)\n",
    "cv_results = cv_results[cv_results['param_alpha']<=500]\n",
    "cv_results"
   ]
  },
  {
   "cell_type": "code",
   "execution_count": null,
   "id": "95827d80",
   "metadata": {},
   "outputs": [],
   "source": [
    "cv_results.columns"
   ]
  },
  {
   "cell_type": "code",
   "execution_count": null,
   "id": "980a74cd",
   "metadata": {},
   "outputs": [],
   "source": [
    "# plotting mean test and train scoes with alpha \n",
    "cv_results['param_alpha'] = cv_results['param_alpha'].astype('int32')\n",
    "plt.figure(figsize=(16,5))\n",
    "\n",
    "# plotting\n",
    "plt.plot(cv_results['param_alpha'], cv_results['mean_train_score'])\n",
    "plt.plot(cv_results['param_alpha'], cv_results['mean_test_score'])\n",
    "plt.xlabel('alpha')\n",
    "plt.ylabel('Negative Mean Absolute Error')\n",
    "plt.title(\"Negative Mean Absolute Error and alpha\")\n",
    "plt.legend(['train score', 'test score'], loc='upper right')\n",
    "plt.show()"
   ]
  },
  {
   "cell_type": "code",
   "execution_count": null,
   "id": "f8e823f6",
   "metadata": {},
   "outputs": [],
   "source": [
    "# plotting mean test and train scoes with alpha \n",
    "cv_results['param_alpha'] = cv_results['param_alpha'].astype('int32')\n",
    "\n",
    "# plotting\n",
    "plt.figure(figsize=(16,8))\n",
    "plt.plot(cv_results['param_alpha'], cv_results['mean_train_score'])\n",
    "plt.plot(cv_results['param_alpha'], cv_results['mean_test_score'])\n",
    "plt.xlabel('Alpha')\n",
    "plt.ylabel('Negative Mean Absolute Error')\n",
    "plt.title(\"Negative Mean Absolute Error and alpha\")\n",
    "plt.legend(['train score', 'test score'], loc='upper left')\n",
    "plt.xlim(0, 100)\n",
    "plt.xticks(np.arange(0, 100, 5))\n",
    "plt.grid(color='black', linestyle='--', linewidth=1)\n",
    "plt.show()"
   ]
  },
  {
   "cell_type": "code",
   "execution_count": null,
   "id": "1ee0ac66",
   "metadata": {},
   "outputs": [],
   "source": [
    "# final ridge model with alpha as 40\n",
    "ridge = Ridge(alpha=40)\n",
    "ridge.fit(X_train, y_train)"
   ]
  },
  {
   "cell_type": "code",
   "execution_count": null,
   "id": "94c3b578",
   "metadata": {},
   "outputs": [],
   "source": [
    "np.array(sorted(ridge.coef_, reverse=True))"
   ]
  },
  {
   "cell_type": "code",
   "execution_count": null,
   "id": "d7a77ab8",
   "metadata": {},
   "outputs": [],
   "source": [
    "from sklearn.metrics import r2_score, mean_squared_error"
   ]
  },
  {
   "cell_type": "code",
   "execution_count": null,
   "id": "bd47ab0a",
   "metadata": {},
   "outputs": [],
   "source": [
    "# R-squared value for train and test\n",
    "print(\"R-squared value\")\n",
    "y_train_pred_ridge = ridge.predict(X_train)\n",
    "print(\"Train: \", r2_score(y_true=y_train, y_pred=y_train_pred_ridge))\n",
    "y_test_pred_ridge = ridge.predict(X_test)\n",
    "print(\"Test: \", r2_score(y_true=y_test, y_pred=y_test_pred_ridge))"
   ]
  },
  {
   "cell_type": "code",
   "execution_count": null,
   "id": "9251d671",
   "metadata": {},
   "outputs": [],
   "source": [
    "# Root mean_squared_error value for train and test\n",
    "print(\"Root mean_squared_error value\")\n",
    "print(\"Train: \", mean_squared_error(y_true=y_train, y_pred=y_train_pred_ridge) ** 0.5)\n",
    "print(\"Test: \", mean_squared_error(y_true=y_test, y_pred=y_test_pred_ridge) ** 0.5)"
   ]
  },
  {
   "cell_type": "markdown",
   "id": "d8ea11b1",
   "metadata": {},
   "source": [
    "## Model A3: Lasso Regression"
   ]
  },
  {
   "cell_type": "code",
   "execution_count": null,
   "id": "fcdf7401",
   "metadata": {},
   "outputs": [],
   "source": [
    "lasso = Lasso()\n",
    "# cross validation\n",
    "model_cv = GridSearchCV(estimator = lasso, \n",
    "                        param_grid = params, \n",
    "                        scoring= 'neg_mean_absolute_error', \n",
    "                        cv = folds, \n",
    "                        return_train_score=True,\n",
    "                        verbose = 1)            \n",
    "\n",
    "model_cv.fit(X_train, y_train)"
   ]
  },
  {
   "cell_type": "code",
   "execution_count": null,
   "id": "4bd09fd6",
   "metadata": {},
   "outputs": [],
   "source": [
    "# checking the value of optimum number of parameters\n",
    "print(model_cv.best_params_)\n",
    "print(model_cv.best_score_)"
   ]
  },
  {
   "cell_type": "code",
   "execution_count": null,
   "id": "eb61de3a",
   "metadata": {},
   "outputs": [],
   "source": [
    "cv_results = pd.DataFrame(model_cv.cv_results_)\n",
    "cv_results = cv_results[cv_results['param_alpha']<=500]\n",
    "cv_results"
   ]
  },
  {
   "cell_type": "code",
   "execution_count": null,
   "id": "669d44b9",
   "metadata": {},
   "outputs": [],
   "source": [
    "# plotting mean test and train scoes with alpha \n",
    "cv_results['param_alpha'] = cv_results['param_alpha'].astype('int32')\n",
    "plt.figure(figsize=(16,5))\n",
    "\n",
    "# plotting\n",
    "plt.plot(cv_results['param_alpha'], cv_results['mean_train_score'])\n",
    "plt.plot(cv_results['param_alpha'], cv_results['mean_test_score'])\n",
    "plt.xlabel('alpha')\n",
    "plt.ylabel('Negative Mean Absolute Error')\n",
    "plt.title(\"Negative Mean Absolute Error and alpha\")\n",
    "plt.legend(['train score', 'test score'], loc='upper right')\n",
    "plt.show()"
   ]
  },
  {
   "cell_type": "code",
   "execution_count": null,
   "id": "30c9d930",
   "metadata": {},
   "outputs": [],
   "source": [
    "# plotting mean test and train scoes with alpha \n",
    "cv_results['param_alpha'] = cv_results['param_alpha'].astype('int32')\n",
    "\n",
    "# plotting\n",
    "plt.figure(figsize=(16,8))\n",
    "plt.plot(cv_results['param_alpha'], cv_results['mean_train_score'])\n",
    "plt.plot(cv_results['param_alpha'], cv_results['mean_test_score'])\n",
    "plt.xlabel('Alpha')\n",
    "plt.ylabel('Negative Mean Absolute Error')\n",
    "plt.title(\"Negative Mean Absolute Error and alpha\")\n",
    "plt.legend(['train score', 'test score'], loc='upper left')\n",
    "plt.xlim(0, 150)\n",
    "plt.xticks(np.arange(0, 150, 5))\n",
    "plt.grid(color='black', linestyle='--', linewidth=1)\n",
    "plt.show()"
   ]
  },
  {
   "cell_type": "code",
   "execution_count": null,
   "id": "dd7260a0",
   "metadata": {},
   "outputs": [],
   "source": [
    "#final lasso model\n",
    "alpha = 100\n",
    "lasso = Lasso(alpha=alpha)\n",
    "lasso.fit(X_train, y_train) "
   ]
  },
  {
   "cell_type": "code",
   "execution_count": null,
   "id": "e5cdd9a0",
   "metadata": {},
   "outputs": [],
   "source": [
    "np.array(sorted(lasso.coef_, reverse=True))"
   ]
  },
  {
   "cell_type": "code",
   "execution_count": null,
   "id": "48f06bf0",
   "metadata": {},
   "outputs": [],
   "source": [
    "# R-squared value for train and test for Lasso model\n",
    "print(\"R-squared value\")\n",
    "y_train_pred_lasso = lasso.predict(X_train)\n",
    "print(\"Train: \", r2_score(y_true=y_train, y_pred=y_train_pred_lasso))\n",
    "y_test_pred_lasso = lasso.predict(X_test)\n",
    "print(\"Test: \", r2_score(y_true=y_test, y_pred=y_test_pred_lasso))"
   ]
  },
  {
   "cell_type": "code",
   "execution_count": null,
   "id": "a009a7d5",
   "metadata": {},
   "outputs": [],
   "source": [
    "# Root mean_squared_error value for train and test for Lasso model\n",
    "print(\"Root mean_squared_error value\")\n",
    "print(\"Train: \", mean_squared_error(y_true=y_train, y_pred=y_train_pred_lasso) ** 0.5)\n",
    "print(\"Test: \", mean_squared_error(y_true=y_test, y_pred=y_test_pred_lasso) ** 0.5)"
   ]
  },
  {
   "cell_type": "code",
   "execution_count": null,
   "id": "1ade8e9b",
   "metadata": {},
   "outputs": [],
   "source": [
    "residual = y_train - y_train_pred_lasso"
   ]
  },
  {
   "cell_type": "code",
   "execution_count": null,
   "id": "5e558c24",
   "metadata": {},
   "outputs": [],
   "source": [
    "sum(residual)"
   ]
  },
  {
   "cell_type": "markdown",
   "id": "10c9807c",
   "metadata": {},
   "source": [
    "#### Normality of Errors:"
   ]
  },
  {
   "cell_type": "code",
   "execution_count": null,
   "id": "126d4b6d",
   "metadata": {},
   "outputs": [],
   "source": [
    "# Plot the histogram of the error terms\n",
    "fig = plt.figure()\n",
    "plt.figure(figsize = (8,5))\n",
    "sns.distplot(residual, bins = 20)\n",
    "fig.suptitle('Error Terms', fontsize = 20)                  # Plot heading \n",
    "plt.xlabel('Errors', fontsize = 18)                         # X-label\n",
    "plt.show()"
   ]
  },
  {
   "cell_type": "markdown",
   "id": "13ca95e9",
   "metadata": {},
   "source": [
    "#### Error are independent of each other:"
   ]
  },
  {
   "cell_type": "code",
   "execution_count": null,
   "id": "11aadfb7",
   "metadata": {},
   "outputs": [],
   "source": [
    "sns.scatterplot(y_train,residual) # ploting y_train vs residual\n",
    "plt.plot(y_train,(y_train - y_train), '-r') # ploting a stright line on 0th of y-axis\n",
    "plt.xlabel('Count')\n",
    "plt.ylabel('Residual')\n",
    "plt.show()"
   ]
  },
  {
   "cell_type": "markdown",
   "id": "0099d5d2",
   "metadata": {},
   "source": [
    "- We can clearly see that Lasso model is **not violating** all the Assumption of Linear Regression:\n",
    "- Error terms should be independent \n",
    "- Error terms should be normally distributed\n",
    "- Sum of Error or **Residual is almost 0.**\n",
    "- Error terms should have equal variance \n",
    "- Assumption still has some outliers, and this is because **SalePrice** columns, which have lots of outliers as we saw in EDA\n",
    "- We will try to reduce it using **log on SalePrice** to reduce it as it shows the **right skewness** in the distplot."
   ]
  },
  {
   "cell_type": "markdown",
   "id": "b1a5ee59",
   "metadata": {},
   "source": [
    "## Ridge VS Lasso\n",
    "### For Ridge:\n",
    "**Alpha: 40**\n",
    "\n",
    "**R-squared value for Ridge**\n",
    "- Train:  0.872\n",
    "- Test:  0.863\n",
    "\n",
    "**mean_squared_error value**\n",
    "- Train:  28281.329\n",
    "- Test:  29422.777\n",
    "******\n",
    "### For Lasso:\n",
    "**Alpha: 100**\n",
    "\n",
    "**R-squared value**\n",
    "- Train:  0.899\n",
    "- Test:  0.867\n",
    "\n",
    "**mean_squared_error value**\n",
    "- Train:  25187.870\n",
    "- Test:  29057.064"
   ]
  },
  {
   "cell_type": "code",
   "execution_count": null,
   "id": "d8d54180",
   "metadata": {},
   "outputs": [],
   "source": [
    "model_coef = pd.DataFrame(index=range(len(X_train.columns)))\n",
    "model_coef[\"col\"] = X_train.columns\n",
    "model_coef[\"ridge_cof\"] = ridge.coef_\n",
    "model_coef[\"Abs_ridge_cof\"] = list(np.abs(cof) for cof in ridge.coef_)\n",
    "model_coef[\"lasso_cof\"] = lasso.coef_\n",
    "model_coef[\"Abs_lasso_cof\"] = list(np.abs(cof) for cof in lasso.coef_)"
   ]
  },
  {
   "cell_type": "code",
   "execution_count": null,
   "id": "61e4c6f1",
   "metadata": {},
   "outputs": [],
   "source": [
    "model_coef.sort_values(by=\"Abs_lasso_cof\", ascending=False)"
   ]
  },
  {
   "cell_type": "code",
   "execution_count": null,
   "id": "5008182e",
   "metadata": {},
   "outputs": [],
   "source": [
    "lasso_coef = model_coef[[\"col\", \"lasso_cof\", \"Abs_lasso_cof\"]].sort_values(by=\"Abs_lasso_cof\", ascending=False)\n",
    "lasso_coef.head(15)"
   ]
  },
  {
   "cell_type": "code",
   "execution_count": null,
   "id": "4e5fdeb3",
   "metadata": {},
   "outputs": [],
   "source": [
    "ridge_coef = model_coef[[\"col\", \"ridge_cof\", \"Abs_ridge_cof\"]].sort_values(by=\"Abs_ridge_cof\", ascending=False)\n",
    "ridge_coef.head(15)"
   ]
  },
  {
   "cell_type": "markdown",
   "id": "bc521904",
   "metadata": {},
   "source": [
    "## Model B: Log on SalePrice"
   ]
  },
  {
   "cell_type": "code",
   "execution_count": null,
   "id": "8c901f5b",
   "metadata": {},
   "outputs": [],
   "source": [
    "# orginal SalePrice without log\n",
    "plt.figure(figsize=(7,4))\n",
    "sns.distplot(surprise_house_data.SalePrice)\n",
    "plt.show()"
   ]
  },
  {
   "cell_type": "code",
   "execution_count": null,
   "id": "adb63265",
   "metadata": {},
   "outputs": [],
   "source": [
    "# SalePrice with log\n",
    "plt.figure(figsize=(7,4))\n",
    "sns.distplot(np.log(surprise_house_data.SalePrice))\n",
    "plt.show()"
   ]
  },
  {
   "cell_type": "code",
   "execution_count": null,
   "id": "5bdb2489",
   "metadata": {},
   "outputs": [],
   "source": [
    "y_train = np.log(y_train)\n",
    "y_test = np.log(y_test)"
   ]
  },
  {
   "cell_type": "code",
   "execution_count": null,
   "id": "9ddf08c9",
   "metadata": {},
   "outputs": [],
   "source": [
    "plt.figure(figsize=(7,4))\n",
    "sns.distplot(y_train)\n",
    "plt.show()"
   ]
  },
  {
   "cell_type": "code",
   "execution_count": null,
   "id": "d358b3f5",
   "metadata": {},
   "outputs": [],
   "source": [
    "plt.figure(figsize=(7,4))\n",
    "sns.distplot(y_test)\n",
    "plt.show()"
   ]
  },
  {
   "cell_type": "markdown",
   "id": "91922193",
   "metadata": {},
   "source": [
    "## Model B1 (linear model)"
   ]
  },
  {
   "cell_type": "code",
   "execution_count": null,
   "id": "36d0ed4f",
   "metadata": {},
   "outputs": [],
   "source": [
    "# Adding a constant variable to X_train_rfe\n",
    "X_train_rfe = sm.add_constant(X_train_rfe)\n",
    "# fitting y_train and X_train_rfe to api \n",
    "model = sm.OLS(y_train,X_train_rfe).fit()   # Running the linear model\n",
    "\n",
    "#Let's see the summary of our linear model\n",
    "print(model.summary())"
   ]
  },
  {
   "cell_type": "code",
   "execution_count": null,
   "id": "f4923f0e",
   "metadata": {},
   "outputs": [],
   "source": [
    "# Removing const from X_train_rfe\n",
    "X_train_rfe = X_train_rfe.drop(['const'], axis=1)"
   ]
  },
  {
   "cell_type": "code",
   "execution_count": null,
   "id": "69f8867d",
   "metadata": {},
   "outputs": [],
   "source": [
    "# Printing VIF values \n",
    "vif = pd.DataFrame()\n",
    "X = X_train_rfe\n",
    "vif['Features'] = X.columns\n",
    "vif['VIF'] = [variance_inflation_factor(X.values, i) for i in range(X.shape[1])]\n",
    "vif['VIF'] = round(vif['VIF'], 2)\n",
    "vif = vif.sort_values(by = \"VIF\", ascending = False)\n",
    "vif"
   ]
  },
  {
   "cell_type": "code",
   "execution_count": null,
   "id": "0608d51c",
   "metadata": {},
   "outputs": [],
   "source": [
    "# Adding a constant variable to X_train_rfe\n",
    "X_train_rfe = sm.add_constant(X_train_rfe)\n",
    "# Predicting the X_train_rfe data to get y_train_predict\n",
    "y_train_predict_linear = model.predict(X_train_rfe)"
   ]
  },
  {
   "cell_type": "code",
   "execution_count": null,
   "id": "ff5b5ff7",
   "metadata": {},
   "outputs": [],
   "source": [
    "residual = y_train - y_train_predict_linear"
   ]
  },
  {
   "cell_type": "code",
   "execution_count": null,
   "id": "6990b372",
   "metadata": {},
   "outputs": [],
   "source": [
    "sum(residual)"
   ]
  },
  {
   "cell_type": "markdown",
   "id": "a3a2618b",
   "metadata": {},
   "source": [
    "#### Normality of Errors:"
   ]
  },
  {
   "cell_type": "code",
   "execution_count": null,
   "id": "7929018e",
   "metadata": {},
   "outputs": [],
   "source": [
    "# Plot the histogram of the error terms\n",
    "fig = plt.figure()\n",
    "plt.figure(figsize = (7,4))\n",
    "sns.distplot(residual, bins = 20)\n",
    "fig.suptitle('Error Terms', fontsize = 20) # Plot heading \n",
    "plt.xlabel('Errors', fontsize = 18) # X-label\n",
    "plt.show()"
   ]
  },
  {
   "cell_type": "markdown",
   "id": "e3c37e35",
   "metadata": {},
   "source": [
    "#### Error are independent of each other:"
   ]
  },
  {
   "cell_type": "code",
   "execution_count": null,
   "id": "cea08f4e",
   "metadata": {},
   "outputs": [],
   "source": [
    "sns.scatterplot(y_train,residual) # ploting y_train vs residual\n",
    "plt.plot(y_train,(y_train - y_train), '-r') # ploting a stright line on 0th of y-axis\n",
    "plt.xlabel('Count')\n",
    "plt.ylabel('Residual')\n",
    "plt.show()"
   ]
  },
  {
   "cell_type": "markdown",
   "id": "cc520b7c",
   "metadata": {},
   "source": [
    "- We can clearly see that this **linear model is violating all the Assumption** of Linear Regression\n",
    "- Error terms should be independent \n",
    "- Error terms should be normally distributed \n",
    "- Error terms should have equal variance\n",
    "- This indicates ***non linearity** is present, and also it shows **high VIF(multicollinearity)**\n",
    "- Hence, we have to use either **Ridge or Lasso**."
   ]
  },
  {
   "cell_type": "code",
   "execution_count": null,
   "id": "d1809cc4",
   "metadata": {},
   "outputs": [],
   "source": [
    "# R-squared value for train and test\n",
    "print(\"R-squared value\")\n",
    "print(\"Train: \", r2_score(y_true=y_train, y_pred=y_train_predict_linear))"
   ]
  },
  {
   "cell_type": "code",
   "execution_count": null,
   "id": "33253c98",
   "metadata": {},
   "outputs": [],
   "source": [
    "# Root mean_squared_error value for train and test for Linear model\n",
    "print(\"Root mean_squared_error value\")\n",
    "print(\"Train: \", mean_squared_error(y_true=y_train, y_pred=y_train_predict_linear) ** 0.5)"
   ]
  },
  {
   "cell_type": "markdown",
   "id": "04b94b71",
   "metadata": {},
   "source": [
    "## Model B2: Redge Regression"
   ]
  },
  {
   "cell_type": "code",
   "execution_count": null,
   "id": "594169f5",
   "metadata": {},
   "outputs": [],
   "source": [
    "# list of alphas to tune\n",
    "params = {'alpha': [0.0001, 0.001, 0.01, 0.05, 0.1, \n",
    " 0.2, 0.3, 0.4, 0.5, 0.6, 0.7, 0.8, 0.9, 1.0, 2.0, 3.0, \n",
    " 4.0, 5.0, 6.0, 7.0, 8.0, 9.0, 10.0, 20, 30, 40, 50, 60, 70, 100, 500, 1000]}\n",
    "\n",
    "ridge = Ridge()\n",
    "# Cross Validation\n",
    "folds = 7\n",
    "model_cv = GridSearchCV(estimator = ridge, \n",
    "                        param_grid = params, \n",
    "                        scoring= 'neg_mean_absolute_error', \n",
    "                        cv = folds, \n",
    "                        return_train_score=True,\n",
    "                        verbose = 1)            \n",
    "model_cv.fit(X_train, y_train)"
   ]
  },
  {
   "cell_type": "code",
   "execution_count": null,
   "id": "ad5b5f1b",
   "metadata": {},
   "outputs": [],
   "source": [
    "# checking the value of optimum number of parameters\n",
    "print(model_cv.best_params_)\n",
    "print(model_cv.best_score_)"
   ]
  },
  {
   "cell_type": "code",
   "execution_count": null,
   "id": "0bb25428",
   "metadata": {},
   "outputs": [],
   "source": [
    "cv_results = pd.DataFrame(model_cv.cv_results_)\n",
    "cv_results = cv_results[cv_results['param_alpha']<=500]\n",
    "cv_results"
   ]
  },
  {
   "cell_type": "code",
   "execution_count": null,
   "id": "7a914f76",
   "metadata": {},
   "outputs": [],
   "source": [
    "cv_results.columns"
   ]
  },
  {
   "cell_type": "code",
   "execution_count": null,
   "id": "40b3cc42",
   "metadata": {},
   "outputs": [],
   "source": [
    "# plotting mean test and train scoes with alpha \n",
    "cv_results['param_alpha'] = cv_results['param_alpha'].astype('int32')\n",
    "plt.figure(figsize=(16,5))\n",
    "\n",
    "# plotting\n",
    "plt.plot(cv_results['param_alpha'], cv_results['mean_train_score'])\n",
    "plt.plot(cv_results['param_alpha'], cv_results['mean_test_score'])\n",
    "plt.xlabel('alpha')\n",
    "plt.ylabel('Negative Mean Absolute Error')\n",
    "plt.title(\"Negative Mean Absolute Error and alpha\")\n",
    "plt.legend(['train score', 'test score'], loc='upper right')\n",
    "plt.show()"
   ]
  },
  {
   "cell_type": "code",
   "execution_count": null,
   "id": "dc08524d",
   "metadata": {},
   "outputs": [],
   "source": [
    "# plotting mean test and train scoes with alpha \n",
    "cv_results['param_alpha'] = cv_results['param_alpha'].astype('int32')\n",
    "\n",
    "# plotting\n",
    "plt.figure(figsize=(16,8))\n",
    "plt.plot(cv_results['param_alpha'], cv_results['mean_train_score'])\n",
    "plt.plot(cv_results['param_alpha'], cv_results['mean_test_score'])\n",
    "plt.xlabel('Alpha')\n",
    "plt.ylabel('Negative Mean Absolute Error')\n",
    "plt.title(\"Negative Mean Absolute Error and alpha\")\n",
    "plt.legend(['train score', 'test score'], loc='upper left')\n",
    "plt.xlim(0, 100)\n",
    "plt.xticks(np.arange(0, 100, 5))\n",
    "plt.grid(color='black', linestyle='--', linewidth=1)\n",
    "plt.show()"
   ]
  },
  {
   "cell_type": "code",
   "execution_count": null,
   "id": "79af9f6b",
   "metadata": {},
   "outputs": [],
   "source": [
    "# final ridge model with alpha as 20 but without log we get alpha as 40\n",
    "ridge = Ridge(alpha=20)\n",
    "ridge.fit(X_train, y_train)"
   ]
  },
  {
   "cell_type": "code",
   "execution_count": null,
   "id": "56a73c5e",
   "metadata": {},
   "outputs": [],
   "source": [
    "np.array(sorted(ridge.coef_, reverse=True))"
   ]
  },
  {
   "cell_type": "code",
   "execution_count": null,
   "id": "0f2aacb8",
   "metadata": {},
   "outputs": [],
   "source": [
    "# R-squared value for train and test\n",
    "print(\"R-squared value\")\n",
    "y_train_pred_ridge = ridge.predict(X_train)\n",
    "print(\"Train: \", r2_score(y_true=y_train, y_pred=y_train_pred_ridge))\n",
    "y_test_pred_ridge = ridge.predict(X_test)\n",
    "print(\"Test: \", r2_score(y_true=y_test, y_pred=y_test_pred_ridge))"
   ]
  },
  {
   "cell_type": "code",
   "execution_count": null,
   "id": "5676b828",
   "metadata": {},
   "outputs": [],
   "source": [
    "# Root mean_squared_error value for train and test\n",
    "print(\"Root mean_squared_error value\")\n",
    "print(\"Train: \", mean_squared_error(y_true=y_train, y_pred=y_train_pred_ridge) ** 0.5)\n",
    "print(\"Test: \", mean_squared_error(y_true=y_test, y_pred=y_test_pred_ridge) ** 0.5)"
   ]
  },
  {
   "cell_type": "code",
   "execution_count": null,
   "id": "a512c44f",
   "metadata": {},
   "outputs": [],
   "source": [
    "residual = y_train - y_train_pred_ridge"
   ]
  },
  {
   "cell_type": "code",
   "execution_count": null,
   "id": "484a7609",
   "metadata": {},
   "outputs": [],
   "source": [
    "sum(residual)"
   ]
  },
  {
   "cell_type": "markdown",
   "id": "2ca66bbe",
   "metadata": {},
   "source": [
    "## Model B3: Lasso Regression"
   ]
  },
  {
   "cell_type": "code",
   "execution_count": null,
   "id": "be04aa1d",
   "metadata": {},
   "outputs": [],
   "source": [
    "lasso = Lasso()\n",
    "\n",
    "# list of alphas to tune\n",
    "params = {'alpha': [0.00001,0.00008,0.00009, 0.0001, 0.0002, 0.0003, 0.001, 0.01, 0.05, 0.1, \n",
    " 0.2, 0.3, 0.4, 0.5, 0.6, 0.7, 0.8, 0.9, 1.0, 2.0, 3.0, \n",
    " 4.0, 5.0, 6.0, 7.0, 8.0, 9.0, 10.0, 20, 30, 40, 50, 60, 70, 100, 500, 1000]}\n",
    "# cross validation\n",
    "model_cv = GridSearchCV(estimator = lasso, \n",
    "                        param_grid = params, \n",
    "                        scoring= 'neg_mean_absolute_error', \n",
    "                        cv = folds, \n",
    "                        return_train_score=True,\n",
    "                        verbose = 1)            \n",
    "\n",
    "model_cv.fit(X_train, y_train)"
   ]
  },
  {
   "cell_type": "code",
   "execution_count": null,
   "id": "dfe7e63a",
   "metadata": {},
   "outputs": [],
   "source": [
    "# checking the value of optimum number of parameters\n",
    "print(model_cv.best_params_)\n",
    "print(model_cv.best_score_)"
   ]
  },
  {
   "cell_type": "code",
   "execution_count": null,
   "id": "271b3838",
   "metadata": {},
   "outputs": [],
   "source": [
    "cv_results = pd.DataFrame(model_cv.cv_results_)\n",
    "cv_results = cv_results[cv_results['param_alpha']<=500]\n",
    "cv_results"
   ]
  },
  {
   "cell_type": "code",
   "execution_count": null,
   "id": "c0be7872",
   "metadata": {},
   "outputs": [],
   "source": [
    "# plotting mean test and train scoes with alpha \n",
    "cv_results['param_alpha'] = cv_results['param_alpha'].astype('int32')\n",
    "plt.figure(figsize=(16,5))\n",
    "\n",
    "# plotting\n",
    "plt.plot(cv_results['param_alpha'], cv_results['mean_train_score'])\n",
    "plt.plot(cv_results['param_alpha'], cv_results['mean_test_score'])\n",
    "plt.xlabel('alpha')\n",
    "plt.ylabel('Negative Mean Absolute Error')\n",
    "plt.title(\"Negative Mean Absolute Error and alpha\")\n",
    "plt.legend(['train score', 'test score'], loc='upper right')\n",
    "plt.show()"
   ]
  },
  {
   "cell_type": "code",
   "execution_count": null,
   "id": "b5fcd275",
   "metadata": {},
   "outputs": [],
   "source": [
    "# plotting mean test and train scoes with alpha \n",
    "cv_results['param_alpha'] = cv_results['param_alpha'].astype('int32')\n",
    "\n",
    "# plotting\n",
    "plt.figure(figsize=(16,8))\n",
    "plt.plot(cv_results['param_alpha'], cv_results['mean_train_score'])\n",
    "plt.plot(cv_results['param_alpha'], cv_results['mean_test_score'])\n",
    "plt.xlabel('Alpha')\n",
    "plt.ylabel('Negative Mean Absolute Error')\n",
    "plt.title(\"Negative Mean Absolute Error and alpha\")\n",
    "plt.legend(['train score', 'test score'], loc='upper left')\n",
    "plt.xlim(0.0, 0.001)\n",
    "plt.xticks(np.arange(0.0, 0.001, 0.00005))\n",
    "plt.grid(color='black', linestyle='--', linewidth=1)\n",
    "plt.show()"
   ]
  },
  {
   "cell_type": "code",
   "execution_count": null,
   "id": "e9568322",
   "metadata": {},
   "outputs": [],
   "source": [
    "#final lasso model\n",
    "alpha = 0.0001\n",
    "lasso = Lasso(alpha=alpha)\n",
    "lasso.fit(X_train, y_train) "
   ]
  },
  {
   "cell_type": "code",
   "execution_count": null,
   "id": "62657512",
   "metadata": {},
   "outputs": [],
   "source": [
    "np.array(sorted(lasso.coef_, reverse=True))"
   ]
  },
  {
   "cell_type": "code",
   "execution_count": null,
   "id": "662ad742",
   "metadata": {},
   "outputs": [],
   "source": [
    "# R-squared value for train and test for Lasso model\n",
    "print(\"R-squared value\")\n",
    "y_train_pred_lasso = lasso.predict(X_train)\n",
    "print(\"Train: \", r2_score(y_true=y_train, y_pred=y_train_pred_lasso))\n",
    "y_test_pred_lasso = lasso.predict(X_test)\n",
    "print(\"Test: \", r2_score(y_true=y_test, y_pred=y_test_pred_lasso))"
   ]
  },
  {
   "cell_type": "code",
   "execution_count": null,
   "id": "99076f77",
   "metadata": {},
   "outputs": [],
   "source": [
    "# Root mean_squared_error value for train and test for Lasso model\n",
    "print(\"Root mean_squared_error value\")\n",
    "print(\"Train: \", mean_squared_error(y_true=y_train, y_pred=y_train_pred_lasso) ** 0.5)\n",
    "print(\"Test: \", mean_squared_error(y_true=y_test, y_pred=y_test_pred_lasso) ** 0.5)"
   ]
  },
  {
   "cell_type": "code",
   "execution_count": null,
   "id": "6377b50f",
   "metadata": {},
   "outputs": [],
   "source": [
    "residual = y_train - y_train_pred_lasso"
   ]
  },
  {
   "cell_type": "code",
   "execution_count": null,
   "id": "c8fbbf71",
   "metadata": {},
   "outputs": [],
   "source": [
    "sum(residual)"
   ]
  },
  {
   "cell_type": "markdown",
   "id": "01e2d815",
   "metadata": {},
   "source": [
    "#### Normality of Errors:"
   ]
  },
  {
   "cell_type": "code",
   "execution_count": null,
   "id": "bfc3a508",
   "metadata": {},
   "outputs": [],
   "source": [
    "# Plot the histogram of the error terms\n",
    "fig = plt.figure()\n",
    "plt.figure(figsize = (7,4))\n",
    "sns.distplot(residual, bins = 20)\n",
    "fig.suptitle('Error Terms', fontsize = 20) # Plot heading \n",
    "plt.xlabel('Errors', fontsize = 18) # X-label\n",
    "plt.show()"
   ]
  },
  {
   "cell_type": "markdown",
   "id": "423e9905",
   "metadata": {},
   "source": [
    "#### Error are independent of each other:"
   ]
  },
  {
   "cell_type": "code",
   "execution_count": null,
   "id": "f439e29a",
   "metadata": {},
   "outputs": [],
   "source": [
    "sns.scatterplot(y_train,residual) # ploting y_train vs residual\n",
    "plt.plot(y_train,(y_train - y_train), '-r') # ploting a stright line on 0th of y-axis\n",
    "plt.xlabel('Count')\n",
    "plt.ylabel('Residual')\n",
    "plt.show()"
   ]
  },
  {
   "cell_type": "markdown",
   "id": "68a45e84",
   "metadata": {},
   "source": [
    "- We can clearly see that this Lasso model is not volilating all the Assumption of Linear Regression\n",
    "- Error terms should be independent \n",
    "- Error terms should be normally distributed\n",
    "- Sum of Error or Residual is almost 0\n",
    "- Error terms should have equal variance "
   ]
  },
  {
   "cell_type": "markdown",
   "id": "70d26f67",
   "metadata": {},
   "source": [
    "## Ridge VS Lasso after applying LOG\n",
    "### For Ridge: \n",
    "**Alpha: 20**\n",
    "\n",
    "**R-squared value for Ridge**\n",
    "- Train:  0.910\n",
    "- Test:  0.894\n",
    "\n",
    "**mean_squared_error value**\n",
    "- Train:  0.120\n",
    "- Test:  0.129\n",
    "\n",
    "******\n",
    "### For Lasso:\n",
    "**Alpha: 0.0001**\n",
    "\n",
    "**R-squared value**\n",
    "- Train:  0.948\n",
    "- Test:  0.844\n",
    "\n",
    "**mean_squared_error value**\n",
    "- Train:  0.0913\n",
    "- Test:   0.157\n"
   ]
  },
  {
   "cell_type": "code",
   "execution_count": null,
   "id": "c25f7002",
   "metadata": {},
   "outputs": [],
   "source": [
    "model_coef = pd.DataFrame(index=range(len(X_train.columns)))\n",
    "model_coef[\"col\"] = X_train.columns\n",
    "model_coef[\"ridge_cof\"] = ridge.coef_\n",
    "model_coef[\"Abs_ridge_cof\"] = list(np.abs(cof) for cof in ridge.coef_)\n",
    "model_coef[\"lasso_cof\"] = lasso.coef_\n",
    "model_coef[\"Abs_lasso_cof\"] = list(np.abs(cof) for cof in lasso.coef_)"
   ]
  },
  {
   "cell_type": "code",
   "execution_count": null,
   "id": "f78127f9",
   "metadata": {},
   "outputs": [],
   "source": [
    "model_coef.sort_values(by=\"Abs_lasso_cof\", ascending=False)"
   ]
  },
  {
   "cell_type": "markdown",
   "id": "1bf3c6ae",
   "metadata": {},
   "source": [
    "### Getting Ridge coefs:"
   ]
  },
  {
   "cell_type": "code",
   "execution_count": null,
   "id": "a5668b45",
   "metadata": {},
   "outputs": [],
   "source": [
    "ridge_coef = model_coef[[\"col\", \"ridge_cof\", \"Abs_ridge_cof\"]].sort_values(by=\"Abs_ridge_cof\", ascending=False)\n",
    "ridge_coef.head(15)"
   ]
  },
  {
   "cell_type": "markdown",
   "id": "d7c9c6fd",
   "metadata": {},
   "source": [
    "### Top Ten Ridge coefficient are:"
   ]
  },
  {
   "cell_type": "code",
   "execution_count": null,
   "id": "45dd96d6",
   "metadata": {},
   "outputs": [],
   "source": [
    "ridge_coef[[\"col\", \"ridge_cof\"]].reset_index(drop=True).head(10)"
   ]
  },
  {
   "cell_type": "markdown",
   "id": "1a874055",
   "metadata": {},
   "source": [
    "### Getting Lasso coefs:"
   ]
  },
  {
   "cell_type": "code",
   "execution_count": null,
   "id": "6be308c5",
   "metadata": {},
   "outputs": [],
   "source": [
    "lasso_coef = model_coef[[\"col\", \"lasso_cof\", \"Abs_lasso_cof\"]].sort_values(by=\"Abs_lasso_cof\", ascending=False)\n",
    "lasso_coef.head(15)"
   ]
  },
  {
   "cell_type": "markdown",
   "id": "458cd846",
   "metadata": {},
   "source": [
    "### Top Ten Lasso coefficient are:"
   ]
  },
  {
   "cell_type": "code",
   "execution_count": null,
   "id": "1329b1be",
   "metadata": {},
   "outputs": [],
   "source": [
    "lasso_coef[[\"col\", \"lasso_cof\"]].reset_index(drop=True).head(10)"
   ]
  },
  {
   "cell_type": "markdown",
   "id": "b2c4c869",
   "metadata": {},
   "source": [
    "## Model C: Log on SalePrice with StandardScaler()"
   ]
  },
  {
   "cell_type": "code",
   "execution_count": null,
   "id": "a62d1402",
   "metadata": {},
   "outputs": [],
   "source": [
    "# reshaping the y_train to the matrix of (-1,1)\n",
    "y_train = np.array(y_train)\n",
    "y_train = y_train.reshape(-1, 1)\n",
    "y_train.shape"
   ]
  },
  {
   "cell_type": "code",
   "execution_count": null,
   "id": "2aa54d68",
   "metadata": {},
   "outputs": [],
   "source": [
    "# Scaling the data for y_train\n",
    "scaler1 = StandardScaler()\n",
    "y_train = scaler1.fit_transform(y_train)"
   ]
  },
  {
   "cell_type": "code",
   "execution_count": null,
   "id": "1999fe12",
   "metadata": {},
   "outputs": [],
   "source": [
    "y_train1 = pd.DataFrame(y_train)\n",
    "y_train1.describe()"
   ]
  },
  {
   "cell_type": "code",
   "execution_count": null,
   "id": "e8045b5b",
   "metadata": {},
   "outputs": [],
   "source": [
    "# reshaping the y_train to the matrix of (-1) or to its original shape\n",
    "y_train = y_train.reshape(-1)\n",
    "y_train.shape"
   ]
  },
  {
   "cell_type": "code",
   "execution_count": null,
   "id": "2eab4704",
   "metadata": {},
   "outputs": [],
   "source": [
    "# reshaping the y_test to the matrix of (-1,1)\n",
    "y_test = np.array(y_test)\n",
    "y_test = y_test.reshape(-1, 1)\n",
    "y_test.shape"
   ]
  },
  {
   "cell_type": "code",
   "execution_count": null,
   "id": "fb71dfa5",
   "metadata": {},
   "outputs": [],
   "source": [
    "# Scaling the data for y_test\n",
    "y_test = scaler1.transform(y_test)"
   ]
  },
  {
   "cell_type": "code",
   "execution_count": null,
   "id": "593891ce",
   "metadata": {},
   "outputs": [],
   "source": [
    "y_test1 = pd.DataFrame(y_test)\n",
    "y_test1.describe()"
   ]
  },
  {
   "cell_type": "code",
   "execution_count": null,
   "id": "35dae4a9",
   "metadata": {},
   "outputs": [],
   "source": [
    "# reshaping the y_test to the matrix of (-1) or to its original shape\n",
    "y_test = y_test.reshape(-1)\n",
    "y_test.shape"
   ]
  },
  {
   "cell_type": "code",
   "execution_count": null,
   "id": "8edc3a93",
   "metadata": {},
   "outputs": [],
   "source": [
    "# checking the distribution plot for y_train\n",
    "plt.figure(figsize=(7,4))\n",
    "sns.distplot(y_train)\n",
    "plt.show()"
   ]
  },
  {
   "cell_type": "code",
   "execution_count": null,
   "id": "d495dbee",
   "metadata": {},
   "outputs": [],
   "source": [
    "# checking the distribution plot for y_test\n",
    "plt.figure(figsize=(7,4))\n",
    "sns.distplot(y_test)\n",
    "plt.show()"
   ]
  },
  {
   "cell_type": "markdown",
   "id": "03dfeb2a",
   "metadata": {},
   "source": [
    "## Model C1 (linear model)"
   ]
  },
  {
   "cell_type": "code",
   "execution_count": null,
   "id": "6dbba5ec",
   "metadata": {},
   "outputs": [],
   "source": [
    "# Adding a constant variable to X_train_rfe\n",
    "X_train_rfe = sm.add_constant(X_train_rfe)\n",
    "# fitting y_train and X_train_rfe to api \n",
    "model = sm.OLS(y_train,X_train_rfe).fit()   # Running the linear model\n",
    "\n",
    "#Let's see the summary of our linear model\n",
    "print(model.summary())"
   ]
  },
  {
   "cell_type": "code",
   "execution_count": null,
   "id": "681f646e",
   "metadata": {},
   "outputs": [],
   "source": [
    "# Removing const from X_train_rfe\n",
    "X_train_rfe = X_train_rfe.drop(['const'], axis=1)"
   ]
  },
  {
   "cell_type": "code",
   "execution_count": null,
   "id": "34ec89fd",
   "metadata": {},
   "outputs": [],
   "source": [
    "# Printing VIF values \n",
    "vif = pd.DataFrame()\n",
    "X = X_train_rfe\n",
    "vif['Features'] = X.columns\n",
    "vif['VIF'] = [variance_inflation_factor(X.values, i) for i in range(X.shape[1])]\n",
    "vif['VIF'] = round(vif['VIF'], 2)\n",
    "vif = vif.sort_values(by = \"VIF\", ascending = False)\n",
    "vif"
   ]
  },
  {
   "cell_type": "code",
   "execution_count": null,
   "id": "668d9be2",
   "metadata": {},
   "outputs": [],
   "source": [
    "# Adding a constant variable to X_train_rfe\n",
    "X_train_rfe = sm.add_constant(X_train_rfe)\n",
    "# Predicting the X_train_rfe data to get y_train_predict\n",
    "y_train_predict_linear = model.predict(X_train_rfe)"
   ]
  },
  {
   "cell_type": "code",
   "execution_count": null,
   "id": "7d7eed92",
   "metadata": {},
   "outputs": [],
   "source": [
    "residual = y_train - y_train_predict_linear"
   ]
  },
  {
   "cell_type": "code",
   "execution_count": null,
   "id": "3c67b642",
   "metadata": {},
   "outputs": [],
   "source": [
    "sum(residual)"
   ]
  },
  {
   "cell_type": "markdown",
   "id": "0b69f76f",
   "metadata": {},
   "source": [
    "#### Normality of Errors:"
   ]
  },
  {
   "cell_type": "code",
   "execution_count": null,
   "id": "7cc903fc",
   "metadata": {},
   "outputs": [],
   "source": [
    "# Plot the histogram of the error terms\n",
    "fig = plt.figure()\n",
    "plt.figure(figsize = (7,4))\n",
    "sns.distplot(residual, bins = 20)\n",
    "fig.suptitle('Error Terms', fontsize = 20) # Plot heading \n",
    "plt.xlabel('Errors', fontsize = 18) # X-label\n",
    "plt.show()"
   ]
  },
  {
   "cell_type": "markdown",
   "id": "04e63207",
   "metadata": {},
   "source": [
    "#### Error are independent of each other:"
   ]
  },
  {
   "cell_type": "code",
   "execution_count": null,
   "id": "3d038be1",
   "metadata": {},
   "outputs": [],
   "source": [
    "sns.scatterplot(y_train,residual) # ploting y_train vs residual\n",
    "plt.plot(y_train,(y_train - y_train), '-r') # ploting a stright line on 0th of y-axis\n",
    "plt.xlabel('Count')\n",
    "plt.ylabel('Residual')\n",
    "plt.show()"
   ]
  },
  {
   "cell_type": "markdown",
   "id": "dddc323a",
   "metadata": {},
   "source": [
    "- We can clearly see that this linear model is volilating all the Assumption of Linear Regression\n",
    "- Error terms should be independent \n",
    "- Error terms should be normally distributed \n",
    "- Error terms should have equal variance \n",
    "- This indicates non linearitry is present and also it shows high VIF(multicolinearity) \n",
    "- We have to use either Ridge or Lasso"
   ]
  },
  {
   "cell_type": "code",
   "execution_count": null,
   "id": "9050319a",
   "metadata": {},
   "outputs": [],
   "source": [
    "# R-squared value for train and test\n",
    "print(\"R-squared value\")\n",
    "print(\"Train: \", r2_score(y_true=y_train, y_pred=y_train_predict_linear))"
   ]
  },
  {
   "cell_type": "markdown",
   "id": "afd8fa3e",
   "metadata": {},
   "source": [
    "## Model C2: Redge Regression"
   ]
  },
  {
   "cell_type": "code",
   "execution_count": null,
   "id": "82337101",
   "metadata": {},
   "outputs": [],
   "source": [
    "# list of alphas to tune\n",
    "params = {'alpha': [0.0001, 0.001, 0.01, 0.05, 0.1, \n",
    " 0.2, 0.3, 0.4, 0.5, 0.6, 0.7, 0.8, 0.9, 1.0, 2.0, 3.0, \n",
    " 4.0, 5.0, 6.0, 7.0, 8.0, 9.0, 10.0, 20, 30, 40, 50, 60, 70, 100, 500, 1000]}\n",
    "\n",
    "ridge = Ridge()\n",
    "# Cross Validation\n",
    "folds = 7\n",
    "model_cv = GridSearchCV(estimator = ridge, \n",
    "                        param_grid = params, \n",
    "                        scoring= 'neg_mean_absolute_error', \n",
    "                        cv = folds, \n",
    "                        return_train_score=True,\n",
    "                        verbose = 1)            \n",
    "model_cv.fit(X_train, y_train)"
   ]
  },
  {
   "cell_type": "code",
   "execution_count": null,
   "id": "f7b00bc9",
   "metadata": {},
   "outputs": [],
   "source": [
    "# checking the value of optimum number of parameters\n",
    "print(model_cv.best_params_)\n",
    "print(model_cv.best_score_)"
   ]
  },
  {
   "cell_type": "code",
   "execution_count": null,
   "id": "657f61a2",
   "metadata": {},
   "outputs": [],
   "source": [
    "cv_results = pd.DataFrame(model_cv.cv_results_)\n",
    "cv_results = cv_results[cv_results['param_alpha']<=500]\n",
    "cv_results"
   ]
  },
  {
   "cell_type": "code",
   "execution_count": null,
   "id": "32d0df60",
   "metadata": {},
   "outputs": [],
   "source": [
    "cv_results.columns"
   ]
  },
  {
   "cell_type": "code",
   "execution_count": null,
   "id": "4fbde070",
   "metadata": {},
   "outputs": [],
   "source": [
    "# plotting mean test and train scoes with alpha \n",
    "cv_results['param_alpha'] = cv_results['param_alpha'].astype('int32')\n",
    "plt.figure(figsize=(16,5))\n",
    "\n",
    "# plotting\n",
    "plt.plot(cv_results['param_alpha'], cv_results['mean_train_score'])\n",
    "plt.plot(cv_results['param_alpha'], cv_results['mean_test_score'])\n",
    "plt.xlabel('alpha')\n",
    "plt.ylabel('Negative Mean Absolute Error')\n",
    "plt.title(\"Negative Mean Absolute Error and alpha\")\n",
    "plt.legend(['train score', 'test score'], loc='upper right')\n",
    "plt.show()"
   ]
  },
  {
   "cell_type": "code",
   "execution_count": null,
   "id": "23084cc3",
   "metadata": {},
   "outputs": [],
   "source": [
    "# plotting mean test and train scoes with alpha \n",
    "cv_results['param_alpha'] = cv_results['param_alpha'].astype('int32')\n",
    "\n",
    "# plotting\n",
    "plt.figure(figsize=(16,8))\n",
    "plt.plot(cv_results['param_alpha'], cv_results['mean_train_score'])\n",
    "plt.plot(cv_results['param_alpha'], cv_results['mean_test_score'])\n",
    "plt.xlabel('Alpha')\n",
    "plt.ylabel('Negative Mean Absolute Error')\n",
    "plt.title(\"Negative Mean Absolute Error and alpha\")\n",
    "plt.legend(['train score', 'test score'], loc='upper left')\n",
    "plt.xlim(0, 100)\n",
    "plt.xticks(np.arange(0, 100, 5))\n",
    "plt.grid(color='black', linestyle='--', linewidth=1)\n",
    "plt.show()"
   ]
  },
  {
   "cell_type": "code",
   "execution_count": null,
   "id": "413b3a06",
   "metadata": {},
   "outputs": [],
   "source": [
    "# Final ridge model with alpha as 20 but with log we get same alpha\n",
    "\n",
    "ridge = Ridge(alpha=20)\n",
    "ridge.fit(X_train, y_train)"
   ]
  },
  {
   "cell_type": "code",
   "execution_count": null,
   "id": "277efc2f",
   "metadata": {},
   "outputs": [],
   "source": [
    "np.array(sorted(ridge.coef_, reverse=True))"
   ]
  },
  {
   "cell_type": "code",
   "execution_count": null,
   "id": "0425797e",
   "metadata": {},
   "outputs": [],
   "source": [
    "# R-squared value for train and test\n",
    "print(\"R-squared value\")\n",
    "y_train_pred_ridge = ridge.predict(X_train)\n",
    "print(\"Train: \", r2_score(y_true=y_train, y_pred=y_train_pred_ridge))\n",
    "y_test_pred_ridge = ridge.predict(X_test)\n",
    "print(\"Test: \", r2_score(y_true=y_test, y_pred=y_test_pred_ridge))"
   ]
  },
  {
   "cell_type": "code",
   "execution_count": null,
   "id": "0890eb62",
   "metadata": {},
   "outputs": [],
   "source": [
    "# Root mean_squared_error value for train and test\n",
    "print(\"mean_squared_error value\")\n",
    "print(\"Train: \", mean_squared_error(y_true=y_train, y_pred=y_train_pred_ridge) ** 0.5)\n",
    "print(\"Test: \", mean_squared_error(y_true=y_test, y_pred=y_test_pred_ridge) ** 0.5)"
   ]
  },
  {
   "cell_type": "code",
   "execution_count": null,
   "id": "44980bdd",
   "metadata": {},
   "outputs": [],
   "source": [
    "residual = y_train - y_train_pred_ridge"
   ]
  },
  {
   "cell_type": "code",
   "execution_count": null,
   "id": "db797c76",
   "metadata": {},
   "outputs": [],
   "source": [
    "sum(residual)"
   ]
  },
  {
   "cell_type": "markdown",
   "id": "b769fcf1",
   "metadata": {},
   "source": [
    "#### Normality of Errors:"
   ]
  },
  {
   "cell_type": "code",
   "execution_count": null,
   "id": "244217b8",
   "metadata": {},
   "outputs": [],
   "source": [
    "# Plot the histogram of the error terms\n",
    "fig = plt.figure()\n",
    "plt.figure(figsize = (7,4))\n",
    "sns.distplot(residual, bins = 20)\n",
    "fig.suptitle('Error Terms', fontsize = 20)                  # Plot heading \n",
    "plt.xlabel('Errors', fontsize = 18)                         # X-label\n",
    "plt.show()"
   ]
  },
  {
   "cell_type": "markdown",
   "id": "278730d0",
   "metadata": {},
   "source": [
    "#### Error are independent of each other:"
   ]
  },
  {
   "cell_type": "code",
   "execution_count": null,
   "id": "0d22e876",
   "metadata": {},
   "outputs": [],
   "source": [
    "sns.scatterplot(y_train,residual) # ploting y_train vs residual\n",
    "plt.plot(y_train,(y_train - y_train), '-r') # ploting a stright line on 0th of y-axis\n",
    "plt.xlabel('Count')\n",
    "plt.ylabel('Residual')\n",
    "plt.show()"
   ]
  },
  {
   "cell_type": "markdown",
   "id": "220e589a",
   "metadata": {},
   "source": [
    "- We can clearly see that this Ridge model is **not volilating** all the Assumption of Linear Regression\n",
    "- Error terms should be independent \n",
    "- Error terms should be normally distributed\n",
    "- Sum of Error or Residual is almost 0. \n",
    "- Error terms should have equal variance "
   ]
  },
  {
   "cell_type": "markdown",
   "id": "69627f82",
   "metadata": {},
   "source": [
    "## Model C3: Lasso Regression"
   ]
  },
  {
   "cell_type": "code",
   "execution_count": null,
   "id": "ee73b859",
   "metadata": {},
   "outputs": [],
   "source": [
    "lasso = Lasso()\n",
    "\n",
    "# list of alphas to tune\n",
    "params = {'alpha': [0.00001,0.00008,0.00009, 0.0001, 0.0002, 0.0003,0.0004, 0.0005, 0.0006, 0.0007, 0.0008, \n",
    "0.001, 0.01, 0.05, 0.1, 0.2, 0.3, 0.4, 0.5, 0.6, 0.7, 0.8, 0.9, 1.0, 2.0, 3.0, \n",
    " 4.0, 5.0, 6.0, 7.0, 8.0, 9.0, 10.0, 20, 30, 40, 50, 60, 70, 100, 500, 1000]}\n",
    "# cross validation\n",
    "model_cv = GridSearchCV(estimator = lasso, \n",
    "                        param_grid = params, \n",
    "                        scoring= 'neg_mean_absolute_error', \n",
    "                        cv = folds, \n",
    "                        return_train_score=True,\n",
    "                        verbose = 1)            \n",
    "\n",
    "model_cv.fit(X_train, y_train) "
   ]
  },
  {
   "cell_type": "code",
   "execution_count": null,
   "id": "75ca940e",
   "metadata": {},
   "outputs": [],
   "source": [
    "# checking the value of optimum number of parameters\n",
    "print(model_cv.best_params_)\n",
    "print(model_cv.best_score_)"
   ]
  },
  {
   "cell_type": "code",
   "execution_count": null,
   "id": "cb6cc780",
   "metadata": {},
   "outputs": [],
   "source": [
    "cv_results = pd.DataFrame(model_cv.cv_results_)\n",
    "cv_results = cv_results[cv_results['param_alpha']<=500]\n",
    "cv_results"
   ]
  },
  {
   "cell_type": "code",
   "execution_count": null,
   "id": "84166200",
   "metadata": {},
   "outputs": [],
   "source": [
    "# plotting mean test and train scoes with alpha \n",
    "cv_results['param_alpha'] = cv_results['param_alpha'].astype('int32')\n",
    "plt.figure(figsize=(16,5))\n",
    "\n",
    "# plotting\n",
    "plt.plot(cv_results['param_alpha'], cv_results['mean_train_score'])\n",
    "plt.plot(cv_results['param_alpha'], cv_results['mean_test_score'])\n",
    "plt.xlabel('alpha')\n",
    "plt.ylabel('Negative Mean Absolute Error')\n",
    "plt.title(\"Negative Mean Absolute Error and alpha\")\n",
    "plt.legend(['train score', 'test score'], loc='upper right')\n",
    "plt.show()"
   ]
  },
  {
   "cell_type": "code",
   "execution_count": null,
   "id": "3eb231d5",
   "metadata": {},
   "outputs": [],
   "source": [
    "# plotting mean test and train scoes with alpha \n",
    "cv_results['param_alpha'] = cv_results['param_alpha'].astype('int32')\n",
    "\n",
    "# plotting\n",
    "plt.figure(figsize=(16,8))\n",
    "plt.plot(cv_results['param_alpha'], cv_results['mean_train_score'])\n",
    "plt.plot(cv_results['param_alpha'], cv_results['mean_test_score'])\n",
    "plt.xlabel('Alpha')\n",
    "plt.ylabel('Negative Mean Absolute Error')\n",
    "plt.title(\"Negative Mean Absolute Error and alpha\")\n",
    "plt.legend(['train score', 'test score'], loc='upper left')\n",
    "plt.xlim(0.0, 0.001)\n",
    "plt.xticks(np.arange(0.0, 0.001, 0.00005))\n",
    "plt.grid(color='black', linestyle='--', linewidth=1)\n",
    "plt.show()"
   ]
  },
  {
   "cell_type": "code",
   "execution_count": null,
   "id": "a10e64b6",
   "metadata": {},
   "outputs": [],
   "source": [
    "#final lasso model\n",
    "alpha = 0.0003\n",
    "lasso = Lasso(alpha=alpha)\n",
    "lasso.fit(X_train, y_train) "
   ]
  },
  {
   "cell_type": "code",
   "execution_count": null,
   "id": "2f9b3f51",
   "metadata": {},
   "outputs": [],
   "source": [
    "# R-squared value for train and test for Lasso model\n",
    "print(\"R-squared value\")\n",
    "y_train_pred_lasso = lasso.predict(X_train)\n",
    "print(\"Train: \", r2_score(y_true=y_train, y_pred=y_train_pred_lasso))\n",
    "y_test_pred_lasso = lasso.predict(X_test)\n",
    "print(\"Test: \", r2_score(y_true=y_test, y_pred=y_test_pred_lasso))"
   ]
  },
  {
   "cell_type": "code",
   "execution_count": null,
   "id": "f8ee4a88",
   "metadata": {},
   "outputs": [],
   "source": [
    "# Root mean_squared_error value for train and test for Lasso model\n",
    "print(\"Root mean_squared_error value\")\n",
    "print(\"Train: \", mean_squared_error(y_true=y_train, y_pred=y_train_pred_lasso) ** 0.5)\n",
    "print(\"Test: \", mean_squared_error(y_true=y_test, y_pred=y_test_pred_lasso) ** 0.5)"
   ]
  },
  {
   "cell_type": "code",
   "execution_count": null,
   "id": "a7001b28",
   "metadata": {},
   "outputs": [],
   "source": [
    "residual = y_train - y_train_pred_lasso"
   ]
  },
  {
   "cell_type": "code",
   "execution_count": null,
   "id": "07197f8c",
   "metadata": {},
   "outputs": [],
   "source": [
    "sum(residual)"
   ]
  },
  {
   "cell_type": "markdown",
   "id": "e197b65e",
   "metadata": {},
   "source": [
    "#### Normality of Errors:"
   ]
  },
  {
   "cell_type": "code",
   "execution_count": null,
   "id": "65e1fc06",
   "metadata": {},
   "outputs": [],
   "source": [
    "# Plot the histogram of the error terms\n",
    "fig = plt.figure()\n",
    "plt.figure(figsize = (7,4))\n",
    "sns.distplot(residual, bins = 20)\n",
    "fig.suptitle('Error Terms', fontsize = 20) # Plot heading \n",
    "plt.xlabel('Errors', fontsize = 18) # X-label\n",
    "plt.show()"
   ]
  },
  {
   "cell_type": "markdown",
   "id": "55825efc",
   "metadata": {},
   "source": [
    "#### Error are independent of each other:"
   ]
  },
  {
   "cell_type": "code",
   "execution_count": null,
   "id": "766d3fef",
   "metadata": {},
   "outputs": [],
   "source": [
    "sns.scatterplot(y_train,residual) # ploting y_train vs residual\n",
    "plt.plot(y_train,(y_train - y_train), '-r') # ploting a stright line on 0th of y-axis\n",
    "plt.xlabel('Count')\n",
    "plt.ylabel('Residual')\n",
    "plt.show()"
   ]
  },
  {
   "cell_type": "markdown",
   "id": "b56ae1fc",
   "metadata": {},
   "source": [
    "- Here we can clearly see that this Lasso model is **not volilating** all the Assumption of Linear Regression\n",
    "- Error terms should be independent \n",
    "- Error terms should be normally distributed\n",
    "- Sum of Error or Residual is almost 0. \n",
    "- Error terms should have equal variance "
   ]
  },
  {
   "cell_type": "markdown",
   "id": "dca3c970",
   "metadata": {},
   "source": [
    "## Ridge VS Lasso after applying LOG\n",
    "### For Ridge: \n",
    "**Alpha: 20**\n",
    "\n",
    "**R-squared value for Ridge**\n",
    "- Train:  0.911\n",
    "- Test:  0.894\n",
    "\n",
    "**mean_squared_error value**\n",
    "- Train:  0.299\n",
    "- Test:  0.322\n",
    "\n",
    "******\n",
    "### For Lasso:\n",
    "**Alpha: 0.0003**\n",
    "\n",
    "**R-squared value**\n",
    "- Train:  0.945\n",
    "- Test:   0.857\n",
    "\n",
    "**mean_squared_error value**\n",
    "- Train:  0.235\n",
    "- Test:   0.375\n"
   ]
  },
  {
   "cell_type": "code",
   "execution_count": null,
   "id": "484e9010",
   "metadata": {},
   "outputs": [],
   "source": [
    "model_coef = pd.DataFrame(index=range(len(X_train.columns)))\n",
    "model_coef[\"col\"] = X_train.columns\n",
    "model_coef[\"ridge_cof\"] = ridge.coef_\n",
    "model_coef[\"Abs_ridge_cof\"] = list(np.abs(cof) for cof in ridge.coef_)\n",
    "model_coef[\"lasso_cof\"] = lasso.coef_\n",
    "model_coef[\"Abs_lasso_cof\"] = list(np.abs(cof) for cof in lasso.coef_)"
   ]
  },
  {
   "cell_type": "code",
   "execution_count": null,
   "id": "4d11c5f7",
   "metadata": {},
   "outputs": [],
   "source": [
    "model_coef.sort_values(by=\"Abs_lasso_cof\", ascending=False)"
   ]
  },
  {
   "cell_type": "markdown",
   "id": "9bddd628",
   "metadata": {},
   "source": [
    "### Getting Ridge coefs:"
   ]
  },
  {
   "cell_type": "code",
   "execution_count": null,
   "id": "f7d28cfc",
   "metadata": {},
   "outputs": [],
   "source": [
    "ridge_coef = model_coef[[\"col\", \"ridge_cof\", \"Abs_ridge_cof\"]].sort_values(by=\"Abs_ridge_cof\", ascending=False)\n",
    "ridge_coef.head(15)"
   ]
  },
  {
   "cell_type": "markdown",
   "id": "fbacbdf2",
   "metadata": {},
   "source": [
    "### Top Ten Ridge coefficient are:"
   ]
  },
  {
   "cell_type": "code",
   "execution_count": null,
   "id": "cd3581bb",
   "metadata": {},
   "outputs": [],
   "source": [
    "ridge_coef[[\"col\", \"ridge_cof\"]].reset_index(drop=True).head(10)"
   ]
  },
  {
   "cell_type": "markdown",
   "id": "724fa254",
   "metadata": {},
   "source": [
    "### Getting Lasso coefs:"
   ]
  },
  {
   "cell_type": "code",
   "execution_count": null,
   "id": "3dc6fc96",
   "metadata": {},
   "outputs": [],
   "source": [
    "lasso_coef = model_coef[[\"col\", \"lasso_cof\", \"Abs_lasso_cof\"]].sort_values(by=\"Abs_lasso_cof\", ascending=False)\n",
    "lasso_coef.head(15)"
   ]
  },
  {
   "cell_type": "markdown",
   "id": "aa6fbdf5",
   "metadata": {},
   "source": [
    "### Top Ten Lasso coefficient are:"
   ]
  },
  {
   "cell_type": "code",
   "execution_count": null,
   "id": "d7e4aa9a",
   "metadata": {},
   "outputs": [],
   "source": [
    "lasso_coef[[\"col\", \"lasso_cof\"]].reset_index(drop=True).head(10)"
   ]
  },
  {
   "cell_type": "markdown",
   "id": "74cdfcf7",
   "metadata": {},
   "source": [
    "## Model Conclusion\n",
    "\n",
    "\n",
    "We can clearly say observed that Model C preformed the best and we will go with model C\n",
    "\n",
    "\n",
    "## 15 Significant Attributes Required in Predicting the Price of a House\n",
    "\n",
    "1. BsmtFinType2\n",
    "2. LotArea\n",
    "3. ExterQual\n",
    "4. Exterior1st_BrkComm\n",
    "5. Foundation_Wood\n",
    "6. Exterior2nd_Wd Shng\n",
    "7. LandSlope \n",
    "8. LotShape\n",
    "9. Foundation_Slab\n",
    "10. HeatingQC\n",
    "11. OverallQual\n",
    "12. BsmtCond\n",
    "13. Exterior1st_AsphShn\n",
    "14. PoolArea\n",
    "15. Exterior1st_CBlock"
   ]
  }
 ],
 "metadata": {
  "kernelspec": {
   "display_name": "Python 3",
   "language": "python",
   "name": "python3"
  },
  "language_info": {
   "codemirror_mode": {
    "name": "ipython",
    "version": 3
   },
   "file_extension": ".py",
   "mimetype": "text/x-python",
   "name": "python",
   "nbconvert_exporter": "python",
   "pygments_lexer": "ipython3",
   "version": "3.8.8"
  }
 },
 "nbformat": 4,
 "nbformat_minor": 5
}
